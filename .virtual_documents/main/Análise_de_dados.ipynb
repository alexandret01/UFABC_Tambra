


import pandas as pd
import numpy as np
import seaborn as sns
import matplotlib.pyplot as plt
from sklearn.metrics import (
    mean_absolute_error,
    mean_squared_error,
    r2_score
)
from datetime import datetime
import tensorflow as tf





df_sf = pd.read_csv(r'/home/alexandre/Downloads/UFABC_Tambra/Dados/SoftFailure_dataset.csv')








df_sf['Timestamp_s'] = pd.to_datetime(df_sf.Timestamp,unit='s')#[[0]]
df_sf['Timestamp_data'] = df_sf['Timestamp_s'].astype(str).str.split(expand=True)[0]
df_sf['Timestamp_hora'] = df_sf['Timestamp_s'].astype(str).str.split(expand=True)[1]





df_sf.Failure = df_sf.Failure.replace(np.NaN,0).astype(int)





df_sf.head()


df_sf.info()


df_sf.describe()


df_sf.corr(numeric_only=True)


df_sf.Type.unique()


df_sf.ID.unique()









