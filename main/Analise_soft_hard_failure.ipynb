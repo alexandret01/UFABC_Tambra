{
 "cells": [
  {
   "metadata": {},
   "cell_type": "markdown",
   "source": "### Bibliotecas\n",
   "id": "2d6a1b82a0e1722e"
  },
  {
   "cell_type": "code",
   "id": "initial_id",
   "metadata": {
    "collapsed": true,
    "ExecuteTime": {
     "end_time": "2025-10-25T18:43:03.766044Z",
     "start_time": "2025-10-25T18:43:03.762895Z"
    }
   },
   "source": [
    "import pandas as pd\n",
    "import numpy as np\n",
    "import seaborn as sns"
   ],
   "outputs": [],
   "execution_count": 51
  },
  {
   "metadata": {},
   "cell_type": "markdown",
   "source": "### Carregando Dados",
   "id": "4862101fb3395d33"
  },
  {
   "metadata": {
    "ExecuteTime": {
     "end_time": "2025-10-25T17:33:46.671134Z",
     "start_time": "2025-10-25T17:33:46.587318Z"
    }
   },
   "cell_type": "code",
   "source": [
    "df_sf = pd.read_csv(r'D:\\Projetos\\UFABC\\UFABC_Tambra\\Dados\\SoftFailure_dataset.csv')\n",
    "df_hd = pd.read_csv(r'D:\\Projetos\\UFABC\\UFABC_Tambra\\Dados\\HardFailure_dataset.csv')"
   ],
   "id": "25d8a5a2a2609aeb",
   "outputs": [],
   "execution_count": 2
  },
  {
   "metadata": {},
   "cell_type": "markdown",
   "source": "### Preparação dos dados",
   "id": "5015dc9e2d5f83e2"
  },
  {
   "metadata": {
    "ExecuteTime": {
     "end_time": "2025-10-25T17:37:01.847073Z",
     "start_time": "2025-10-25T17:37:01.844706Z"
    }
   },
   "cell_type": "markdown",
   "source": "#### Junção DFS",
   "id": "2d2ccab411013134"
  },
  {
   "metadata": {
    "ExecuteTime": {
     "end_time": "2025-10-25T17:37:00.120514Z",
     "start_time": "2025-10-25T17:37:00.117490Z"
    }
   },
   "cell_type": "code",
   "source": [
    "# Criando classiicação\n",
    "\n",
    "df_sf['Base'] =  'SOFT'\n",
    "df_hd['Base'] = 'HARD'"
   ],
   "id": "ff9dfc71626d36da",
   "outputs": [],
   "execution_count": 7
  },
  {
   "metadata": {
    "ExecuteTime": {
     "end_time": "2025-10-25T18:03:59.803066Z",
     "start_time": "2025-10-25T18:03:59.788100Z"
    }
   },
   "cell_type": "code",
   "source": "df_fail = pd.concat([df_sf, df_hd], ignore_index=True)",
   "id": "78a2f996707b047d",
   "outputs": [],
   "execution_count": 28
  },
  {
   "metadata": {},
   "cell_type": "markdown",
   "source": "#### Conversão para datetime",
   "id": "7591b4abfaf74bc7"
  },
  {
   "metadata": {
    "ExecuteTime": {
     "end_time": "2025-10-25T18:04:01.371395Z",
     "start_time": "2025-10-25T18:04:00.920006Z"
    }
   },
   "cell_type": "code",
   "source": [
    "df_fail['Timestamp_s'] = pd.to_datetime(df_fail.Timestamp,unit='s')#[[0]]\n",
    "df_fail['Timestamp_data'] = df_fail['Timestamp_s'].astype(str).str.split(expand=True)[0]\n",
    "df_fail['Timestamp_hora'] = df_fail['Timestamp_s'].astype(str).str.split(expand=True)[1]"
   ],
   "id": "2e9c71c5a36ec2e8",
   "outputs": [],
   "execution_count": 29
  },
  {
   "metadata": {},
   "cell_type": "markdown",
   "source": "#### Replice Failure - NaN = 0\n",
   "id": "c6945d3830447b57"
  },
  {
   "metadata": {
    "ExecuteTime": {
     "end_time": "2025-10-25T18:04:02.919720Z",
     "start_time": "2025-10-25T18:04:02.916037Z"
    }
   },
   "cell_type": "code",
   "source": "df_fail.Failure = df_fail.Failure.replace(np.nan,0).astype(int)",
   "id": "59b01b8bc0486ad4",
   "outputs": [],
   "execution_count": 30
  },
  {
   "metadata": {},
   "cell_type": "markdown",
   "source": "### Interpolação - Tratamento de NaN nas Features Numéricas",
   "id": "2f656dbee9cd937e"
  },
  {
   "metadata": {
    "ExecuteTime": {
     "end_time": "2025-10-25T18:04:04.824843Z",
     "start_time": "2025-10-25T18:04:04.794838Z"
    }
   },
   "cell_type": "code",
   "source": [
    "# Para dados de série temporal, a interpolação é uma ótima estratégia.\n",
    "# Ela preenche os valores ausentes com base nos valores vizinhos.\n",
    "# Primeiro, vamos ordenar o DataFrame pelo tempo para garantir que a interpolação funcione corretamente.\n",
    "df_fail = df_fail.sort_values(by='Timestamp').reset_index(drop=True)"
   ],
   "id": "2886a1d46c8c7382",
   "outputs": [],
   "execution_count": 31
  },
  {
   "metadata": {
    "ExecuteTime": {
     "end_time": "2025-10-25T18:04:06.280800Z",
     "start_time": "2025-10-25T18:04:06.248930Z"
    }
   },
   "cell_type": "code",
   "source": [
    "#### O pandas pode preencher os valores ausentes estimando o que eles deveriam ser com base nos valores vizinhos (anteriores e posteriores).\n",
    "\n",
    "features_numericas = ['BER', 'OSNR', 'InputPower', 'OutputPower']\n",
    "df_fail[features_numericas] = df_fail[features_numericas].interpolate(method='linear')"
   ],
   "id": "39f0215fa8098743",
   "outputs": [],
   "execution_count": 32
  },
  {
   "metadata": {
    "ExecuteTime": {
     "end_time": "2025-10-25T18:04:07.566212Z",
     "start_time": "2025-10-25T18:04:07.561790Z"
    }
   },
   "cell_type": "code",
   "source": [
    "df_fail.InputPower = df_fail.InputPower.replace(np.nan,0)\n",
    "df_fail.OutputPower = df_fail.OutputPower.replace(np.nan,0)"
   ],
   "id": "831476a6afc13758",
   "outputs": [],
   "execution_count": 33
  },
  {
   "metadata": {},
   "cell_type": "markdown",
   "source": "### Exploração dos dados",
   "id": "c6a234399c60e8d5"
  },
  {
   "metadata": {
    "ExecuteTime": {
     "end_time": "2025-10-25T18:05:01.826422Z",
     "start_time": "2025-10-25T18:05:01.817916Z"
    }
   },
   "cell_type": "code",
   "source": "df_fail",
   "id": "1e332d91d7d54300",
   "outputs": [
    {
     "data": {
      "text/plain": [
       "         Timestamp            Type          ID           BER       OSNR  \\\n",
       "0       1623394634         Devices  SPO1/18/11  2.280000e-08  38.500000   \n",
       "1       1623394635         Devices  SPO2/18/11  8.730000e-07  23.500000   \n",
       "2       1623394635  Infrastructure      Ampli4  7.303667e-07  26.016667   \n",
       "3       1623394635  Infrastructure      Ampli3  5.877333e-07  28.533333   \n",
       "4       1623394635  Infrastructure      Ampli2  4.451000e-07  31.050000   \n",
       "...            ...             ...         ...           ...        ...   \n",
       "119425  1624486451  Infrastructure      Ampli4  7.306667e-08  34.300000   \n",
       "119426  1624486451  Infrastructure      Ampli1  1.215333e-07  30.000000   \n",
       "119427  1624486451         Devices  SPO2/18/11  1.700000e-07  25.700000   \n",
       "119428  1624486451  Infrastructure      Ampli3  1.700000e-07  25.700000   \n",
       "119429  1624486451  Infrastructure      Ampli2  1.700000e-07  25.700000   \n",
       "\n",
       "        InputPower  OutputPower  Failure         Timestamp_s Timestamp_data  \\\n",
       "0             0.00         0.00        0 2021-06-11 06:57:14     2021-06-11   \n",
       "1             0.00         0.00        0 2021-06-11 06:57:15     2021-06-11   \n",
       "2           -22.90         0.70        0 2021-06-11 06:57:15     2021-06-11   \n",
       "3           -16.70         0.80        0 2021-06-11 06:57:15     2021-06-11   \n",
       "4           -15.50         0.40        0 2021-06-11 06:57:15     2021-06-11   \n",
       "...            ...          ...      ...                 ...            ...   \n",
       "119425      -22.90         0.70        0 2021-06-23 22:14:11     2021-06-23   \n",
       "119426      -19.20         0.70        0 2021-06-23 22:14:11     2021-06-23   \n",
       "119427      -17.95         0.75        0 2021-06-23 22:14:11     2021-06-23   \n",
       "119428      -16.70         0.80        0 2021-06-23 22:14:11     2021-06-23   \n",
       "119429      -15.50         0.40        0 2021-06-23 22:14:11     2021-06-23   \n",
       "\n",
       "       Timestamp_hora  Base  \n",
       "0            06:57:14  HARD  \n",
       "1            06:57:15  HARD  \n",
       "2            06:57:15  HARD  \n",
       "3            06:57:15  HARD  \n",
       "4            06:57:15  HARD  \n",
       "...               ...   ...  \n",
       "119425       22:14:11  SOFT  \n",
       "119426       22:14:11  SOFT  \n",
       "119427       22:14:11  SOFT  \n",
       "119428       22:14:11  SOFT  \n",
       "119429       22:14:11  SOFT  \n",
       "\n",
       "[119430 rows x 12 columns]"
      ],
      "text/html": [
       "<div>\n",
       "<style scoped>\n",
       "    .dataframe tbody tr th:only-of-type {\n",
       "        vertical-align: middle;\n",
       "    }\n",
       "\n",
       "    .dataframe tbody tr th {\n",
       "        vertical-align: top;\n",
       "    }\n",
       "\n",
       "    .dataframe thead th {\n",
       "        text-align: right;\n",
       "    }\n",
       "</style>\n",
       "<table border=\"1\" class=\"dataframe\">\n",
       "  <thead>\n",
       "    <tr style=\"text-align: right;\">\n",
       "      <th></th>\n",
       "      <th>Timestamp</th>\n",
       "      <th>Type</th>\n",
       "      <th>ID</th>\n",
       "      <th>BER</th>\n",
       "      <th>OSNR</th>\n",
       "      <th>InputPower</th>\n",
       "      <th>OutputPower</th>\n",
       "      <th>Failure</th>\n",
       "      <th>Timestamp_s</th>\n",
       "      <th>Timestamp_data</th>\n",
       "      <th>Timestamp_hora</th>\n",
       "      <th>Base</th>\n",
       "    </tr>\n",
       "  </thead>\n",
       "  <tbody>\n",
       "    <tr>\n",
       "      <th>0</th>\n",
       "      <td>1623394634</td>\n",
       "      <td>Devices</td>\n",
       "      <td>SPO1/18/11</td>\n",
       "      <td>2.280000e-08</td>\n",
       "      <td>38.500000</td>\n",
       "      <td>0.00</td>\n",
       "      <td>0.00</td>\n",
       "      <td>0</td>\n",
       "      <td>2021-06-11 06:57:14</td>\n",
       "      <td>2021-06-11</td>\n",
       "      <td>06:57:14</td>\n",
       "      <td>HARD</td>\n",
       "    </tr>\n",
       "    <tr>\n",
       "      <th>1</th>\n",
       "      <td>1623394635</td>\n",
       "      <td>Devices</td>\n",
       "      <td>SPO2/18/11</td>\n",
       "      <td>8.730000e-07</td>\n",
       "      <td>23.500000</td>\n",
       "      <td>0.00</td>\n",
       "      <td>0.00</td>\n",
       "      <td>0</td>\n",
       "      <td>2021-06-11 06:57:15</td>\n",
       "      <td>2021-06-11</td>\n",
       "      <td>06:57:15</td>\n",
       "      <td>HARD</td>\n",
       "    </tr>\n",
       "    <tr>\n",
       "      <th>2</th>\n",
       "      <td>1623394635</td>\n",
       "      <td>Infrastructure</td>\n",
       "      <td>Ampli4</td>\n",
       "      <td>7.303667e-07</td>\n",
       "      <td>26.016667</td>\n",
       "      <td>-22.90</td>\n",
       "      <td>0.70</td>\n",
       "      <td>0</td>\n",
       "      <td>2021-06-11 06:57:15</td>\n",
       "      <td>2021-06-11</td>\n",
       "      <td>06:57:15</td>\n",
       "      <td>HARD</td>\n",
       "    </tr>\n",
       "    <tr>\n",
       "      <th>3</th>\n",
       "      <td>1623394635</td>\n",
       "      <td>Infrastructure</td>\n",
       "      <td>Ampli3</td>\n",
       "      <td>5.877333e-07</td>\n",
       "      <td>28.533333</td>\n",
       "      <td>-16.70</td>\n",
       "      <td>0.80</td>\n",
       "      <td>0</td>\n",
       "      <td>2021-06-11 06:57:15</td>\n",
       "      <td>2021-06-11</td>\n",
       "      <td>06:57:15</td>\n",
       "      <td>HARD</td>\n",
       "    </tr>\n",
       "    <tr>\n",
       "      <th>4</th>\n",
       "      <td>1623394635</td>\n",
       "      <td>Infrastructure</td>\n",
       "      <td>Ampli2</td>\n",
       "      <td>4.451000e-07</td>\n",
       "      <td>31.050000</td>\n",
       "      <td>-15.50</td>\n",
       "      <td>0.40</td>\n",
       "      <td>0</td>\n",
       "      <td>2021-06-11 06:57:15</td>\n",
       "      <td>2021-06-11</td>\n",
       "      <td>06:57:15</td>\n",
       "      <td>HARD</td>\n",
       "    </tr>\n",
       "    <tr>\n",
       "      <th>...</th>\n",
       "      <td>...</td>\n",
       "      <td>...</td>\n",
       "      <td>...</td>\n",
       "      <td>...</td>\n",
       "      <td>...</td>\n",
       "      <td>...</td>\n",
       "      <td>...</td>\n",
       "      <td>...</td>\n",
       "      <td>...</td>\n",
       "      <td>...</td>\n",
       "      <td>...</td>\n",
       "      <td>...</td>\n",
       "    </tr>\n",
       "    <tr>\n",
       "      <th>119425</th>\n",
       "      <td>1624486451</td>\n",
       "      <td>Infrastructure</td>\n",
       "      <td>Ampli4</td>\n",
       "      <td>7.306667e-08</td>\n",
       "      <td>34.300000</td>\n",
       "      <td>-22.90</td>\n",
       "      <td>0.70</td>\n",
       "      <td>0</td>\n",
       "      <td>2021-06-23 22:14:11</td>\n",
       "      <td>2021-06-23</td>\n",
       "      <td>22:14:11</td>\n",
       "      <td>SOFT</td>\n",
       "    </tr>\n",
       "    <tr>\n",
       "      <th>119426</th>\n",
       "      <td>1624486451</td>\n",
       "      <td>Infrastructure</td>\n",
       "      <td>Ampli1</td>\n",
       "      <td>1.215333e-07</td>\n",
       "      <td>30.000000</td>\n",
       "      <td>-19.20</td>\n",
       "      <td>0.70</td>\n",
       "      <td>0</td>\n",
       "      <td>2021-06-23 22:14:11</td>\n",
       "      <td>2021-06-23</td>\n",
       "      <td>22:14:11</td>\n",
       "      <td>SOFT</td>\n",
       "    </tr>\n",
       "    <tr>\n",
       "      <th>119427</th>\n",
       "      <td>1624486451</td>\n",
       "      <td>Devices</td>\n",
       "      <td>SPO2/18/11</td>\n",
       "      <td>1.700000e-07</td>\n",
       "      <td>25.700000</td>\n",
       "      <td>-17.95</td>\n",
       "      <td>0.75</td>\n",
       "      <td>0</td>\n",
       "      <td>2021-06-23 22:14:11</td>\n",
       "      <td>2021-06-23</td>\n",
       "      <td>22:14:11</td>\n",
       "      <td>SOFT</td>\n",
       "    </tr>\n",
       "    <tr>\n",
       "      <th>119428</th>\n",
       "      <td>1624486451</td>\n",
       "      <td>Infrastructure</td>\n",
       "      <td>Ampli3</td>\n",
       "      <td>1.700000e-07</td>\n",
       "      <td>25.700000</td>\n",
       "      <td>-16.70</td>\n",
       "      <td>0.80</td>\n",
       "      <td>0</td>\n",
       "      <td>2021-06-23 22:14:11</td>\n",
       "      <td>2021-06-23</td>\n",
       "      <td>22:14:11</td>\n",
       "      <td>SOFT</td>\n",
       "    </tr>\n",
       "    <tr>\n",
       "      <th>119429</th>\n",
       "      <td>1624486451</td>\n",
       "      <td>Infrastructure</td>\n",
       "      <td>Ampli2</td>\n",
       "      <td>1.700000e-07</td>\n",
       "      <td>25.700000</td>\n",
       "      <td>-15.50</td>\n",
       "      <td>0.40</td>\n",
       "      <td>0</td>\n",
       "      <td>2021-06-23 22:14:11</td>\n",
       "      <td>2021-06-23</td>\n",
       "      <td>22:14:11</td>\n",
       "      <td>SOFT</td>\n",
       "    </tr>\n",
       "  </tbody>\n",
       "</table>\n",
       "<p>119430 rows × 12 columns</p>\n",
       "</div>"
      ]
     },
     "execution_count": 37,
     "metadata": {},
     "output_type": "execute_result"
    }
   ],
   "execution_count": 37
  },
  {
   "metadata": {
    "ExecuteTime": {
     "end_time": "2025-10-25T18:08:49.830190Z",
     "start_time": "2025-10-25T18:08:49.810197Z"
    }
   },
   "cell_type": "code",
   "source": "df_fail.info()",
   "id": "231c91b5ca86809f",
   "outputs": [
    {
     "name": "stdout",
     "output_type": "stream",
     "text": [
      "<class 'pandas.core.frame.DataFrame'>\n",
      "RangeIndex: 119430 entries, 0 to 119429\n",
      "Data columns (total 12 columns):\n",
      " #   Column          Non-Null Count   Dtype         \n",
      "---  ------          --------------   -----         \n",
      " 0   Timestamp       119430 non-null  int64         \n",
      " 1   Type            119430 non-null  object        \n",
      " 2   ID              119430 non-null  object        \n",
      " 3   BER             119430 non-null  float64       \n",
      " 4   OSNR            119430 non-null  float64       \n",
      " 5   InputPower      119430 non-null  float64       \n",
      " 6   OutputPower     119430 non-null  float64       \n",
      " 7   Failure         119430 non-null  int64         \n",
      " 8   Timestamp_s     119430 non-null  datetime64[ns]\n",
      " 9   Timestamp_data  119430 non-null  object        \n",
      " 10  Timestamp_hora  119430 non-null  object        \n",
      " 11  Base            119430 non-null  object        \n",
      "dtypes: datetime64[ns](1), float64(4), int64(2), object(5)\n",
      "memory usage: 10.9+ MB\n"
     ]
    }
   ],
   "execution_count": 38
  },
  {
   "metadata": {
    "ExecuteTime": {
     "end_time": "2025-10-25T18:08:54.141264Z",
     "start_time": "2025-10-25T18:08:54.117161Z"
    }
   },
   "cell_type": "code",
   "source": "df_fail.describe()",
   "id": "367ca3c9eb07010d",
   "outputs": [
    {
     "data": {
      "text/plain": [
       "          Timestamp           BER           OSNR     InputPower  \\\n",
       "count  1.194300e+05  1.194300e+05  119430.000000  119430.000000   \n",
       "mean   1.623889e+09  1.846473e-04      30.590290     -19.582524   \n",
       "min    1.623395e+09  0.000000e+00       0.000000     -38.000000   \n",
       "25%    1.623411e+09  2.370000e-08      25.400000     -22.900000   \n",
       "50%    1.623427e+09  1.747500e-07      31.000000     -19.200000   \n",
       "75%    1.624470e+09  6.166938e-07      38.500000     -16.700000   \n",
       "max    1.624486e+09  2.651316e-02      38.600000       0.000000   \n",
       "std    5.271721e+05  1.212574e-03       6.921175       3.740281   \n",
       "\n",
       "         OutputPower        Failure                    Timestamp_s  \n",
       "count  119430.000000  119430.000000                         119430  \n",
       "mean        0.648359       0.063728  2021-06-17 00:14:02.432923136  \n",
       "min         0.000000       0.000000            2021-06-11 06:57:14  \n",
       "25%         0.550000       0.000000            2021-06-11 11:24:37  \n",
       "50%         0.700000       0.000000            2021-06-11 15:58:39  \n",
       "75%         0.700000       0.000000            2021-06-23 17:46:46  \n",
       "max         0.900000       1.000000            2021-06-23 22:14:11  \n",
       "std         0.132266       0.244268                            NaN  "
      ],
      "text/html": [
       "<div>\n",
       "<style scoped>\n",
       "    .dataframe tbody tr th:only-of-type {\n",
       "        vertical-align: middle;\n",
       "    }\n",
       "\n",
       "    .dataframe tbody tr th {\n",
       "        vertical-align: top;\n",
       "    }\n",
       "\n",
       "    .dataframe thead th {\n",
       "        text-align: right;\n",
       "    }\n",
       "</style>\n",
       "<table border=\"1\" class=\"dataframe\">\n",
       "  <thead>\n",
       "    <tr style=\"text-align: right;\">\n",
       "      <th></th>\n",
       "      <th>Timestamp</th>\n",
       "      <th>BER</th>\n",
       "      <th>OSNR</th>\n",
       "      <th>InputPower</th>\n",
       "      <th>OutputPower</th>\n",
       "      <th>Failure</th>\n",
       "      <th>Timestamp_s</th>\n",
       "    </tr>\n",
       "  </thead>\n",
       "  <tbody>\n",
       "    <tr>\n",
       "      <th>count</th>\n",
       "      <td>1.194300e+05</td>\n",
       "      <td>1.194300e+05</td>\n",
       "      <td>119430.000000</td>\n",
       "      <td>119430.000000</td>\n",
       "      <td>119430.000000</td>\n",
       "      <td>119430.000000</td>\n",
       "      <td>119430</td>\n",
       "    </tr>\n",
       "    <tr>\n",
       "      <th>mean</th>\n",
       "      <td>1.623889e+09</td>\n",
       "      <td>1.846473e-04</td>\n",
       "      <td>30.590290</td>\n",
       "      <td>-19.582524</td>\n",
       "      <td>0.648359</td>\n",
       "      <td>0.063728</td>\n",
       "      <td>2021-06-17 00:14:02.432923136</td>\n",
       "    </tr>\n",
       "    <tr>\n",
       "      <th>min</th>\n",
       "      <td>1.623395e+09</td>\n",
       "      <td>0.000000e+00</td>\n",
       "      <td>0.000000</td>\n",
       "      <td>-38.000000</td>\n",
       "      <td>0.000000</td>\n",
       "      <td>0.000000</td>\n",
       "      <td>2021-06-11 06:57:14</td>\n",
       "    </tr>\n",
       "    <tr>\n",
       "      <th>25%</th>\n",
       "      <td>1.623411e+09</td>\n",
       "      <td>2.370000e-08</td>\n",
       "      <td>25.400000</td>\n",
       "      <td>-22.900000</td>\n",
       "      <td>0.550000</td>\n",
       "      <td>0.000000</td>\n",
       "      <td>2021-06-11 11:24:37</td>\n",
       "    </tr>\n",
       "    <tr>\n",
       "      <th>50%</th>\n",
       "      <td>1.623427e+09</td>\n",
       "      <td>1.747500e-07</td>\n",
       "      <td>31.000000</td>\n",
       "      <td>-19.200000</td>\n",
       "      <td>0.700000</td>\n",
       "      <td>0.000000</td>\n",
       "      <td>2021-06-11 15:58:39</td>\n",
       "    </tr>\n",
       "    <tr>\n",
       "      <th>75%</th>\n",
       "      <td>1.624470e+09</td>\n",
       "      <td>6.166938e-07</td>\n",
       "      <td>38.500000</td>\n",
       "      <td>-16.700000</td>\n",
       "      <td>0.700000</td>\n",
       "      <td>0.000000</td>\n",
       "      <td>2021-06-23 17:46:46</td>\n",
       "    </tr>\n",
       "    <tr>\n",
       "      <th>max</th>\n",
       "      <td>1.624486e+09</td>\n",
       "      <td>2.651316e-02</td>\n",
       "      <td>38.600000</td>\n",
       "      <td>0.000000</td>\n",
       "      <td>0.900000</td>\n",
       "      <td>1.000000</td>\n",
       "      <td>2021-06-23 22:14:11</td>\n",
       "    </tr>\n",
       "    <tr>\n",
       "      <th>std</th>\n",
       "      <td>5.271721e+05</td>\n",
       "      <td>1.212574e-03</td>\n",
       "      <td>6.921175</td>\n",
       "      <td>3.740281</td>\n",
       "      <td>0.132266</td>\n",
       "      <td>0.244268</td>\n",
       "      <td>NaN</td>\n",
       "    </tr>\n",
       "  </tbody>\n",
       "</table>\n",
       "</div>"
      ]
     },
     "execution_count": 39,
     "metadata": {},
     "output_type": "execute_result"
    }
   ],
   "execution_count": 39
  },
  {
   "metadata": {
    "ExecuteTime": {
     "end_time": "2025-10-25T18:09:04.273757Z",
     "start_time": "2025-10-25T18:09:04.267007Z"
    }
   },
   "cell_type": "code",
   "source": "df_fail.Type.unique()",
   "id": "e6fddd4e5e33f59b",
   "outputs": [
    {
     "data": {
      "text/plain": [
       "array(['Devices', 'Infrastructure'], dtype=object)"
      ]
     },
     "execution_count": 41,
     "metadata": {},
     "output_type": "execute_result"
    }
   ],
   "execution_count": 41
  },
  {
   "metadata": {
    "ExecuteTime": {
     "end_time": "2025-10-25T18:13:40.531565Z",
     "start_time": "2025-10-25T18:13:40.525205Z"
    }
   },
   "cell_type": "code",
   "source": "df_fail.ID.unique()",
   "id": "e6a542d1440b4ffb",
   "outputs": [
    {
     "data": {
      "text/plain": [
       "array(['SPO1/18/11', 'SPO2/18/11', 'Ampli4', 'Ampli3', 'Ampli2', 'Ampli1'],\n",
       "      dtype=object)"
      ]
     },
     "execution_count": 45,
     "metadata": {},
     "output_type": "execute_result"
    }
   ],
   "execution_count": 45
  },
  {
   "metadata": {
    "ExecuteTime": {
     "end_time": "2025-10-25T18:09:02.396401Z",
     "start_time": "2025-10-25T18:09:02.380611Z"
    }
   },
   "cell_type": "code",
   "outputs": [
    {
     "data": {
      "text/plain": [
       "             Timestamp       BER      OSNR  InputPower  OutputPower   Failure\n",
       "Timestamp     1.000000 -0.129228  0.131924    0.139648     0.015441  0.121965\n",
       "BER          -0.129228  1.000000 -0.260976   -0.064315    -0.016382 -0.020029\n",
       "OSNR          0.131924 -0.260976  1.000000    0.059078    -0.004025 -0.132893\n",
       "InputPower    0.139648 -0.064315  0.059078    1.000000    -0.395968 -0.154167\n",
       "OutputPower   0.015441 -0.016382 -0.004025   -0.395968     1.000000 -0.041835\n",
       "Failure       0.121965 -0.020029 -0.132893   -0.154167    -0.041835  1.000000"
      ],
      "text/html": [
       "<div>\n",
       "<style scoped>\n",
       "    .dataframe tbody tr th:only-of-type {\n",
       "        vertical-align: middle;\n",
       "    }\n",
       "\n",
       "    .dataframe tbody tr th {\n",
       "        vertical-align: top;\n",
       "    }\n",
       "\n",
       "    .dataframe thead th {\n",
       "        text-align: right;\n",
       "    }\n",
       "</style>\n",
       "<table border=\"1\" class=\"dataframe\">\n",
       "  <thead>\n",
       "    <tr style=\"text-align: right;\">\n",
       "      <th></th>\n",
       "      <th>Timestamp</th>\n",
       "      <th>BER</th>\n",
       "      <th>OSNR</th>\n",
       "      <th>InputPower</th>\n",
       "      <th>OutputPower</th>\n",
       "      <th>Failure</th>\n",
       "    </tr>\n",
       "  </thead>\n",
       "  <tbody>\n",
       "    <tr>\n",
       "      <th>Timestamp</th>\n",
       "      <td>1.000000</td>\n",
       "      <td>-0.129228</td>\n",
       "      <td>0.131924</td>\n",
       "      <td>0.139648</td>\n",
       "      <td>0.015441</td>\n",
       "      <td>0.121965</td>\n",
       "    </tr>\n",
       "    <tr>\n",
       "      <th>BER</th>\n",
       "      <td>-0.129228</td>\n",
       "      <td>1.000000</td>\n",
       "      <td>-0.260976</td>\n",
       "      <td>-0.064315</td>\n",
       "      <td>-0.016382</td>\n",
       "      <td>-0.020029</td>\n",
       "    </tr>\n",
       "    <tr>\n",
       "      <th>OSNR</th>\n",
       "      <td>0.131924</td>\n",
       "      <td>-0.260976</td>\n",
       "      <td>1.000000</td>\n",
       "      <td>0.059078</td>\n",
       "      <td>-0.004025</td>\n",
       "      <td>-0.132893</td>\n",
       "    </tr>\n",
       "    <tr>\n",
       "      <th>InputPower</th>\n",
       "      <td>0.139648</td>\n",
       "      <td>-0.064315</td>\n",
       "      <td>0.059078</td>\n",
       "      <td>1.000000</td>\n",
       "      <td>-0.395968</td>\n",
       "      <td>-0.154167</td>\n",
       "    </tr>\n",
       "    <tr>\n",
       "      <th>OutputPower</th>\n",
       "      <td>0.015441</td>\n",
       "      <td>-0.016382</td>\n",
       "      <td>-0.004025</td>\n",
       "      <td>-0.395968</td>\n",
       "      <td>1.000000</td>\n",
       "      <td>-0.041835</td>\n",
       "    </tr>\n",
       "    <tr>\n",
       "      <th>Failure</th>\n",
       "      <td>0.121965</td>\n",
       "      <td>-0.020029</td>\n",
       "      <td>-0.132893</td>\n",
       "      <td>-0.154167</td>\n",
       "      <td>-0.041835</td>\n",
       "      <td>1.000000</td>\n",
       "    </tr>\n",
       "  </tbody>\n",
       "</table>\n",
       "</div>"
      ]
     },
     "execution_count": 40,
     "metadata": {},
     "output_type": "execute_result"
    }
   ],
   "execution_count": 40,
   "source": "df_fail.corr(numeric_only=True)",
   "id": "b767b3ca22b87a1d"
  },
  {
   "metadata": {
    "ExecuteTime": {
     "end_time": "2025-10-25T18:09:07.311313Z",
     "start_time": "2025-10-25T18:09:06.432755Z"
    }
   },
   "cell_type": "code",
   "outputs": [
    {
     "data": {
      "text/plain": [
       "<Axes: >"
      ]
     },
     "execution_count": 42,
     "metadata": {},
     "output_type": "execute_result"
    },
    {
     "data": {
      "text/plain": [
       "<Figure size 640x480 with 2 Axes>"
      ],
      "image/png": "[encoded data removed]"
     },
     "metadata": {},
     "output_type": "display_data",
     "jetTransient": {
      "display_id": null
     }
    }
   ],
   "execution_count": 42,
   "source": "sns.heatmap(df_fail.corr(numeric_only=True))",
   "id": "da53e0124cc908d9"
  },
  {
   "metadata": {},
   "cell_type": "markdown",
   "source": "### Engenharia de Features",
   "id": "eab965af1d9fdf7"
  },
  {
   "metadata": {},
   "cell_type": "markdown",
   "source": "#### 1. Features de Janela Deslizante (Rolling Window)",
   "id": "5ce9dc4708ef6ee1"
  },
  {
   "metadata": {
    "ExecuteTime": {
     "end_time": "2025-10-25T18:41:07.463225Z",
     "start_time": "2025-10-25T18:41:07.427599Z"
    }
   },
   "cell_type": "code",
   "source": [
    "# Vamos criar features que representam a média, desvio padrão, mínimo e máximo dos sensores em diferentes janelas de tempo (5, 15 e 30 períodos).\n",
    "# Obs: Os cálculos devem ser feitos para cada equipamento (ID) separadamente.\n",
    "\n",
    "# Garante que os dados estão ordenados por equipamento e tempo\n",
    "df_feat = df_fail.sort_values(by=['ID', 'Timestamp_s']).copy()\n",
    "\n",
    "features_to_engineer = ['BER', 'OSNR', 'InputPower', 'OutputPower']\n",
    "window_sizes = [5, 15, 30]  # Janelas de 5, 15 e 30 períodos"
   ],
   "id": "12ec5ab39f6231f5",
   "outputs": [],
   "execution_count": 47
  },
  {
   "metadata": {
    "ExecuteTime": {
     "end_time": "2025-10-25T18:41:10.075077Z",
     "start_time": "2025-10-25T18:41:09.370536Z"
    }
   },
   "cell_type": "code",
   "source": [
    "for feature in features_to_engineer:\n",
    "    for window in window_sizes:\n",
    "        # Agrupa por ID e aplica a janela deslizante\n",
    "        rolling_mean = df_feat.groupby('ID')[feature].rolling(window=window, min_periods=1).mean().reset_index(\n",
    "            drop=True)\n",
    "        rolling_std = df_feat.groupby('ID')[feature].rolling(window=window, min_periods=1).std().reset_index(drop=True)\n",
    "        rolling_max = df_feat.groupby('ID')[feature].rolling(window=window, min_periods=1).max().reset_index(drop=True)\n",
    "\n",
    "        df_feat[f'{feature}_mean_{window}'] = rolling_mean\n",
    "        df_feat[f'{feature}_std_{window}'] = rolling_std\n",
    "        df_feat[f'{feature}_max_{window}'] = rolling_max\n",
    "\n",
    "print(\"Features de janela deslizante criadas.\")"
   ],
   "id": "99693f1e79c0761",
   "outputs": [
    {
     "name": "stdout",
     "output_type": "stream",
     "text": [
      "Features de janela deslizante criadas.\n"
     ]
    }
   ],
   "execution_count": 48
  },
  {
   "metadata": {},
   "cell_type": "markdown",
   "source": "#### 2. Features de Atraso (Lag Features)",
   "id": "a69aa7ccda477a69"
  },
  {
   "metadata": {
    "ExecuteTime": {
     "end_time": "2025-10-25T18:41:13.855519Z",
     "start_time": "2025-10-25T18:41:13.811088Z"
    }
   },
   "cell_type": "code",
   "source": [
    "# Criaremos colunas com os valores dos sensores de 1, 2 e 3 períodos atrás.\n",
    "\n",
    "lags = [1, 2, 3]\n",
    "\n",
    "for feature in features_to_engineer:\n",
    "    for lag in lags:\n",
    "        # Agrupa por ID e aplica o shift\n",
    "        df_feat[f'{feature}_lag_{lag}'] = df_feat.groupby('ID')[feature].shift(lag)\n",
    "\n",
    "print(\"Features de atraso criadas.\")"
   ],
   "id": "a98ea272c0459269",
   "outputs": [
    {
     "name": "stdout",
     "output_type": "stream",
     "text": [
      "Features de atraso criadas.\n"
     ]
    }
   ],
   "execution_count": 49
  },
  {
   "metadata": {},
   "cell_type": "markdown",
   "source": "#### 3. Limpeza Final do DataFrame de Features",
   "id": "7ab6ef11af7b0a15"
  },
  {
   "metadata": {
    "ExecuteTime": {
     "end_time": "2025-10-25T18:41:15.841999Z",
     "start_time": "2025-10-25T18:41:15.781296Z"
    }
   },
   "cell_type": "code",
   "source": [
    "# A criação de janelas e lags gera valores NaN no início de cada série temporal (por equipamento).\n",
    "# Vamos remover essas linhas para garantir que o modelo só treine com dados completos.\n",
    "\n",
    "print(f\"Tamanho do DataFrame antes da limpeza de NaN: {df_feat.shape}\")\n",
    "\n",
    "# Remove todas as linhas que contenham qualquer valor NaN gerado\n",
    "df_feat.dropna(inplace=True)\n",
    "\n",
    "print(f\"Tamanho do DataFrame após a limpeza: {df_feat.shape}\")\n",
    "\n",
    "# Visualizando o resultado final com as novas features\n",
    "df_feat.head()"
   ],
   "id": "b24f8881e09d0511",
   "outputs": [
    {
     "name": "stdout",
     "output_type": "stream",
     "text": [
      "Tamanho do DataFrame antes da limpeza de NaN: (119430, 60)\n",
      "Tamanho do DataFrame após a limpeza: (119407, 60)\n"
     ]
    },
    {
     "data": {
      "text/plain": [
       "     Timestamp            Type      ID           BER       OSNR  InputPower  \\\n",
       "18  1623394644  Infrastructure  Ampli1  4.413000e-07  30.950000       -23.0   \n",
       "29  1623394647  Infrastructure  Ampli1  4.450000e-07  31.000000       -23.0   \n",
       "33  1623394651  Infrastructure  Ampli1  3.562200e-07  32.580000       -23.0   \n",
       "40  1623394654  Infrastructure  Ampli1  2.993333e-07  33.433333       -23.0   \n",
       "46  1623394657  Infrastructure  Ampli1  2.145000e-08  38.600000       -23.0   \n",
       "\n",
       "    OutputPower  Failure         Timestamp_s Timestamp_data  ...  \\\n",
       "18          0.7        0 2021-06-11 06:57:24     2021-06-11  ...   \n",
       "29          0.7        0 2021-06-11 06:57:27     2021-06-11  ...   \n",
       "33          0.7        0 2021-06-11 06:57:31     2021-06-11  ...   \n",
       "40          0.7        0 2021-06-11 06:57:34     2021-06-11  ...   \n",
       "46          0.7        0 2021-06-11 06:57:37     2021-06-11  ...   \n",
       "\n",
       "       BER_lag_3 OSNR_lag_1  OSNR_lag_2  OSNR_lag_3  InputPower_lag_1  \\\n",
       "18  3.024667e-07  29.440000   36.083333   33.566667             -23.0   \n",
       "29  1.598333e-07  30.950000   29.440000   36.083333             -23.0   \n",
       "33  5.252800e-07  31.000000   30.950000   29.440000             -23.0   \n",
       "40  4.413000e-07  32.580000   31.000000   30.950000             -23.0   \n",
       "46  4.450000e-07  33.433333   32.580000   31.000000             -23.0   \n",
       "\n",
       "    InputPower_lag_2  InputPower_lag_3  OutputPower_lag_1  OutputPower_lag_2  \\\n",
       "18             -23.0             -23.0                0.7                0.7   \n",
       "29             -23.0             -23.0                0.7                0.7   \n",
       "33             -23.0             -23.0                0.7                0.7   \n",
       "40             -23.0             -23.0                0.7                0.7   \n",
       "46             -23.0             -23.0                0.7                0.7   \n",
       "\n",
       "    OutputPower_lag_3  \n",
       "18                0.7  \n",
       "29                0.7  \n",
       "33                0.7  \n",
       "40                0.7  \n",
       "46                0.7  \n",
       "\n",
       "[5 rows x 60 columns]"
      ],
      "text/html": [
       "<div>\n",
       "<style scoped>\n",
       "    .dataframe tbody tr th:only-of-type {\n",
       "        vertical-align: middle;\n",
       "    }\n",
       "\n",
       "    .dataframe tbody tr th {\n",
       "        vertical-align: top;\n",
       "    }\n",
       "\n",
       "    .dataframe thead th {\n",
       "        text-align: right;\n",
       "    }\n",
       "</style>\n",
       "<table border=\"1\" class=\"dataframe\">\n",
       "  <thead>\n",
       "    <tr style=\"text-align: right;\">\n",
       "      <th></th>\n",
       "      <th>Timestamp</th>\n",
       "      <th>Type</th>\n",
       "      <th>ID</th>\n",
       "      <th>BER</th>\n",
       "      <th>OSNR</th>\n",
       "      <th>InputPower</th>\n",
       "      <th>OutputPower</th>\n",
       "      <th>Failure</th>\n",
       "      <th>Timestamp_s</th>\n",
       "      <th>Timestamp_data</th>\n",
       "      <th>...</th>\n",
       "      <th>BER_lag_3</th>\n",
       "      <th>OSNR_lag_1</th>\n",
       "      <th>OSNR_lag_2</th>\n",
       "      <th>OSNR_lag_3</th>\n",
       "      <th>InputPower_lag_1</th>\n",
       "      <th>InputPower_lag_2</th>\n",
       "      <th>InputPower_lag_3</th>\n",
       "      <th>OutputPower_lag_1</th>\n",
       "      <th>OutputPower_lag_2</th>\n",
       "      <th>OutputPower_lag_3</th>\n",
       "    </tr>\n",
       "  </thead>\n",
       "  <tbody>\n",
       "    <tr>\n",
       "      <th>18</th>\n",
       "      <td>1623394644</td>\n",
       "      <td>Infrastructure</td>\n",
       "      <td>Ampli1</td>\n",
       "      <td>4.413000e-07</td>\n",
       "      <td>30.950000</td>\n",
       "      <td>-23.0</td>\n",
       "      <td>0.7</td>\n",
       "      <td>0</td>\n",
       "      <td>2021-06-11 06:57:24</td>\n",
       "      <td>2021-06-11</td>\n",
       "      <td>...</td>\n",
       "      <td>3.024667e-07</td>\n",
       "      <td>29.440000</td>\n",
       "      <td>36.083333</td>\n",
       "      <td>33.566667</td>\n",
       "      <td>-23.0</td>\n",
       "      <td>-23.0</td>\n",
       "      <td>-23.0</td>\n",
       "      <td>0.7</td>\n",
       "      <td>0.7</td>\n",
       "      <td>0.7</td>\n",
       "    </tr>\n",
       "    <tr>\n",
       "      <th>29</th>\n",
       "      <td>1623394647</td>\n",
       "      <td>Infrastructure</td>\n",
       "      <td>Ampli1</td>\n",
       "      <td>4.450000e-07</td>\n",
       "      <td>31.000000</td>\n",
       "      <td>-23.0</td>\n",
       "      <td>0.7</td>\n",
       "      <td>0</td>\n",
       "      <td>2021-06-11 06:57:27</td>\n",
       "      <td>2021-06-11</td>\n",
       "      <td>...</td>\n",
       "      <td>1.598333e-07</td>\n",
       "      <td>30.950000</td>\n",
       "      <td>29.440000</td>\n",
       "      <td>36.083333</td>\n",
       "      <td>-23.0</td>\n",
       "      <td>-23.0</td>\n",
       "      <td>-23.0</td>\n",
       "      <td>0.7</td>\n",
       "      <td>0.7</td>\n",
       "      <td>0.7</td>\n",
       "    </tr>\n",
       "    <tr>\n",
       "      <th>33</th>\n",
       "      <td>1623394651</td>\n",
       "      <td>Infrastructure</td>\n",
       "      <td>Ampli1</td>\n",
       "      <td>3.562200e-07</td>\n",
       "      <td>32.580000</td>\n",
       "      <td>-23.0</td>\n",
       "      <td>0.7</td>\n",
       "      <td>0</td>\n",
       "      <td>2021-06-11 06:57:31</td>\n",
       "      <td>2021-06-11</td>\n",
       "      <td>...</td>\n",
       "      <td>5.252800e-07</td>\n",
       "      <td>31.000000</td>\n",
       "      <td>30.950000</td>\n",
       "      <td>29.440000</td>\n",
       "      <td>-23.0</td>\n",
       "      <td>-23.0</td>\n",
       "      <td>-23.0</td>\n",
       "      <td>0.7</td>\n",
       "      <td>0.7</td>\n",
       "      <td>0.7</td>\n",
       "    </tr>\n",
       "    <tr>\n",
       "      <th>40</th>\n",
       "      <td>1623394654</td>\n",
       "      <td>Infrastructure</td>\n",
       "      <td>Ampli1</td>\n",
       "      <td>2.993333e-07</td>\n",
       "      <td>33.433333</td>\n",
       "      <td>-23.0</td>\n",
       "      <td>0.7</td>\n",
       "      <td>0</td>\n",
       "      <td>2021-06-11 06:57:34</td>\n",
       "      <td>2021-06-11</td>\n",
       "      <td>...</td>\n",
       "      <td>4.413000e-07</td>\n",
       "      <td>32.580000</td>\n",
       "      <td>31.000000</td>\n",
       "      <td>30.950000</td>\n",
       "      <td>-23.0</td>\n",
       "      <td>-23.0</td>\n",
       "      <td>-23.0</td>\n",
       "      <td>0.7</td>\n",
       "      <td>0.7</td>\n",
       "      <td>0.7</td>\n",
       "    </tr>\n",
       "    <tr>\n",
       "      <th>46</th>\n",
       "      <td>1623394657</td>\n",
       "      <td>Infrastructure</td>\n",
       "      <td>Ampli1</td>\n",
       "      <td>2.145000e-08</td>\n",
       "      <td>38.600000</td>\n",
       "      <td>-23.0</td>\n",
       "      <td>0.7</td>\n",
       "      <td>0</td>\n",
       "      <td>2021-06-11 06:57:37</td>\n",
       "      <td>2021-06-11</td>\n",
       "      <td>...</td>\n",
       "      <td>4.450000e-07</td>\n",
       "      <td>33.433333</td>\n",
       "      <td>32.580000</td>\n",
       "      <td>31.000000</td>\n",
       "      <td>-23.0</td>\n",
       "      <td>-23.0</td>\n",
       "      <td>-23.0</td>\n",
       "      <td>0.7</td>\n",
       "      <td>0.7</td>\n",
       "      <td>0.7</td>\n",
       "    </tr>\n",
       "  </tbody>\n",
       "</table>\n",
       "<p>5 rows × 60 columns</p>\n",
       "</div>"
      ]
     },
     "execution_count": 50,
     "metadata": {},
     "output_type": "execute_result"
    }
   ],
   "execution_count": 50
  },
  {
   "metadata": {},
   "cell_type": "markdown",
   "source": "#### 4. Features Avançadas",
   "id": "38bde5e1b99f76f5"
  },
  {
   "metadata": {},
   "cell_type": "markdown",
   "source": "##### a) Features de Tendência (Slope)",
   "id": "ac2a521d2de509ad"
  },
  {
   "metadata": {
    "ExecuteTime": {
     "end_time": "2025-10-25T18:44:09.459451Z",
     "start_time": "2025-10-25T18:44:01.138062Z"
    }
   },
   "cell_type": "code",
   "source": [
    "# Vamos calcular a inclinação (slope) dos dados dos sensores dentro de uma janela para capturar a tendência de subida ou descida.\n",
    "\n",
    "# Função para calcular a inclinação (slope) de uma janela\n",
    "def get_slope(array):\n",
    "    # polyfit é mais rápido para isso\n",
    "    y = np.array(array)\n",
    "    x = np.arange(len(y))\n",
    "    # O primeiro elemento de polyfit é a inclinação\n",
    "    slope = np.polyfit(x, y, 1)[0]\n",
    "    return slope\n",
    "\n",
    "window_trend = 15  # Janela para cálculo da tendência\n",
    "\n",
    "for feature in features_to_engineer:\n",
    "    # Agrupa por ID e aplica a função de slope na janela\n",
    "    trend = df_feat.groupby('ID')[feature].rolling(window=window_trend, min_periods=window_trend).apply(get_slope,\n",
    "                                                                                                        raw=True).reset_index(\n",
    "        drop=True)\n",
    "    df_feat[f'{feature}_trend_{window_trend}'] = trend\n",
    "\n",
    "print(\"Features de tendência criadas.\")"
   ],
   "id": "ac7545c006e2eeea",
   "outputs": [
    {
     "name": "stdout",
     "output_type": "stream",
     "text": [
      "Features de tendência criadas.\n"
     ]
    }
   ],
   "execution_count": 52
  },
  {
   "metadata": {},
   "cell_type": "markdown",
   "source": "##### b) Features Cíclicas de Tempo",
   "id": "444778f881a3e3e9"
  },
  {
   "metadata": {
    "ExecuteTime": {
     "end_time": "2025-10-25T18:44:12.466052Z",
     "start_time": "2025-10-25T18:44:12.429859Z"
    }
   },
   "cell_type": "code",
   "source": [
    "# Transformar a hora do dia em features de seno e cosseno para que o modelo entenda a natureza cíclica do tempo.\n",
    "\n",
    "df_feat['hora'] = df_feat['Timestamp_s'].dt.hour\n",
    "df_feat['hora_sin'] = np.sin(2 * np.pi * df_feat['hora'] / 24.0)\n",
    "df_feat['hora_cos'] = np.cos(2 * np.pi * df_feat['hora'] / 24.0)\n",
    "df_feat.drop('hora', axis=1, inplace=True)\n",
    "\n",
    "print(\"Features cíclicas de tempo criadas.\")"
   ],
   "id": "a37bae5169136e16",
   "outputs": [
    {
     "name": "stdout",
     "output_type": "stream",
     "text": [
      "Features cíclicas de tempo criadas.\n"
     ]
    }
   ],
   "execution_count": 53
  },
  {
   "metadata": {},
   "cell_type": "markdown",
   "source": "##### c) Limpeza Final Pós-Features Avançadas\n",
   "id": "fbd5fbd4c716fd8d"
  },
  {
   "metadata": {
    "ExecuteTime": {
     "end_time": "2025-10-25T18:44:14.008133Z",
     "start_time": "2025-10-25T18:44:13.949070Z"
    }
   },
   "cell_type": "code",
   "source": [
    "print(f\"Tamanho antes da limpeza final: {df_feat.shape}\")\n",
    "df_feat.dropna(inplace=True)\n",
    "print(f\"Tamanho após a limpeza final: {df_feat.shape}\")\n",
    "df_feat.head()"
   ],
   "id": "6b1899d212100635",
   "outputs": [
    {
     "name": "stdout",
     "output_type": "stream",
     "text": [
      "Tamanho antes da limpeza final: (119407, 66)\n",
      "Tamanho após a limpeza final: (119317, 66)\n"
     ]
    },
    {
     "data": {
      "text/plain": [
       "     Timestamp            Type      ID           BER       OSNR  InputPower  \\\n",
       "18  1623394644  Infrastructure  Ampli1  4.413000e-07  30.950000       -23.0   \n",
       "29  1623394647  Infrastructure  Ampli1  4.450000e-07  31.000000       -23.0   \n",
       "33  1623394651  Infrastructure  Ampli1  3.562200e-07  32.580000       -23.0   \n",
       "40  1623394654  Infrastructure  Ampli1  2.993333e-07  33.433333       -23.0   \n",
       "46  1623394657  Infrastructure  Ampli1  2.145000e-08  38.600000       -23.0   \n",
       "\n",
       "    OutputPower  Failure         Timestamp_s Timestamp_data  ...  \\\n",
       "18          0.7        0 2021-06-11 06:57:24     2021-06-11  ...   \n",
       "29          0.7        0 2021-06-11 06:57:27     2021-06-11  ...   \n",
       "33          0.7        0 2021-06-11 06:57:31     2021-06-11  ...   \n",
       "40          0.7        0 2021-06-11 06:57:34     2021-06-11  ...   \n",
       "46          0.7        0 2021-06-11 06:57:37     2021-06-11  ...   \n",
       "\n",
       "   InputPower_lag_3 OutputPower_lag_1  OutputPower_lag_2  OutputPower_lag_3  \\\n",
       "18            -23.0               0.7                0.7                0.7   \n",
       "29            -23.0               0.7                0.7                0.7   \n",
       "33            -23.0               0.7                0.7                0.7   \n",
       "40            -23.0               0.7                0.7                0.7   \n",
       "46            -23.0               0.7                0.7                0.7   \n",
       "\n",
       "    BER_trend_15  OSNR_trend_15  InputPower_trend_15  OutputPower_trend_15  \\\n",
       "18 -6.775825e-09       0.105536         5.911890e-18          9.854771e-18   \n",
       "29  6.694616e-09      -0.129328         5.911890e-18          9.854771e-18   \n",
       "33  2.054693e-08      -0.379338         5.911890e-18          9.854771e-18   \n",
       "40 -9.645964e-09       0.164058         5.911890e-18          9.854771e-18   \n",
       "46 -1.387755e-08       0.270476         5.911890e-18          9.854771e-18   \n",
       "\n",
       "    hora_sin      hora_cos  \n",
       "18       1.0  6.123234e-17  \n",
       "29       1.0  6.123234e-17  \n",
       "33       1.0  6.123234e-17  \n",
       "40       1.0  6.123234e-17  \n",
       "46       1.0  6.123234e-17  \n",
       "\n",
       "[5 rows x 66 columns]"
      ],
      "text/html": [
       "<div>\n",
       "<style scoped>\n",
       "    .dataframe tbody tr th:only-of-type {\n",
       "        vertical-align: middle;\n",
       "    }\n",
       "\n",
       "    .dataframe tbody tr th {\n",
       "        vertical-align: top;\n",
       "    }\n",
       "\n",
       "    .dataframe thead th {\n",
       "        text-align: right;\n",
       "    }\n",
       "</style>\n",
       "<table border=\"1\" class=\"dataframe\">\n",
       "  <thead>\n",
       "    <tr style=\"text-align: right;\">\n",
       "      <th></th>\n",
       "      <th>Timestamp</th>\n",
       "      <th>Type</th>\n",
       "      <th>ID</th>\n",
       "      <th>BER</th>\n",
       "      <th>OSNR</th>\n",
       "      <th>InputPower</th>\n",
       "      <th>OutputPower</th>\n",
       "      <th>Failure</th>\n",
       "      <th>Timestamp_s</th>\n",
       "      <th>Timestamp_data</th>\n",
       "      <th>...</th>\n",
       "      <th>InputPower_lag_3</th>\n",
       "      <th>OutputPower_lag_1</th>\n",
       "      <th>OutputPower_lag_2</th>\n",
       "      <th>OutputPower_lag_3</th>\n",
       "      <th>BER_trend_15</th>\n",
       "      <th>OSNR_trend_15</th>\n",
       "      <th>InputPower_trend_15</th>\n",
       "      <th>OutputPower_trend_15</th>\n",
       "      <th>hora_sin</th>\n",
       "      <th>hora_cos</th>\n",
       "    </tr>\n",
       "  </thead>\n",
       "  <tbody>\n",
       "    <tr>\n",
       "      <th>18</th>\n",
       "      <td>1623394644</td>\n",
       "      <td>Infrastructure</td>\n",
       "      <td>Ampli1</td>\n",
       "      <td>4.413000e-07</td>\n",
       "      <td>30.950000</td>\n",
       "      <td>-23.0</td>\n",
       "      <td>0.7</td>\n",
       "      <td>0</td>\n",
       "      <td>2021-06-11 06:57:24</td>\n",
       "      <td>2021-06-11</td>\n",
       "      <td>...</td>\n",
       "      <td>-23.0</td>\n",
       "      <td>0.7</td>\n",
       "      <td>0.7</td>\n",
       "      <td>0.7</td>\n",
       "      <td>-6.775825e-09</td>\n",
       "      <td>0.105536</td>\n",
       "      <td>5.911890e-18</td>\n",
       "      <td>9.854771e-18</td>\n",
       "      <td>1.0</td>\n",
       "      <td>6.123234e-17</td>\n",
       "    </tr>\n",
       "    <tr>\n",
       "      <th>29</th>\n",
       "      <td>1623394647</td>\n",
       "      <td>Infrastructure</td>\n",
       "      <td>Ampli1</td>\n",
       "      <td>4.450000e-07</td>\n",
       "      <td>31.000000</td>\n",
       "      <td>-23.0</td>\n",
       "      <td>0.7</td>\n",
       "      <td>0</td>\n",
       "      <td>2021-06-11 06:57:27</td>\n",
       "      <td>2021-06-11</td>\n",
       "      <td>...</td>\n",
       "      <td>-23.0</td>\n",
       "      <td>0.7</td>\n",
       "      <td>0.7</td>\n",
       "      <td>0.7</td>\n",
       "      <td>6.694616e-09</td>\n",
       "      <td>-0.129328</td>\n",
       "      <td>5.911890e-18</td>\n",
       "      <td>9.854771e-18</td>\n",
       "      <td>1.0</td>\n",
       "      <td>6.123234e-17</td>\n",
       "    </tr>\n",
       "    <tr>\n",
       "      <th>33</th>\n",
       "      <td>1623394651</td>\n",
       "      <td>Infrastructure</td>\n",
       "      <td>Ampli1</td>\n",
       "      <td>3.562200e-07</td>\n",
       "      <td>32.580000</td>\n",
       "      <td>-23.0</td>\n",
       "      <td>0.7</td>\n",
       "      <td>0</td>\n",
       "      <td>2021-06-11 06:57:31</td>\n",
       "      <td>2021-06-11</td>\n",
       "      <td>...</td>\n",
       "      <td>-23.0</td>\n",
       "      <td>0.7</td>\n",
       "      <td>0.7</td>\n",
       "      <td>0.7</td>\n",
       "      <td>2.054693e-08</td>\n",
       "      <td>-0.379338</td>\n",
       "      <td>5.911890e-18</td>\n",
       "      <td>9.854771e-18</td>\n",
       "      <td>1.0</td>\n",
       "      <td>6.123234e-17</td>\n",
       "    </tr>\n",
       "    <tr>\n",
       "      <th>40</th>\n",
       "      <td>1623394654</td>\n",
       "      <td>Infrastructure</td>\n",
       "      <td>Ampli1</td>\n",
       "      <td>2.993333e-07</td>\n",
       "      <td>33.433333</td>\n",
       "      <td>-23.0</td>\n",
       "      <td>0.7</td>\n",
       "      <td>0</td>\n",
       "      <td>2021-06-11 06:57:34</td>\n",
       "      <td>2021-06-11</td>\n",
       "      <td>...</td>\n",
       "      <td>-23.0</td>\n",
       "      <td>0.7</td>\n",
       "      <td>0.7</td>\n",
       "      <td>0.7</td>\n",
       "      <td>-9.645964e-09</td>\n",
       "      <td>0.164058</td>\n",
       "      <td>5.911890e-18</td>\n",
       "      <td>9.854771e-18</td>\n",
       "      <td>1.0</td>\n",
       "      <td>6.123234e-17</td>\n",
       "    </tr>\n",
       "    <tr>\n",
       "      <th>46</th>\n",
       "      <td>1623394657</td>\n",
       "      <td>Infrastructure</td>\n",
       "      <td>Ampli1</td>\n",
       "      <td>2.145000e-08</td>\n",
       "      <td>38.600000</td>\n",
       "      <td>-23.0</td>\n",
       "      <td>0.7</td>\n",
       "      <td>0</td>\n",
       "      <td>2021-06-11 06:57:37</td>\n",
       "      <td>2021-06-11</td>\n",
       "      <td>...</td>\n",
       "      <td>-23.0</td>\n",
       "      <td>0.7</td>\n",
       "      <td>0.7</td>\n",
       "      <td>0.7</td>\n",
       "      <td>-1.387755e-08</td>\n",
       "      <td>0.270476</td>\n",
       "      <td>5.911890e-18</td>\n",
       "      <td>9.854771e-18</td>\n",
       "      <td>1.0</td>\n",
       "      <td>6.123234e-17</td>\n",
       "    </tr>\n",
       "  </tbody>\n",
       "</table>\n",
       "<p>5 rows × 66 columns</p>\n",
       "</div>"
      ]
     },
     "execution_count": 54,
     "metadata": {},
     "output_type": "execute_result"
    }
   ],
   "execution_count": 54
  },
  {
   "metadata": {},
   "cell_type": "markdown",
   "source": "### Etapa 4: Modelagem (Machine Learning)",
   "id": "a9f6e24496a69edf"
  },
  {
   "metadata": {},
   "cell_type": "markdown",
   "source": "#### 1. Preparação dos Dados para o Modelo",
   "id": "998ef3e2c1286b"
  },
  {
   "metadata": {
    "ExecuteTime": {
     "end_time": "2025-10-25T18:51:29.634500Z",
     "start_time": "2025-10-25T18:51:20.816699Z"
    }
   },
   "cell_type": "code",
   "source": [
    "from sklearn.ensemble import RandomForestClassifier\n",
    "from sklearn.metrics import classification_report, confusion_matrix\n",
    "import matplotlib.pyplot as plt"
   ],
   "id": "e2d97c6a59ad2e00",
   "outputs": [],
   "execution_count": 55
  },
  {
   "metadata": {
    "ExecuteTime": {
     "end_time": "2025-10-25T18:51:32.377163Z",
     "start_time": "2025-10-25T18:51:32.350195Z"
    }
   },
   "cell_type": "code",
   "source": [
    "# Selecionando as features (X) e o alvo (y)\n",
    "# Vamos remover colunas de identificação, tempo e as features originais dos sensores\n",
    "\n",
    "features_to_drop = ['Timestamp', 'Type', 'ID', 'Base', 'Timestamp_s', 'Timestamp_data', 'Timestamp_hora',\n",
    "                    'Failure'] + features_to_engineer\n",
    "\n",
    "X = df_feat.drop(columns=features_to_drop)\n",
    "y = df_feat['Failure']\n",
    "\n",
    "# Divisão em treino e teste (80/20) de forma temporal\n",
    "split_index = int(len(X) * 0.8)\n",
    "\n",
    "X_train, X_test = X[:split_index], X[split_index:]\n",
    "y_train, y_test = y[:split_index], y[split_index:]\n",
    "\n",
    "print(f\"Tamanho do conjunto de treino: {X_train.shape}\")\n",
    "print(f\"Tamanho do conjunto de teste: {X_test.shape}\")"
   ],
   "id": "7faa182b6cdc4088",
   "outputs": [
    {
     "name": "stdout",
     "output_type": "stream",
     "text": [
      "Tamanho do conjunto de treino: (95453, 54)\n",
      "Tamanho do conjunto de teste: (23864, 54)\n"
     ]
    }
   ],
   "execution_count": 56
  },
  {
   "metadata": {},
   "cell_type": "markdown",
   "source": "#### 2. Treinamento do Modelo de Baseline (Random Forest)",
   "id": "8ba284007ae57129"
  },
  {
   "metadata": {
    "ExecuteTime": {
     "end_time": "2025-10-25T18:51:37.006987Z",
     "start_time": "2025-10-25T18:51:35.629441Z"
    }
   },
   "cell_type": "code",
   "source": [
    "# Usamos class_weight='balanced' para lidar com o desbalanceamento das classes (poucas falhas)\n",
    "rf_model = RandomForestClassifier(n_estimators=100, random_state=42, class_weight='balanced', n_jobs=-1)\n",
    "\n",
    "print(\"Iniciando o treinamento do modelo Random Forest...\")\n",
    "rf_model.fit(X_train, y_train)\n",
    "print(\"Treinamento concluído.\")"
   ],
   "id": "3f5475f4bf6627d1",
   "outputs": [
    {
     "name": "stdout",
     "output_type": "stream",
     "text": [
      "Iniciando o treinamento do modelo Random Forest...\n",
      "Treinamento concluído.\n"
     ]
    }
   ],
   "execution_count": 57
  },
  {
   "metadata": {},
   "cell_type": "markdown",
   "source": "#### 3. Avaliação do Modelo",
   "id": "b4a3c0242d9fa501"
  },
  {
   "metadata": {
    "ExecuteTime": {
     "end_time": "2025-10-25T18:51:39.133159Z",
     "start_time": "2025-10-25T18:51:39.001818Z"
    }
   },
   "cell_type": "code",
   "source": [
    "y_pred = rf_model.predict(X_test)\n",
    "\n",
    "print(\"--- Relatório de Classificação no Conjunto de Teste ---\")\n",
    "print(classification_report(y_test, y_pred))\n",
    "\n",
    "cm = confusion_matrix(y_test, y_pred)\n",
    "sns.heatmap(cm, annot=True, fmt='d', cmap='Blues', xticklabels=['Normal', 'Falha'], yticklabels=['Normal', 'Falha'])\n",
    "plt.title('Matriz de Confusão')\n",
    "plt.ylabel('Verdadeiro')\n",
    "plt.xlabel('Previsto')\n",
    "plt.show()"
   ],
   "id": "5e926bc73034b4ef",
   "outputs": [
    {
     "name": "stdout",
     "output_type": "stream",
     "text": [
      "--- Relatório de Classificação no Conjunto de Teste ---\n",
      "              precision    recall  f1-score   support\n",
      "\n",
      "           0       0.94      1.00      0.97     21853\n",
      "           1       0.94      0.31      0.47      2011\n",
      "\n",
      "    accuracy                           0.94     23864\n",
      "   macro avg       0.94      0.66      0.72     23864\n",
      "weighted avg       0.94      0.94      0.93     23864\n",
      "\n",
      "\n",
      "--- Matriz de Confusão ---\n"
     ]
    },
    {
     "data": {
      "text/plain": [
       "<Figure size 640x480 with 2 Axes>"
      ],
      "image/png": "[encoded data removed]"
     },
     "metadata": {},
     "output_type": "display_data",
     "jetTransient": {
      "display_id": null
     }
    }
   ],
   "execution_count": 58
  },
  {
   "metadata": {},
   "cell_type": "markdown",
   "source": "### Etapa 5: Avaliação e Interpretabilidade",
   "id": "94c3a8d66b43688c"
  },
  {
   "metadata": {},
   "cell_type": "markdown",
   "source": "#### 1. Importância das Features (Feature Importance)",
   "id": "4d62ceb18ea4c3f4"
  },
  {
   "metadata": {
    "ExecuteTime": {
     "end_time": "2025-10-25T19:01:40.564989Z",
     "start_time": "2025-10-25T19:01:40.522790Z"
    }
   },
   "cell_type": "code",
   "source": [
    "# Agora que temos um modelo treinado, podemos extrair a importância de cada feature.\n",
    "# Isso nos diz quais variáveis o modelo considerou mais relevantes para fazer as previsões.\n",
    "\n",
    "importances = rf_model.feature_importances_\n",
    "feature_names = X_train.columns\n",
    "\n",
    "# Criando um DataFrame para melhor visualização\n",
    "feature_importance_df = pd.DataFrame({'Feature': feature_names, 'Importance': importances})\n",
    "feature_importance_df = feature_importance_df.sort_values(by='Importance', ascending=False)"
   ],
   "id": "387ca8b2910ea249",
   "outputs": [],
   "execution_count": 59
  },
  {
   "metadata": {
    "ExecuteTime": {
     "end_time": "2025-10-25T19:01:42.066236Z",
     "start_time": "2025-10-25T19:01:41.924834Z"
    }
   },
   "cell_type": "code",
   "source": [
    "plt.figure(figsize=(12, 8))\n",
    "sns.barplot(x='Importance', y='Feature', data=feature_importance_df.head(20))\n",
    "plt.title('Top 20 Features Mais Importantes para o Modelo Random Forest')\n",
    "plt.xlabel('Importância')\n",
    "plt.ylabel('Feature')\n",
    "plt.show()"
   ],
   "id": "9b79880ec5e9667d",
   "outputs": [
    {
     "data": {
      "text/plain": [
       "<Figure size 1200x800 with 1 Axes>"
      ],
      "image/png": "[encoded data removed]"
     },
     "metadata": {},
     "output_type": "display_data",
     "jetTransient": {
      "display_id": null
     }
    }
   ],
   "execution_count": 60
  },
  {
   "metadata": {},
   "cell_type": "code",
   "outputs": [],
   "execution_count": null,
   "source": "",
   "id": "b4fdc674e373300c"
  }
 ],
 "metadata": {
  "kernelspec": {
   "display_name": "Python 3",
   "language": "python",
   "name": "python3"
  },
  "language_info": {
   "codemirror_mode": {
    "name": "ipython",
    "version": 2
   },
   "file_extension": ".py",
   "mimetype": "text/x-python",
   "name": "python",
   "nbconvert_exporter": "python",
   "pygments_lexer": "ipython2",
   "version": "2.7.6"
  }
 },
 "nbformat": 4,
 "nbformat_minor": 5
}
