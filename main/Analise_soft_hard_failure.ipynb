{
 "cells": [
  {
   "metadata": {},
   "cell_type": "markdown",
   "source": "### Bibliotecas\n",
   "id": "2d6a1b82a0e1722e"
  },
  {
   "cell_type": "code",
   "id": "initial_id",
   "metadata": {
    "collapsed": true,
    "ExecuteTime": {
     "end_time": "2025-10-25T17:29:12.811Z",
     "start_time": "2025-10-25T17:29:12.808295Z"
    }
   },
   "source": [
    "import pandas as pd\n",
    "import numpy as np\n",
    "import seaborn as sns"
   ],
   "outputs": [],
   "execution_count": 1
  },
  {
   "metadata": {},
   "cell_type": "markdown",
   "source": "### Carregando Dados",
   "id": "4862101fb3395d33"
  },
  {
   "metadata": {
    "ExecuteTime": {
     "end_time": "2025-10-25T17:33:46.671134Z",
     "start_time": "2025-10-25T17:33:46.587318Z"
    }
   },
   "cell_type": "code",
   "source": [
    "df_sf = pd.read_csv(r'D:\\Projetos\\UFABC\\UFABC_Tambra\\Dados\\SoftFailure_dataset.csv')\n",
    "df_hd = pd.read_csv(r'D:\\Projetos\\UFABC\\UFABC_Tambra\\Dados\\HardFailure_dataset.csv')"
   ],
   "id": "25d8a5a2a2609aeb",
   "outputs": [],
   "execution_count": 2
  },
  {
   "metadata": {},
   "cell_type": "markdown",
   "source": "### Preparação dos dados",
   "id": "5015dc9e2d5f83e2"
  },
  {
   "metadata": {
    "ExecuteTime": {
     "end_time": "2025-10-25T17:37:01.847073Z",
     "start_time": "2025-10-25T17:37:01.844706Z"
    }
   },
   "cell_type": "markdown",
   "source": "#### Junção DFS",
   "id": "2d2ccab411013134"
  },
  {
   "metadata": {
    "ExecuteTime": {
     "end_time": "2025-10-25T17:37:00.120514Z",
     "start_time": "2025-10-25T17:37:00.117490Z"
    }
   },
   "cell_type": "code",
   "source": [
    "# Criando classiicação\n",
    "\n",
    "df_sf['Base'] =  'SOFT'\n",
    "df_hd['Base'] = 'HARD'"
   ],
   "id": "ff9dfc71626d36da",
   "outputs": [],
   "execution_count": 7
  },
  {
   "metadata": {
    "ExecuteTime": {
     "end_time": "2025-10-25T18:03:59.803066Z",
     "start_time": "2025-10-25T18:03:59.788100Z"
    }
   },
   "cell_type": "code",
   "source": "df_fail = pd.concat([df_sf, df_hd], ignore_index=True)",
   "id": "78a2f996707b047d",
   "outputs": [],
   "execution_count": 28
  },
  {
   "metadata": {},
   "cell_type": "markdown",
   "source": "#### Conversão para datetime",
   "id": "7591b4abfaf74bc7"
  },
  {
   "metadata": {
    "ExecuteTime": {
     "end_time": "2025-10-25T18:04:01.371395Z",
     "start_time": "2025-10-25T18:04:00.920006Z"
    }
   },
   "cell_type": "code",
   "source": [
    "df_fail['Timestamp_s'] = pd.to_datetime(df_fail.Timestamp,unit='s')#[[0]]\n",
    "df_fail['Timestamp_data'] = df_fail['Timestamp_s'].astype(str).str.split(expand=True)[0]\n",
    "df_fail['Timestamp_hora'] = df_fail['Timestamp_s'].astype(str).str.split(expand=True)[1]"
   ],
   "id": "2e9c71c5a36ec2e8",
   "outputs": [],
   "execution_count": 29
  },
  {
   "metadata": {},
   "cell_type": "markdown",
   "source": "#### Replice Failure - NaN = 0\n",
   "id": "c6945d3830447b57"
  },
  {
   "metadata": {
    "ExecuteTime": {
     "end_time": "2025-10-25T18:04:02.919720Z",
     "start_time": "2025-10-25T18:04:02.916037Z"
    }
   },
   "cell_type": "code",
   "source": "df_fail.Failure = df_fail.Failure.replace(np.nan,0).astype(int)",
   "id": "59b01b8bc0486ad4",
   "outputs": [],
   "execution_count": 30
  },
  {
   "metadata": {},
   "cell_type": "markdown",
   "source": "### Interpolação - Tratamento de NaN nas Features Numéricas",
   "id": "2f656dbee9cd937e"
  },
  {
   "metadata": {
    "ExecuteTime": {
     "end_time": "2025-10-25T18:04:04.824843Z",
     "start_time": "2025-10-25T18:04:04.794838Z"
    }
   },
   "cell_type": "code",
   "source": [
    "# Para dados de série temporal, a interpolação é uma ótima estratégia.\n",
    "# Ela preenche os valores ausentes com base nos valores vizinhos.\n",
    "# Primeiro, vamos ordenar o DataFrame pelo tempo para garantir que a interpolação funcione corretamente.\n",
    "df_fail = df_fail.sort_values(by='Timestamp').reset_index(drop=True)"
   ],
   "id": "2886a1d46c8c7382",
   "outputs": [],
   "execution_count": 31
  },
  {
   "metadata": {
    "ExecuteTime": {
     "end_time": "2025-10-25T18:04:06.280800Z",
     "start_time": "2025-10-25T18:04:06.248930Z"
    }
   },
   "cell_type": "code",
   "source": [
    "#### O pandas pode preencher os valores ausentes estimando o que eles deveriam ser com base nos valores vizinhos (anteriores e posteriores).\n",
    "\n",
    "features_numericas = ['BER', 'OSNR', 'InputPower', 'OutputPower']\n",
    "df_fail[features_numericas] = df_fail[features_numericas].interpolate(method='linear')"
   ],
   "id": "39f0215fa8098743",
   "outputs": [],
   "execution_count": 32
  },
  {
   "metadata": {
    "ExecuteTime": {
     "end_time": "2025-10-25T18:04:07.566212Z",
     "start_time": "2025-10-25T18:04:07.561790Z"
    }
   },
   "cell_type": "code",
   "source": [
    "df_fail.InputPower = df_fail.InputPower.replace(np.nan,0)\n",
    "df_fail.OutputPower = df_fail.OutputPower.replace(np.nan,0)"
   ],
   "id": "831476a6afc13758",
   "outputs": [],
   "execution_count": 33
  },
  {
   "metadata": {},
   "cell_type": "markdown",
   "source": "### Exploração dos dados",
   "id": "c6a234399c60e8d5"
  },
  {
   "metadata": {
    "ExecuteTime": {
     "end_time": "2025-10-25T18:05:01.826422Z",
     "start_time": "2025-10-25T18:05:01.817916Z"
    }
   },
   "cell_type": "code",
   "source": "df_fail",
   "id": "1e332d91d7d54300",
   "outputs": [
    {
     "data": {
      "text/plain": [
       "         Timestamp            Type          ID           BER       OSNR  \\\n",
       "0       1623394634         Devices  SPO1/18/11  2.280000e-08  38.500000   \n",
       "1       1623394635         Devices  SPO2/18/11  8.730000e-07  23.500000   \n",
       "2       1623394635  Infrastructure      Ampli4  7.303667e-07  26.016667   \n",
       "3       1623394635  Infrastructure      Ampli3  5.877333e-07  28.533333   \n",
       "4       1623394635  Infrastructure      Ampli2  4.451000e-07  31.050000   \n",
       "...            ...             ...         ...           ...        ...   \n",
       "119425  1624486451  Infrastructure      Ampli4  7.306667e-08  34.300000   \n",
       "119426  1624486451  Infrastructure      Ampli1  1.215333e-07  30.000000   \n",
       "119427  1624486451         Devices  SPO2/18/11  1.700000e-07  25.700000   \n",
       "119428  1624486451  Infrastructure      Ampli3  1.700000e-07  25.700000   \n",
       "119429  1624486451  Infrastructure      Ampli2  1.700000e-07  25.700000   \n",
       "\n",
       "        InputPower  OutputPower  Failure         Timestamp_s Timestamp_data  \\\n",
       "0             0.00         0.00        0 2021-06-11 06:57:14     2021-06-11   \n",
       "1             0.00         0.00        0 2021-06-11 06:57:15     2021-06-11   \n",
       "2           -22.90         0.70        0 2021-06-11 06:57:15     2021-06-11   \n",
       "3           -16.70         0.80        0 2021-06-11 06:57:15     2021-06-11   \n",
       "4           -15.50         0.40        0 2021-06-11 06:57:15     2021-06-11   \n",
       "...            ...          ...      ...                 ...            ...   \n",
       "119425      -22.90         0.70        0 2021-06-23 22:14:11     2021-06-23   \n",
       "119426      -19.20         0.70        0 2021-06-23 22:14:11     2021-06-23   \n",
       "119427      -17.95         0.75        0 2021-06-23 22:14:11     2021-06-23   \n",
       "119428      -16.70         0.80        0 2021-06-23 22:14:11     2021-06-23   \n",
       "119429      -15.50         0.40        0 2021-06-23 22:14:11     2021-06-23   \n",
       "\n",
       "       Timestamp_hora  Base  \n",
       "0            06:57:14  HARD  \n",
       "1            06:57:15  HARD  \n",
       "2            06:57:15  HARD  \n",
       "3            06:57:15  HARD  \n",
       "4            06:57:15  HARD  \n",
       "...               ...   ...  \n",
       "119425       22:14:11  SOFT  \n",
       "119426       22:14:11  SOFT  \n",
       "119427       22:14:11  SOFT  \n",
       "119428       22:14:11  SOFT  \n",
       "119429       22:14:11  SOFT  \n",
       "\n",
       "[119430 rows x 12 columns]"
      ],
      "text/html": [
       "<div>\n",
       "<style scoped>\n",
       "    .dataframe tbody tr th:only-of-type {\n",
       "        vertical-align: middle;\n",
       "    }\n",
       "\n",
       "    .dataframe tbody tr th {\n",
       "        vertical-align: top;\n",
       "    }\n",
       "\n",
       "    .dataframe thead th {\n",
       "        text-align: right;\n",
       "    }\n",
       "</style>\n",
       "<table border=\"1\" class=\"dataframe\">\n",
       "  <thead>\n",
       "    <tr style=\"text-align: right;\">\n",
       "      <th></th>\n",
       "      <th>Timestamp</th>\n",
       "      <th>Type</th>\n",
       "      <th>ID</th>\n",
       "      <th>BER</th>\n",
       "      <th>OSNR</th>\n",
       "      <th>InputPower</th>\n",
       "      <th>OutputPower</th>\n",
       "      <th>Failure</th>\n",
       "      <th>Timestamp_s</th>\n",
       "      <th>Timestamp_data</th>\n",
       "      <th>Timestamp_hora</th>\n",
       "      <th>Base</th>\n",
       "    </tr>\n",
       "  </thead>\n",
       "  <tbody>\n",
       "    <tr>\n",
       "      <th>0</th>\n",
       "      <td>1623394634</td>\n",
       "      <td>Devices</td>\n",
       "      <td>SPO1/18/11</td>\n",
       "      <td>2.280000e-08</td>\n",
       "      <td>38.500000</td>\n",
       "      <td>0.00</td>\n",
       "      <td>0.00</td>\n",
       "      <td>0</td>\n",
       "      <td>2021-06-11 06:57:14</td>\n",
       "      <td>2021-06-11</td>\n",
       "      <td>06:57:14</td>\n",
       "      <td>HARD</td>\n",
       "    </tr>\n",
       "    <tr>\n",
       "      <th>1</th>\n",
       "      <td>1623394635</td>\n",
       "      <td>Devices</td>\n",
       "      <td>SPO2/18/11</td>\n",
       "      <td>8.730000e-07</td>\n",
       "      <td>23.500000</td>\n",
       "      <td>0.00</td>\n",
       "      <td>0.00</td>\n",
       "      <td>0</td>\n",
       "      <td>2021-06-11 06:57:15</td>\n",
       "      <td>2021-06-11</td>\n",
       "      <td>06:57:15</td>\n",
       "      <td>HARD</td>\n",
       "    </tr>\n",
       "    <tr>\n",
       "      <th>2</th>\n",
       "      <td>1623394635</td>\n",
       "      <td>Infrastructure</td>\n",
       "      <td>Ampli4</td>\n",
       "      <td>7.303667e-07</td>\n",
       "      <td>26.016667</td>\n",
       "      <td>-22.90</td>\n",
       "      <td>0.70</td>\n",
       "      <td>0</td>\n",
       "      <td>2021-06-11 06:57:15</td>\n",
       "      <td>2021-06-11</td>\n",
       "      <td>06:57:15</td>\n",
       "      <td>HARD</td>\n",
       "    </tr>\n",
       "    <tr>\n",
       "      <th>3</th>\n",
       "      <td>1623394635</td>\n",
       "      <td>Infrastructure</td>\n",
       "      <td>Ampli3</td>\n",
       "      <td>5.877333e-07</td>\n",
       "      <td>28.533333</td>\n",
       "      <td>-16.70</td>\n",
       "      <td>0.80</td>\n",
       "      <td>0</td>\n",
       "      <td>2021-06-11 06:57:15</td>\n",
       "      <td>2021-06-11</td>\n",
       "      <td>06:57:15</td>\n",
       "      <td>HARD</td>\n",
       "    </tr>\n",
       "    <tr>\n",
       "      <th>4</th>\n",
       "      <td>1623394635</td>\n",
       "      <td>Infrastructure</td>\n",
       "      <td>Ampli2</td>\n",
       "      <td>4.451000e-07</td>\n",
       "      <td>31.050000</td>\n",
       "      <td>-15.50</td>\n",
       "      <td>0.40</td>\n",
       "      <td>0</td>\n",
       "      <td>2021-06-11 06:57:15</td>\n",
       "      <td>2021-06-11</td>\n",
       "      <td>06:57:15</td>\n",
       "      <td>HARD</td>\n",
       "    </tr>\n",
       "    <tr>\n",
       "      <th>...</th>\n",
       "      <td>...</td>\n",
       "      <td>...</td>\n",
       "      <td>...</td>\n",
       "      <td>...</td>\n",
       "      <td>...</td>\n",
       "      <td>...</td>\n",
       "      <td>...</td>\n",
       "      <td>...</td>\n",
       "      <td>...</td>\n",
       "      <td>...</td>\n",
       "      <td>...</td>\n",
       "      <td>...</td>\n",
       "    </tr>\n",
       "    <tr>\n",
       "      <th>119425</th>\n",
       "      <td>1624486451</td>\n",
       "      <td>Infrastructure</td>\n",
       "      <td>Ampli4</td>\n",
       "      <td>7.306667e-08</td>\n",
       "      <td>34.300000</td>\n",
       "      <td>-22.90</td>\n",
       "      <td>0.70</td>\n",
       "      <td>0</td>\n",
       "      <td>2021-06-23 22:14:11</td>\n",
       "      <td>2021-06-23</td>\n",
       "      <td>22:14:11</td>\n",
       "      <td>SOFT</td>\n",
       "    </tr>\n",
       "    <tr>\n",
       "      <th>119426</th>\n",
       "      <td>1624486451</td>\n",
       "      <td>Infrastructure</td>\n",
       "      <td>Ampli1</td>\n",
       "      <td>1.215333e-07</td>\n",
       "      <td>30.000000</td>\n",
       "      <td>-19.20</td>\n",
       "      <td>0.70</td>\n",
       "      <td>0</td>\n",
       "      <td>2021-06-23 22:14:11</td>\n",
       "      <td>2021-06-23</td>\n",
       "      <td>22:14:11</td>\n",
       "      <td>SOFT</td>\n",
       "    </tr>\n",
       "    <tr>\n",
       "      <th>119427</th>\n",
       "      <td>1624486451</td>\n",
       "      <td>Devices</td>\n",
       "      <td>SPO2/18/11</td>\n",
       "      <td>1.700000e-07</td>\n",
       "      <td>25.700000</td>\n",
       "      <td>-17.95</td>\n",
       "      <td>0.75</td>\n",
       "      <td>0</td>\n",
       "      <td>2021-06-23 22:14:11</td>\n",
       "      <td>2021-06-23</td>\n",
       "      <td>22:14:11</td>\n",
       "      <td>SOFT</td>\n",
       "    </tr>\n",
       "    <tr>\n",
       "      <th>119428</th>\n",
       "      <td>1624486451</td>\n",
       "      <td>Infrastructure</td>\n",
       "      <td>Ampli3</td>\n",
       "      <td>1.700000e-07</td>\n",
       "      <td>25.700000</td>\n",
       "      <td>-16.70</td>\n",
       "      <td>0.80</td>\n",
       "      <td>0</td>\n",
       "      <td>2021-06-23 22:14:11</td>\n",
       "      <td>2021-06-23</td>\n",
       "      <td>22:14:11</td>\n",
       "      <td>SOFT</td>\n",
       "    </tr>\n",
       "    <tr>\n",
       "      <th>119429</th>\n",
       "      <td>1624486451</td>\n",
       "      <td>Infrastructure</td>\n",
       "      <td>Ampli2</td>\n",
       "      <td>1.700000e-07</td>\n",
       "      <td>25.700000</td>\n",
       "      <td>-15.50</td>\n",
       "      <td>0.40</td>\n",
       "      <td>0</td>\n",
       "      <td>2021-06-23 22:14:11</td>\n",
       "      <td>2021-06-23</td>\n",
       "      <td>22:14:11</td>\n",
       "      <td>SOFT</td>\n",
       "    </tr>\n",
       "  </tbody>\n",
       "</table>\n",
       "<p>119430 rows × 12 columns</p>\n",
       "</div>"
      ]
     },
     "execution_count": 37,
     "metadata": {},
     "output_type": "execute_result"
    }
   ],
   "execution_count": 37
  },
  {
   "metadata": {
    "ExecuteTime": {
     "end_time": "2025-10-25T18:08:49.830190Z",
     "start_time": "2025-10-25T18:08:49.810197Z"
    }
   },
   "cell_type": "code",
   "source": "df_fail.info()",
   "id": "231c91b5ca86809f",
   "outputs": [
    {
     "name": "stdout",
     "output_type": "stream",
     "text": [
      "<class 'pandas.core.frame.DataFrame'>\n",
      "RangeIndex: 119430 entries, 0 to 119429\n",
      "Data columns (total 12 columns):\n",
      " #   Column          Non-Null Count   Dtype         \n",
      "---  ------          --------------   -----         \n",
      " 0   Timestamp       119430 non-null  int64         \n",
      " 1   Type            119430 non-null  object        \n",
      " 2   ID              119430 non-null  object        \n",
      " 3   BER             119430 non-null  float64       \n",
      " 4   OSNR            119430 non-null  float64       \n",
      " 5   InputPower      119430 non-null  float64       \n",
      " 6   OutputPower     119430 non-null  float64       \n",
      " 7   Failure         119430 non-null  int64         \n",
      " 8   Timestamp_s     119430 non-null  datetime64[ns]\n",
      " 9   Timestamp_data  119430 non-null  object        \n",
      " 10  Timestamp_hora  119430 non-null  object        \n",
      " 11  Base            119430 non-null  object        \n",
      "dtypes: datetime64[ns](1), float64(4), int64(2), object(5)\n",
      "memory usage: 10.9+ MB\n"
     ]
    }
   ],
   "execution_count": 38
  },
  {
   "metadata": {
    "ExecuteTime": {
     "end_time": "2025-10-25T18:08:54.141264Z",
     "start_time": "2025-10-25T18:08:54.117161Z"
    }
   },
   "cell_type": "code",
   "source": "df_fail.describe()",
   "id": "367ca3c9eb07010d",
   "outputs": [
    {
     "data": {
      "text/plain": [
       "          Timestamp           BER           OSNR     InputPower  \\\n",
       "count  1.194300e+05  1.194300e+05  119430.000000  119430.000000   \n",
       "mean   1.623889e+09  1.846473e-04      30.590290     -19.582524   \n",
       "min    1.623395e+09  0.000000e+00       0.000000     -38.000000   \n",
       "25%    1.623411e+09  2.370000e-08      25.400000     -22.900000   \n",
       "50%    1.623427e+09  1.747500e-07      31.000000     -19.200000   \n",
       "75%    1.624470e+09  6.166938e-07      38.500000     -16.700000   \n",
       "max    1.624486e+09  2.651316e-02      38.600000       0.000000   \n",
       "std    5.271721e+05  1.212574e-03       6.921175       3.740281   \n",
       "\n",
       "         OutputPower        Failure                    Timestamp_s  \n",
       "count  119430.000000  119430.000000                         119430  \n",
       "mean        0.648359       0.063728  2021-06-17 00:14:02.432923136  \n",
       "min         0.000000       0.000000            2021-06-11 06:57:14  \n",
       "25%         0.550000       0.000000            2021-06-11 11:24:37  \n",
       "50%         0.700000       0.000000            2021-06-11 15:58:39  \n",
       "75%         0.700000       0.000000            2021-06-23 17:46:46  \n",
       "max         0.900000       1.000000            2021-06-23 22:14:11  \n",
       "std         0.132266       0.244268                            NaN  "
      ],
      "text/html": [
       "<div>\n",
       "<style scoped>\n",
       "    .dataframe tbody tr th:only-of-type {\n",
       "        vertical-align: middle;\n",
       "    }\n",
       "\n",
       "    .dataframe tbody tr th {\n",
       "        vertical-align: top;\n",
       "    }\n",
       "\n",
       "    .dataframe thead th {\n",
       "        text-align: right;\n",
       "    }\n",
       "</style>\n",
       "<table border=\"1\" class=\"dataframe\">\n",
       "  <thead>\n",
       "    <tr style=\"text-align: right;\">\n",
       "      <th></th>\n",
       "      <th>Timestamp</th>\n",
       "      <th>BER</th>\n",
       "      <th>OSNR</th>\n",
       "      <th>InputPower</th>\n",
       "      <th>OutputPower</th>\n",
       "      <th>Failure</th>\n",
       "      <th>Timestamp_s</th>\n",
       "    </tr>\n",
       "  </thead>\n",
       "  <tbody>\n",
       "    <tr>\n",
       "      <th>count</th>\n",
       "      <td>1.194300e+05</td>\n",
       "      <td>1.194300e+05</td>\n",
       "      <td>119430.000000</td>\n",
       "      <td>119430.000000</td>\n",
       "      <td>119430.000000</td>\n",
       "      <td>119430.000000</td>\n",
       "      <td>119430</td>\n",
       "    </tr>\n",
       "    <tr>\n",
       "      <th>mean</th>\n",
       "      <td>1.623889e+09</td>\n",
       "      <td>1.846473e-04</td>\n",
       "      <td>30.590290</td>\n",
       "      <td>-19.582524</td>\n",
       "      <td>0.648359</td>\n",
       "      <td>0.063728</td>\n",
       "      <td>2021-06-17 00:14:02.432923136</td>\n",
       "    </tr>\n",
       "    <tr>\n",
       "      <th>min</th>\n",
       "      <td>1.623395e+09</td>\n",
       "      <td>0.000000e+00</td>\n",
       "      <td>0.000000</td>\n",
       "      <td>-38.000000</td>\n",
       "      <td>0.000000</td>\n",
       "      <td>0.000000</td>\n",
       "      <td>2021-06-11 06:57:14</td>\n",
       "    </tr>\n",
       "    <tr>\n",
       "      <th>25%</th>\n",
       "      <td>1.623411e+09</td>\n",
       "      <td>2.370000e-08</td>\n",
       "      <td>25.400000</td>\n",
       "      <td>-22.900000</td>\n",
       "      <td>0.550000</td>\n",
       "      <td>0.000000</td>\n",
       "      <td>2021-06-11 11:24:37</td>\n",
       "    </tr>\n",
       "    <tr>\n",
       "      <th>50%</th>\n",
       "      <td>1.623427e+09</td>\n",
       "      <td>1.747500e-07</td>\n",
       "      <td>31.000000</td>\n",
       "      <td>-19.200000</td>\n",
       "      <td>0.700000</td>\n",
       "      <td>0.000000</td>\n",
       "      <td>2021-06-11 15:58:39</td>\n",
       "    </tr>\n",
       "    <tr>\n",
       "      <th>75%</th>\n",
       "      <td>1.624470e+09</td>\n",
       "      <td>6.166938e-07</td>\n",
       "      <td>38.500000</td>\n",
       "      <td>-16.700000</td>\n",
       "      <td>0.700000</td>\n",
       "      <td>0.000000</td>\n",
       "      <td>2021-06-23 17:46:46</td>\n",
       "    </tr>\n",
       "    <tr>\n",
       "      <th>max</th>\n",
       "      <td>1.624486e+09</td>\n",
       "      <td>2.651316e-02</td>\n",
       "      <td>38.600000</td>\n",
       "      <td>0.000000</td>\n",
       "      <td>0.900000</td>\n",
       "      <td>1.000000</td>\n",
       "      <td>2021-06-23 22:14:11</td>\n",
       "    </tr>\n",
       "    <tr>\n",
       "      <th>std</th>\n",
       "      <td>5.271721e+05</td>\n",
       "      <td>1.212574e-03</td>\n",
       "      <td>6.921175</td>\n",
       "      <td>3.740281</td>\n",
       "      <td>0.132266</td>\n",
       "      <td>0.244268</td>\n",
       "      <td>NaN</td>\n",
       "    </tr>\n",
       "  </tbody>\n",
       "</table>\n",
       "</div>"
      ]
     },
     "execution_count": 39,
     "metadata": {},
     "output_type": "execute_result"
    }
   ],
   "execution_count": 39
  },
  {
   "metadata": {
    "ExecuteTime": {
     "end_time": "2025-10-25T18:09:04.273757Z",
     "start_time": "2025-10-25T18:09:04.267007Z"
    }
   },
   "cell_type": "code",
   "source": "df_fail.Type.unique()",
   "id": "e6fddd4e5e33f59b",
   "outputs": [
    {
     "data": {
      "text/plain": [
       "array(['Devices', 'Infrastructure'], dtype=object)"
      ]
     },
     "execution_count": 41,
     "metadata": {},
     "output_type": "execute_result"
    }
   ],
   "execution_count": 41
  },
  {
   "metadata": {
    "ExecuteTime": {
     "end_time": "2025-10-25T18:13:40.531565Z",
     "start_time": "2025-10-25T18:13:40.525205Z"
    }
   },
   "cell_type": "code",
   "source": "df_fail.ID.unique()",
   "id": "e6a542d1440b4ffb",
   "outputs": [
    {
     "data": {
      "text/plain": [
       "array(['SPO1/18/11', 'SPO2/18/11', 'Ampli4', 'Ampli3', 'Ampli2', 'Ampli1'],\n",
       "      dtype=object)"
      ]
     },
     "execution_count": 45,
     "metadata": {},
     "output_type": "execute_result"
    }
   ],
   "execution_count": 45
  },
  {
   "metadata": {
    "ExecuteTime": {
     "end_time": "2025-10-25T18:09:02.396401Z",
     "start_time": "2025-10-25T18:09:02.380611Z"
    }
   },
   "cell_type": "code",
   "outputs": [
    {
     "data": {
      "text/plain": [
       "             Timestamp       BER      OSNR  InputPower  OutputPower   Failure\n",
       "Timestamp     1.000000 -0.129228  0.131924    0.139648     0.015441  0.121965\n",
       "BER          -0.129228  1.000000 -0.260976   -0.064315    -0.016382 -0.020029\n",
       "OSNR          0.131924 -0.260976  1.000000    0.059078    -0.004025 -0.132893\n",
       "InputPower    0.139648 -0.064315  0.059078    1.000000    -0.395968 -0.154167\n",
       "OutputPower   0.015441 -0.016382 -0.004025   -0.395968     1.000000 -0.041835\n",
       "Failure       0.121965 -0.020029 -0.132893   -0.154167    -0.041835  1.000000"
      ],
      "text/html": [
       "<div>\n",
       "<style scoped>\n",
       "    .dataframe tbody tr th:only-of-type {\n",
       "        vertical-align: middle;\n",
       "    }\n",
       "\n",
       "    .dataframe tbody tr th {\n",
       "        vertical-align: top;\n",
       "    }\n",
       "\n",
       "    .dataframe thead th {\n",
       "        text-align: right;\n",
       "    }\n",
       "</style>\n",
       "<table border=\"1\" class=\"dataframe\">\n",
       "  <thead>\n",
       "    <tr style=\"text-align: right;\">\n",
       "      <th></th>\n",
       "      <th>Timestamp</th>\n",
       "      <th>BER</th>\n",
       "      <th>OSNR</th>\n",
       "      <th>InputPower</th>\n",
       "      <th>OutputPower</th>\n",
       "      <th>Failure</th>\n",
       "    </tr>\n",
       "  </thead>\n",
       "  <tbody>\n",
       "    <tr>\n",
       "      <th>Timestamp</th>\n",
       "      <td>1.000000</td>\n",
       "      <td>-0.129228</td>\n",
       "      <td>0.131924</td>\n",
       "      <td>0.139648</td>\n",
       "      <td>0.015441</td>\n",
       "      <td>0.121965</td>\n",
       "    </tr>\n",
       "    <tr>\n",
       "      <th>BER</th>\n",
       "      <td>-0.129228</td>\n",
       "      <td>1.000000</td>\n",
       "      <td>-0.260976</td>\n",
       "      <td>-0.064315</td>\n",
       "      <td>-0.016382</td>\n",
       "      <td>-0.020029</td>\n",
       "    </tr>\n",
       "    <tr>\n",
       "      <th>OSNR</th>\n",
       "      <td>0.131924</td>\n",
       "      <td>-0.260976</td>\n",
       "      <td>1.000000</td>\n",
       "      <td>0.059078</td>\n",
       "      <td>-0.004025</td>\n",
       "      <td>-0.132893</td>\n",
       "    </tr>\n",
       "    <tr>\n",
       "      <th>InputPower</th>\n",
       "      <td>0.139648</td>\n",
       "      <td>-0.064315</td>\n",
       "      <td>0.059078</td>\n",
       "      <td>1.000000</td>\n",
       "      <td>-0.395968</td>\n",
       "      <td>-0.154167</td>\n",
       "    </tr>\n",
       "    <tr>\n",
       "      <th>OutputPower</th>\n",
       "      <td>0.015441</td>\n",
       "      <td>-0.016382</td>\n",
       "      <td>-0.004025</td>\n",
       "      <td>-0.395968</td>\n",
       "      <td>1.000000</td>\n",
       "      <td>-0.041835</td>\n",
       "    </tr>\n",
       "    <tr>\n",
       "      <th>Failure</th>\n",
       "      <td>0.121965</td>\n",
       "      <td>-0.020029</td>\n",
       "      <td>-0.132893</td>\n",
       "      <td>-0.154167</td>\n",
       "      <td>-0.041835</td>\n",
       "      <td>1.000000</td>\n",
       "    </tr>\n",
       "  </tbody>\n",
       "</table>\n",
       "</div>"
      ]
     },
     "execution_count": 40,
     "metadata": {},
     "output_type": "execute_result"
    }
   ],
   "execution_count": 40,
   "source": "df_fail.corr(numeric_only=True)",
   "id": "b767b3ca22b87a1d"
  },
  {
   "metadata": {
    "ExecuteTime": {
     "end_time": "2025-10-25T18:09:07.311313Z",
     "start_time": "2025-10-25T18:09:06.432755Z"
    }
   },
   "cell_type": "code",
   "outputs": [
    {
     "data": {
      "text/plain": [
       "<Axes: >"
      ]
     },
     "execution_count": 42,
     "metadata": {},
     "output_type": "execute_result"
    },
    {
     "data": {
      "text/plain": [
       "<Figure size 640x480 with 2 Axes>"
      ],
      "image/png": "[encoded data removed]"
     },
     "metadata": {},
     "output_type": "display_data",
     "jetTransient": {
      "display_id": null
     }
    }
   ],
   "execution_count": 42,
   "source": "sns.heatmap(df_fail.corr(numeric_only=True))",
   "id": "da53e0124cc908d9"
  },
  {
   "metadata": {},
   "cell_type": "markdown",
   "source": "### MACHINE LEARNING",
   "id": "d5957c60ca383cb0"
  },
  {
   "metadata": {},
   "cell_type": "code",
   "outputs": [],
   "execution_count": null,
   "source": "",
   "id": "a98ea272c0459269"
  },
  {
   "metadata": {},
   "cell_type": "code",
   "outputs": [],
   "execution_count": null,
   "source": "",
   "id": "a37bae5169136e16"
  }
 ],
 "metadata": {
  "kernelspec": {
   "display_name": "Python 3",
   "language": "python",
   "name": "python3"
  },
  "language_info": {
   "codemirror_mode": {
    "name": "ipython",
    "version": 2
   },
   "file_extension": ".py",
   "mimetype": "text/x-python",
   "name": "python",
   "nbconvert_exporter": "python",
   "pygments_lexer": "ipython2",
   "version": "2.7.6"
  }
 },
 "nbformat": 4,
 "nbformat_minor": 5
}
