{
 "cells": [
  {
   "metadata": {},
   "cell_type": "markdown",
   "source": "### Bibliotecas\n",
   "id": "2d6a1b82a0e1722e"
  },
  {
   "cell_type": "code",
   "id": "initial_id",
   "metadata": {
    "collapsed": true,
    "ExecuteTime": {
     "end_time": "2025-10-25T20:15:15.711418Z",
     "start_time": "2025-10-25T20:15:15.707883Z"
    }
   },
   "source": [
    "import pandas as pd\n",
    "import numpy as np\n",
    "import seaborn as sns\n",
    "from sklearn.model_selection import StratifiedKFold\n",
    "from sklearn.metrics import roc_curve, auc, precision_recall_curve, average_precision_score\n",
    "from tensorflow.keras.models import Sequential\n",
    "from tensorflow.keras.layers import LSTM, Dense, Dropout\n",
    "from sklearn.preprocessing import StandardScaler\n",
    "from flaml import AutoML\n",
    "from imblearn.over_sampling import SMOTE"
   ],
   "outputs": [],
   "execution_count": 75
  },
  {
   "metadata": {},
   "cell_type": "markdown",
   "source": "### Carregando Dados",
   "id": "4862101fb3395d33"
  },
  {
   "metadata": {
    "ExecuteTime": {
     "end_time": "2025-10-25T20:15:15.782744Z",
     "start_time": "2025-10-25T20:15:15.732097Z"
    }
   },
   "cell_type": "code",
   "source": [
    "df_sf = pd.read_csv(r'D:\\Projetos\\UFABC\\UFABC_Tambra\\Dados\\SoftFailure_dataset.csv')\n",
    "df_hd = pd.read_csv(r'D:\\Projetos\\UFABC\\UFABC_Tambra\\Dados\\HardFailure_dataset.csv')"
   ],
   "id": "25d8a5a2a2609aeb",
   "outputs": [],
   "execution_count": 76
  },
  {
   "metadata": {},
   "cell_type": "markdown",
   "source": "### Preparação dos dados",
   "id": "5015dc9e2d5f83e2"
  },
  {
   "metadata": {
    "ExecuteTime": {
     "end_time": "2025-10-25T17:37:01.847073Z",
     "start_time": "2025-10-25T17:37:01.844706Z"
    }
   },
   "cell_type": "markdown",
   "source": "#### Junção DFS",
   "id": "2d2ccab411013134"
  },
  {
   "metadata": {
    "ExecuteTime": {
     "end_time": "2025-10-25T20:15:15.792111Z",
     "start_time": "2025-10-25T20:15:15.788839Z"
    }
   },
   "cell_type": "code",
   "source": [
    "# Criando classiicação\n",
    "\n",
    "df_sf['Base'] =  'SOFT'\n",
    "df_hd['Base'] = 'HARD'"
   ],
   "id": "ff9dfc71626d36da",
   "outputs": [],
   "execution_count": 77
  },
  {
   "metadata": {
    "ExecuteTime": {
     "end_time": "2025-10-25T20:15:15.801087Z",
     "start_time": "2025-10-25T20:15:15.796445Z"
    }
   },
   "cell_type": "code",
   "source": "df_fail = pd.concat([df_sf, df_hd], ignore_index=True)",
   "id": "78a2f996707b047d",
   "outputs": [],
   "execution_count": 78
  },
  {
   "metadata": {},
   "cell_type": "markdown",
   "source": "#### Conversão para datetime",
   "id": "7591b4abfaf74bc7"
  },
  {
   "metadata": {
    "ExecuteTime": {
     "end_time": "2025-10-25T20:15:16.121202Z",
     "start_time": "2025-10-25T20:15:15.805144Z"
    }
   },
   "cell_type": "code",
   "source": [
    "df_fail['Timestamp_s'] = pd.to_datetime(df_fail.Timestamp,unit='s')#[[0]]\n",
    "df_fail['Timestamp_data'] = df_fail['Timestamp_s'].astype(str).str.split(expand=True)[0]\n",
    "df_fail['Timestamp_hora'] = df_fail['Timestamp_s'].astype(str).str.split(expand=True)[1]"
   ],
   "id": "2e9c71c5a36ec2e8",
   "outputs": [],
   "execution_count": 79
  },
  {
   "metadata": {},
   "cell_type": "markdown",
   "source": "#### Replice Failure - NaN = 0\n",
   "id": "c6945d3830447b57"
  },
  {
   "metadata": {
    "ExecuteTime": {
     "end_time": "2025-10-25T20:15:16.129114Z",
     "start_time": "2025-10-25T20:15:16.125569Z"
    }
   },
   "cell_type": "code",
   "source": "df_fail.Failure = df_fail.Failure.replace(np.nan,0).astype(int)",
   "id": "59b01b8bc0486ad4",
   "outputs": [],
   "execution_count": 80
  },
  {
   "metadata": {},
   "cell_type": "markdown",
   "source": "### Interpolação - Tratamento de NaN nas Features Numéricas",
   "id": "2f656dbee9cd937e"
  },
  {
   "metadata": {
    "ExecuteTime": {
     "end_time": "2025-10-25T20:15:16.162309Z",
     "start_time": "2025-10-25T20:15:16.133497Z"
    }
   },
   "cell_type": "code",
   "source": [
    "# Para dados de série temporal, a interpolação é uma ótima estratégia.\n",
    "# Ela preenche os valores ausentes com base nos valores vizinhos.\n",
    "# Primeiro, vamos ordenar o DataFrame pelo tempo para garantir que a interpolação funcione corretamente.\n",
    "df_fail = df_fail.sort_values(by='Timestamp').reset_index(drop=True)"
   ],
   "id": "2886a1d46c8c7382",
   "outputs": [],
   "execution_count": 81
  },
  {
   "metadata": {
    "ExecuteTime": {
     "end_time": "2025-10-25T20:15:16.198703Z",
     "start_time": "2025-10-25T20:15:16.167172Z"
    }
   },
   "cell_type": "code",
   "source": [
    "#### O pandas pode preencher os valores ausentes estimando o que eles deveriam ser com base nos valores vizinhos (anteriores e posteriores).\n",
    "\n",
    "features_numericas = ['BER', 'OSNR', 'InputPower', 'OutputPower']\n",
    "df_fail[features_numericas] = df_fail[features_numericas].interpolate(method='linear')"
   ],
   "id": "39f0215fa8098743",
   "outputs": [],
   "execution_count": 82
  },
  {
   "metadata": {
    "ExecuteTime": {
     "end_time": "2025-10-25T20:15:16.207749Z",
     "start_time": "2025-10-25T20:15:16.203890Z"
    }
   },
   "cell_type": "code",
   "source": [
    "df_fail.InputPower = df_fail.InputPower.replace(np.nan,0)\n",
    "df_fail.OutputPower = df_fail.OutputPower.replace(np.nan,0)"
   ],
   "id": "831476a6afc13758",
   "outputs": [],
   "execution_count": 83
  },
  {
   "metadata": {},
   "cell_type": "markdown",
   "source": "### Exploração dos dados",
   "id": "c6a234399c60e8d5"
  },
  {
   "metadata": {
    "ExecuteTime": {
     "end_time": "2025-10-25T20:15:16.220709Z",
     "start_time": "2025-10-25T20:15:16.213067Z"
    }
   },
   "cell_type": "code",
   "source": "df_fail",
   "id": "1e332d91d7d54300",
   "outputs": [
    {
     "data": {
      "text/plain": [
       "         Timestamp            Type          ID           BER       OSNR  \\\n",
       "0       1623394634         Devices  SPO1/18/11  2.280000e-08  38.500000   \n",
       "1       1623394635         Devices  SPO2/18/11  8.730000e-07  23.500000   \n",
       "2       1623394635  Infrastructure      Ampli4  7.303667e-07  26.016667   \n",
       "3       1623394635  Infrastructure      Ampli3  5.877333e-07  28.533333   \n",
       "4       1623394635  Infrastructure      Ampli2  4.451000e-07  31.050000   \n",
       "...            ...             ...         ...           ...        ...   \n",
       "119425  1624486451  Infrastructure      Ampli4  7.306667e-08  34.300000   \n",
       "119426  1624486451  Infrastructure      Ampli1  1.215333e-07  30.000000   \n",
       "119427  1624486451         Devices  SPO2/18/11  1.700000e-07  25.700000   \n",
       "119428  1624486451  Infrastructure      Ampli3  1.700000e-07  25.700000   \n",
       "119429  1624486451  Infrastructure      Ampli2  1.700000e-07  25.700000   \n",
       "\n",
       "        InputPower  OutputPower  Failure  Base         Timestamp_s  \\\n",
       "0             0.00         0.00        0  HARD 2021-06-11 06:57:14   \n",
       "1             0.00         0.00        0  HARD 2021-06-11 06:57:15   \n",
       "2           -22.90         0.70        0  HARD 2021-06-11 06:57:15   \n",
       "3           -16.70         0.80        0  HARD 2021-06-11 06:57:15   \n",
       "4           -15.50         0.40        0  HARD 2021-06-11 06:57:15   \n",
       "...            ...          ...      ...   ...                 ...   \n",
       "119425      -22.90         0.70        0  SOFT 2021-06-23 22:14:11   \n",
       "119426      -19.20         0.70        0  SOFT 2021-06-23 22:14:11   \n",
       "119427      -17.95         0.75        0  SOFT 2021-06-23 22:14:11   \n",
       "119428      -16.70         0.80        0  SOFT 2021-06-23 22:14:11   \n",
       "119429      -15.50         0.40        0  SOFT 2021-06-23 22:14:11   \n",
       "\n",
       "       Timestamp_data Timestamp_hora  \n",
       "0          2021-06-11       06:57:14  \n",
       "1          2021-06-11       06:57:15  \n",
       "2          2021-06-11       06:57:15  \n",
       "3          2021-06-11       06:57:15  \n",
       "4          2021-06-11       06:57:15  \n",
       "...               ...            ...  \n",
       "119425     2021-06-23       22:14:11  \n",
       "119426     2021-06-23       22:14:11  \n",
       "119427     2021-06-23       22:14:11  \n",
       "119428     2021-06-23       22:14:11  \n",
       "119429     2021-06-23       22:14:11  \n",
       "\n",
       "[119430 rows x 12 columns]"
      ],
      "text/html": [
       "<div>\n",
       "<style scoped>\n",
       "    .dataframe tbody tr th:only-of-type {\n",
       "        vertical-align: middle;\n",
       "    }\n",
       "\n",
       "    .dataframe tbody tr th {\n",
       "        vertical-align: top;\n",
       "    }\n",
       "\n",
       "    .dataframe thead th {\n",
       "        text-align: right;\n",
       "    }\n",
       "</style>\n",
       "<table border=\"1\" class=\"dataframe\">\n",
       "  <thead>\n",
       "    <tr style=\"text-align: right;\">\n",
       "      <th></th>\n",
       "      <th>Timestamp</th>\n",
       "      <th>Type</th>\n",
       "      <th>ID</th>\n",
       "      <th>BER</th>\n",
       "      <th>OSNR</th>\n",
       "      <th>InputPower</th>\n",
       "      <th>OutputPower</th>\n",
       "      <th>Failure</th>\n",
       "      <th>Base</th>\n",
       "      <th>Timestamp_s</th>\n",
       "      <th>Timestamp_data</th>\n",
       "      <th>Timestamp_hora</th>\n",
       "    </tr>\n",
       "  </thead>\n",
       "  <tbody>\n",
       "    <tr>\n",
       "      <th>0</th>\n",
       "      <td>1623394634</td>\n",
       "      <td>Devices</td>\n",
       "      <td>SPO1/18/11</td>\n",
       "      <td>2.280000e-08</td>\n",
       "      <td>38.500000</td>\n",
       "      <td>0.00</td>\n",
       "      <td>0.00</td>\n",
       "      <td>0</td>\n",
       "      <td>HARD</td>\n",
       "      <td>2021-06-11 06:57:14</td>\n",
       "      <td>2021-06-11</td>\n",
       "      <td>06:57:14</td>\n",
       "    </tr>\n",
       "    <tr>\n",
       "      <th>1</th>\n",
       "      <td>1623394635</td>\n",
       "      <td>Devices</td>\n",
       "      <td>SPO2/18/11</td>\n",
       "      <td>8.730000e-07</td>\n",
       "      <td>23.500000</td>\n",
       "      <td>0.00</td>\n",
       "      <td>0.00</td>\n",
       "      <td>0</td>\n",
       "      <td>HARD</td>\n",
       "      <td>2021-06-11 06:57:15</td>\n",
       "      <td>2021-06-11</td>\n",
       "      <td>06:57:15</td>\n",
       "    </tr>\n",
       "    <tr>\n",
       "      <th>2</th>\n",
       "      <td>1623394635</td>\n",
       "      <td>Infrastructure</td>\n",
       "      <td>Ampli4</td>\n",
       "      <td>7.303667e-07</td>\n",
       "      <td>26.016667</td>\n",
       "      <td>-22.90</td>\n",
       "      <td>0.70</td>\n",
       "      <td>0</td>\n",
       "      <td>HARD</td>\n",
       "      <td>2021-06-11 06:57:15</td>\n",
       "      <td>2021-06-11</td>\n",
       "      <td>06:57:15</td>\n",
       "    </tr>\n",
       "    <tr>\n",
       "      <th>3</th>\n",
       "      <td>1623394635</td>\n",
       "      <td>Infrastructure</td>\n",
       "      <td>Ampli3</td>\n",
       "      <td>5.877333e-07</td>\n",
       "      <td>28.533333</td>\n",
       "      <td>-16.70</td>\n",
       "      <td>0.80</td>\n",
       "      <td>0</td>\n",
       "      <td>HARD</td>\n",
       "      <td>2021-06-11 06:57:15</td>\n",
       "      <td>2021-06-11</td>\n",
       "      <td>06:57:15</td>\n",
       "    </tr>\n",
       "    <tr>\n",
       "      <th>4</th>\n",
       "      <td>1623394635</td>\n",
       "      <td>Infrastructure</td>\n",
       "      <td>Ampli2</td>\n",
       "      <td>4.451000e-07</td>\n",
       "      <td>31.050000</td>\n",
       "      <td>-15.50</td>\n",
       "      <td>0.40</td>\n",
       "      <td>0</td>\n",
       "      <td>HARD</td>\n",
       "      <td>2021-06-11 06:57:15</td>\n",
       "      <td>2021-06-11</td>\n",
       "      <td>06:57:15</td>\n",
       "    </tr>\n",
       "    <tr>\n",
       "      <th>...</th>\n",
       "      <td>...</td>\n",
       "      <td>...</td>\n",
       "      <td>...</td>\n",
       "      <td>...</td>\n",
       "      <td>...</td>\n",
       "      <td>...</td>\n",
       "      <td>...</td>\n",
       "      <td>...</td>\n",
       "      <td>...</td>\n",
       "      <td>...</td>\n",
       "      <td>...</td>\n",
       "      <td>...</td>\n",
       "    </tr>\n",
       "    <tr>\n",
       "      <th>119425</th>\n",
       "      <td>1624486451</td>\n",
       "      <td>Infrastructure</td>\n",
       "      <td>Ampli4</td>\n",
       "      <td>7.306667e-08</td>\n",
       "      <td>34.300000</td>\n",
       "      <td>-22.90</td>\n",
       "      <td>0.70</td>\n",
       "      <td>0</td>\n",
       "      <td>SOFT</td>\n",
       "      <td>2021-06-23 22:14:11</td>\n",
       "      <td>2021-06-23</td>\n",
       "      <td>22:14:11</td>\n",
       "    </tr>\n",
       "    <tr>\n",
       "      <th>119426</th>\n",
       "      <td>1624486451</td>\n",
       "      <td>Infrastructure</td>\n",
       "      <td>Ampli1</td>\n",
       "      <td>1.215333e-07</td>\n",
       "      <td>30.000000</td>\n",
       "      <td>-19.20</td>\n",
       "      <td>0.70</td>\n",
       "      <td>0</td>\n",
       "      <td>SOFT</td>\n",
       "      <td>2021-06-23 22:14:11</td>\n",
       "      <td>2021-06-23</td>\n",
       "      <td>22:14:11</td>\n",
       "    </tr>\n",
       "    <tr>\n",
       "      <th>119427</th>\n",
       "      <td>1624486451</td>\n",
       "      <td>Devices</td>\n",
       "      <td>SPO2/18/11</td>\n",
       "      <td>1.700000e-07</td>\n",
       "      <td>25.700000</td>\n",
       "      <td>-17.95</td>\n",
       "      <td>0.75</td>\n",
       "      <td>0</td>\n",
       "      <td>SOFT</td>\n",
       "      <td>2021-06-23 22:14:11</td>\n",
       "      <td>2021-06-23</td>\n",
       "      <td>22:14:11</td>\n",
       "    </tr>\n",
       "    <tr>\n",
       "      <th>119428</th>\n",
       "      <td>1624486451</td>\n",
       "      <td>Infrastructure</td>\n",
       "      <td>Ampli3</td>\n",
       "      <td>1.700000e-07</td>\n",
       "      <td>25.700000</td>\n",
       "      <td>-16.70</td>\n",
       "      <td>0.80</td>\n",
       "      <td>0</td>\n",
       "      <td>SOFT</td>\n",
       "      <td>2021-06-23 22:14:11</td>\n",
       "      <td>2021-06-23</td>\n",
       "      <td>22:14:11</td>\n",
       "    </tr>\n",
       "    <tr>\n",
       "      <th>119429</th>\n",
       "      <td>1624486451</td>\n",
       "      <td>Infrastructure</td>\n",
       "      <td>Ampli2</td>\n",
       "      <td>1.700000e-07</td>\n",
       "      <td>25.700000</td>\n",
       "      <td>-15.50</td>\n",
       "      <td>0.40</td>\n",
       "      <td>0</td>\n",
       "      <td>SOFT</td>\n",
       "      <td>2021-06-23 22:14:11</td>\n",
       "      <td>2021-06-23</td>\n",
       "      <td>22:14:11</td>\n",
       "    </tr>\n",
       "  </tbody>\n",
       "</table>\n",
       "<p>119430 rows × 12 columns</p>\n",
       "</div>"
      ]
     },
     "execution_count": 84,
     "metadata": {},
     "output_type": "execute_result"
    }
   ],
   "execution_count": 84
  },
  {
   "metadata": {
    "ExecuteTime": {
     "end_time": "2025-10-25T20:15:16.266302Z",
     "start_time": "2025-10-25T20:15:16.249535Z"
    }
   },
   "cell_type": "code",
   "source": "df_fail.info()",
   "id": "231c91b5ca86809f",
   "outputs": [
    {
     "name": "stdout",
     "output_type": "stream",
     "text": [
      "<class 'pandas.core.frame.DataFrame'>\n",
      "RangeIndex: 119430 entries, 0 to 119429\n",
      "Data columns (total 12 columns):\n",
      " #   Column          Non-Null Count   Dtype         \n",
      "---  ------          --------------   -----         \n",
      " 0   Timestamp       119430 non-null  int64         \n",
      " 1   Type            119430 non-null  object        \n",
      " 2   ID              119430 non-null  object        \n",
      " 3   BER             119430 non-null  float64       \n",
      " 4   OSNR            119430 non-null  float64       \n",
      " 5   InputPower      119430 non-null  float64       \n",
      " 6   OutputPower     119430 non-null  float64       \n",
      " 7   Failure         119430 non-null  int64         \n",
      " 8   Base            119430 non-null  object        \n",
      " 9   Timestamp_s     119430 non-null  datetime64[ns]\n",
      " 10  Timestamp_data  119430 non-null  object        \n",
      " 11  Timestamp_hora  119430 non-null  object        \n",
      "dtypes: datetime64[ns](1), float64(4), int64(2), object(5)\n",
      "memory usage: 10.9+ MB\n"
     ]
    }
   ],
   "execution_count": 85
  },
  {
   "metadata": {
    "ExecuteTime": {
     "end_time": "2025-10-25T20:15:16.337558Z",
     "start_time": "2025-10-25T20:15:16.313480Z"
    }
   },
   "cell_type": "code",
   "source": "df_fail.describe()",
   "id": "367ca3c9eb07010d",
   "outputs": [
    {
     "data": {
      "text/plain": [
       "          Timestamp           BER           OSNR     InputPower  \\\n",
       "count  1.194300e+05  1.194300e+05  119430.000000  119430.000000   \n",
       "mean   1.623889e+09  1.846473e-04      30.590290     -19.582524   \n",
       "min    1.623395e+09  0.000000e+00       0.000000     -38.000000   \n",
       "25%    1.623411e+09  2.370000e-08      25.400000     -22.900000   \n",
       "50%    1.623427e+09  1.747500e-07      31.000000     -19.200000   \n",
       "75%    1.624470e+09  6.166938e-07      38.500000     -16.700000   \n",
       "max    1.624486e+09  2.651316e-02      38.600000       0.000000   \n",
       "std    5.271721e+05  1.212574e-03       6.921175       3.740281   \n",
       "\n",
       "         OutputPower        Failure                    Timestamp_s  \n",
       "count  119430.000000  119430.000000                         119430  \n",
       "mean        0.648359       0.063728  2021-06-17 00:14:02.432923136  \n",
       "min         0.000000       0.000000            2021-06-11 06:57:14  \n",
       "25%         0.550000       0.000000            2021-06-11 11:24:37  \n",
       "50%         0.700000       0.000000            2021-06-11 15:58:39  \n",
       "75%         0.700000       0.000000            2021-06-23 17:46:46  \n",
       "max         0.900000       1.000000            2021-06-23 22:14:11  \n",
       "std         0.132266       0.244268                            NaN  "
      ],
      "text/html": [
       "<div>\n",
       "<style scoped>\n",
       "    .dataframe tbody tr th:only-of-type {\n",
       "        vertical-align: middle;\n",
       "    }\n",
       "\n",
       "    .dataframe tbody tr th {\n",
       "        vertical-align: top;\n",
       "    }\n",
       "\n",
       "    .dataframe thead th {\n",
       "        text-align: right;\n",
       "    }\n",
       "</style>\n",
       "<table border=\"1\" class=\"dataframe\">\n",
       "  <thead>\n",
       "    <tr style=\"text-align: right;\">\n",
       "      <th></th>\n",
       "      <th>Timestamp</th>\n",
       "      <th>BER</th>\n",
       "      <th>OSNR</th>\n",
       "      <th>InputPower</th>\n",
       "      <th>OutputPower</th>\n",
       "      <th>Failure</th>\n",
       "      <th>Timestamp_s</th>\n",
       "    </tr>\n",
       "  </thead>\n",
       "  <tbody>\n",
       "    <tr>\n",
       "      <th>count</th>\n",
       "      <td>1.194300e+05</td>\n",
       "      <td>1.194300e+05</td>\n",
       "      <td>119430.000000</td>\n",
       "      <td>119430.000000</td>\n",
       "      <td>119430.000000</td>\n",
       "      <td>119430.000000</td>\n",
       "      <td>119430</td>\n",
       "    </tr>\n",
       "    <tr>\n",
       "      <th>mean</th>\n",
       "      <td>1.623889e+09</td>\n",
       "      <td>1.846473e-04</td>\n",
       "      <td>30.590290</td>\n",
       "      <td>-19.582524</td>\n",
       "      <td>0.648359</td>\n",
       "      <td>0.063728</td>\n",
       "      <td>2021-06-17 00:14:02.432923136</td>\n",
       "    </tr>\n",
       "    <tr>\n",
       "      <th>min</th>\n",
       "      <td>1.623395e+09</td>\n",
       "      <td>0.000000e+00</td>\n",
       "      <td>0.000000</td>\n",
       "      <td>-38.000000</td>\n",
       "      <td>0.000000</td>\n",
       "      <td>0.000000</td>\n",
       "      <td>2021-06-11 06:57:14</td>\n",
       "    </tr>\n",
       "    <tr>\n",
       "      <th>25%</th>\n",
       "      <td>1.623411e+09</td>\n",
       "      <td>2.370000e-08</td>\n",
       "      <td>25.400000</td>\n",
       "      <td>-22.900000</td>\n",
       "      <td>0.550000</td>\n",
       "      <td>0.000000</td>\n",
       "      <td>2021-06-11 11:24:37</td>\n",
       "    </tr>\n",
       "    <tr>\n",
       "      <th>50%</th>\n",
       "      <td>1.623427e+09</td>\n",
       "      <td>1.747500e-07</td>\n",
       "      <td>31.000000</td>\n",
       "      <td>-19.200000</td>\n",
       "      <td>0.700000</td>\n",
       "      <td>0.000000</td>\n",
       "      <td>2021-06-11 15:58:39</td>\n",
       "    </tr>\n",
       "    <tr>\n",
       "      <th>75%</th>\n",
       "      <td>1.624470e+09</td>\n",
       "      <td>6.166938e-07</td>\n",
       "      <td>38.500000</td>\n",
       "      <td>-16.700000</td>\n",
       "      <td>0.700000</td>\n",
       "      <td>0.000000</td>\n",
       "      <td>2021-06-23 17:46:46</td>\n",
       "    </tr>\n",
       "    <tr>\n",
       "      <th>max</th>\n",
       "      <td>1.624486e+09</td>\n",
       "      <td>2.651316e-02</td>\n",
       "      <td>38.600000</td>\n",
       "      <td>0.000000</td>\n",
       "      <td>0.900000</td>\n",
       "      <td>1.000000</td>\n",
       "      <td>2021-06-23 22:14:11</td>\n",
       "    </tr>\n",
       "    <tr>\n",
       "      <th>std</th>\n",
       "      <td>5.271721e+05</td>\n",
       "      <td>1.212574e-03</td>\n",
       "      <td>6.921175</td>\n",
       "      <td>3.740281</td>\n",
       "      <td>0.132266</td>\n",
       "      <td>0.244268</td>\n",
       "      <td>NaN</td>\n",
       "    </tr>\n",
       "  </tbody>\n",
       "</table>\n",
       "</div>"
      ]
     },
     "execution_count": 86,
     "metadata": {},
     "output_type": "execute_result"
    }
   ],
   "execution_count": 86
  },
  {
   "metadata": {
    "ExecuteTime": {
     "end_time": "2025-10-25T20:15:16.551114Z",
     "start_time": "2025-10-25T20:15:16.545038Z"
    }
   },
   "cell_type": "code",
   "source": "df_fail.Type.unique()",
   "id": "e6fddd4e5e33f59b",
   "outputs": [
    {
     "data": {
      "text/plain": [
       "array(['Devices', 'Infrastructure'], dtype=object)"
      ]
     },
     "execution_count": 87,
     "metadata": {},
     "output_type": "execute_result"
    }
   ],
   "execution_count": 87
  },
  {
   "metadata": {
    "ExecuteTime": {
     "end_time": "2025-10-25T20:15:16.588067Z",
     "start_time": "2025-10-25T20:15:16.580990Z"
    }
   },
   "cell_type": "code",
   "source": "df_fail.ID.unique()",
   "id": "e6a542d1440b4ffb",
   "outputs": [
    {
     "data": {
      "text/plain": [
       "array(['SPO1/18/11', 'SPO2/18/11', 'Ampli4', 'Ampli3', 'Ampli2', 'Ampli1'],\n",
       "      dtype=object)"
      ]
     },
     "execution_count": 88,
     "metadata": {},
     "output_type": "execute_result"
    }
   ],
   "execution_count": 88
  },
  {
   "metadata": {
    "ExecuteTime": {
     "end_time": "2025-10-25T20:15:16.610264Z",
     "start_time": "2025-10-25T20:15:16.595561Z"
    }
   },
   "cell_type": "code",
   "source": "df_fail.corr(numeric_only=True)",
   "id": "b767b3ca22b87a1d",
   "outputs": [
    {
     "data": {
      "text/plain": [
       "             Timestamp       BER      OSNR  InputPower  OutputPower   Failure\n",
       "Timestamp     1.000000 -0.129228  0.131924    0.139648     0.015441  0.121965\n",
       "BER          -0.129228  1.000000 -0.260976   -0.064315    -0.016382 -0.020029\n",
       "OSNR          0.131924 -0.260976  1.000000    0.059078    -0.004025 -0.132893\n",
       "InputPower    0.139648 -0.064315  0.059078    1.000000    -0.395968 -0.154167\n",
       "OutputPower   0.015441 -0.016382 -0.004025   -0.395968     1.000000 -0.041835\n",
       "Failure       0.121965 -0.020029 -0.132893   -0.154167    -0.041835  1.000000"
      ],
      "text/html": [
       "<div>\n",
       "<style scoped>\n",
       "    .dataframe tbody tr th:only-of-type {\n",
       "        vertical-align: middle;\n",
       "    }\n",
       "\n",
       "    .dataframe tbody tr th {\n",
       "        vertical-align: top;\n",
       "    }\n",
       "\n",
       "    .dataframe thead th {\n",
       "        text-align: right;\n",
       "    }\n",
       "</style>\n",
       "<table border=\"1\" class=\"dataframe\">\n",
       "  <thead>\n",
       "    <tr style=\"text-align: right;\">\n",
       "      <th></th>\n",
       "      <th>Timestamp</th>\n",
       "      <th>BER</th>\n",
       "      <th>OSNR</th>\n",
       "      <th>InputPower</th>\n",
       "      <th>OutputPower</th>\n",
       "      <th>Failure</th>\n",
       "    </tr>\n",
       "  </thead>\n",
       "  <tbody>\n",
       "    <tr>\n",
       "      <th>Timestamp</th>\n",
       "      <td>1.000000</td>\n",
       "      <td>-0.129228</td>\n",
       "      <td>0.131924</td>\n",
       "      <td>0.139648</td>\n",
       "      <td>0.015441</td>\n",
       "      <td>0.121965</td>\n",
       "    </tr>\n",
       "    <tr>\n",
       "      <th>BER</th>\n",
       "      <td>-0.129228</td>\n",
       "      <td>1.000000</td>\n",
       "      <td>-0.260976</td>\n",
       "      <td>-0.064315</td>\n",
       "      <td>-0.016382</td>\n",
       "      <td>-0.020029</td>\n",
       "    </tr>\n",
       "    <tr>\n",
       "      <th>OSNR</th>\n",
       "      <td>0.131924</td>\n",
       "      <td>-0.260976</td>\n",
       "      <td>1.000000</td>\n",
       "      <td>0.059078</td>\n",
       "      <td>-0.004025</td>\n",
       "      <td>-0.132893</td>\n",
       "    </tr>\n",
       "    <tr>\n",
       "      <th>InputPower</th>\n",
       "      <td>0.139648</td>\n",
       "      <td>-0.064315</td>\n",
       "      <td>0.059078</td>\n",
       "      <td>1.000000</td>\n",
       "      <td>-0.395968</td>\n",
       "      <td>-0.154167</td>\n",
       "    </tr>\n",
       "    <tr>\n",
       "      <th>OutputPower</th>\n",
       "      <td>0.015441</td>\n",
       "      <td>-0.016382</td>\n",
       "      <td>-0.004025</td>\n",
       "      <td>-0.395968</td>\n",
       "      <td>1.000000</td>\n",
       "      <td>-0.041835</td>\n",
       "    </tr>\n",
       "    <tr>\n",
       "      <th>Failure</th>\n",
       "      <td>0.121965</td>\n",
       "      <td>-0.020029</td>\n",
       "      <td>-0.132893</td>\n",
       "      <td>-0.154167</td>\n",
       "      <td>-0.041835</td>\n",
       "      <td>1.000000</td>\n",
       "    </tr>\n",
       "  </tbody>\n",
       "</table>\n",
       "</div>"
      ]
     },
     "execution_count": 89,
     "metadata": {},
     "output_type": "execute_result"
    }
   ],
   "execution_count": 89
  },
  {
   "metadata": {
    "ExecuteTime": {
     "end_time": "2025-10-25T20:15:16.755796Z",
     "start_time": "2025-10-25T20:15:16.649957Z"
    }
   },
   "cell_type": "code",
   "source": "sns.heatmap(df_fail.corr(numeric_only=True))",
   "id": "da53e0124cc908d9",
   "outputs": [
    {
     "data": {
      "text/plain": [
       "<Axes: >"
      ]
     },
     "execution_count": 90,
     "metadata": {},
     "output_type": "execute_result"
    },
    {
     "data": {
      "text/plain": [
       "<Figure size 640x480 with 2 Axes>"
      ],
      "image/png": "[encoded data removed]"
     },
     "metadata": {},
     "output_type": "display_data",
     "jetTransient": {
      "display_id": null
     }
    }
   ],
   "execution_count": 90
  },
  {
   "metadata": {},
   "cell_type": "markdown",
   "source": "### Engenharia de Features",
   "id": "eab965af1d9fdf7"
  },
  {
   "metadata": {},
   "cell_type": "markdown",
   "source": "#### 1. Features de Janela Deslizante (Rolling Window)",
   "id": "5ce9dc4708ef6ee1"
  },
  {
   "metadata": {
    "ExecuteTime": {
     "end_time": "2025-10-25T20:15:16.817603Z",
     "start_time": "2025-10-25T20:15:16.789964Z"
    }
   },
   "cell_type": "code",
   "source": [
    "# Vamos criar features que representam a média, desvio padrão, mínimo e máximo dos sensores em diferentes janelas de tempo (5, 15 e 30 períodos).\n",
    "# Obs: Os cálculos devem ser feitos para cada equipamento (ID) separadamente.\n",
    "\n",
    "# Garante que os dados estão ordenados por equipamento e tempo\n",
    "df_feat = df_fail.sort_values(by=['ID', 'Timestamp_s']).copy()\n",
    "\n",
    "features_to_engineer = ['BER', 'OSNR', 'InputPower', 'OutputPower']\n",
    "window_sizes = [5, 15, 30]  # Janelas de 5, 15 e 30 períodos"
   ],
   "id": "12ec5ab39f6231f5",
   "outputs": [],
   "execution_count": 91
  },
  {
   "metadata": {
    "ExecuteTime": {
     "end_time": "2025-10-25T20:15:17.546637Z",
     "start_time": "2025-10-25T20:15:16.829941Z"
    }
   },
   "cell_type": "code",
   "source": [
    "for feature in features_to_engineer:\n",
    "    for window in window_sizes:\n",
    "        # Agrupa por ID e aplica a janela deslizante\n",
    "        rolling_mean = df_feat.groupby('ID')[feature].rolling(window=window, min_periods=1).mean().reset_index(\n",
    "            drop=True)\n",
    "        rolling_std = df_feat.groupby('ID')[feature].rolling(window=window, min_periods=1).std().reset_index(drop=True)\n",
    "        rolling_max = df_feat.groupby('ID')[feature].rolling(window=window, min_periods=1).max().reset_index(drop=True)\n",
    "\n",
    "        df_feat[f'{feature}_mean_{window}'] = rolling_mean\n",
    "        df_feat[f'{feature}_std_{window}'] = rolling_std\n",
    "        df_feat[f'{feature}_max_{window}'] = rolling_max\n",
    "\n",
    "print(\"Features de janela deslizante criadas.\")"
   ],
   "id": "99693f1e79c0761",
   "outputs": [
    {
     "name": "stdout",
     "output_type": "stream",
     "text": [
      "Features de janela deslizante criadas.\n"
     ]
    }
   ],
   "execution_count": 92
  },
  {
   "metadata": {},
   "cell_type": "markdown",
   "source": "#### 2. Features de Atraso (Lag Features)",
   "id": "a69aa7ccda477a69"
  },
  {
   "metadata": {
    "ExecuteTime": {
     "end_time": "2025-10-25T20:15:17.599711Z",
     "start_time": "2025-10-25T20:15:17.554546Z"
    }
   },
   "cell_type": "code",
   "source": [
    "# Criaremos colunas com os valores dos sensores de 1, 2 e 3 períodos atrás.\n",
    "\n",
    "lags = [1, 2, 3]\n",
    "\n",
    "for feature in features_to_engineer:\n",
    "    for lag in lags:\n",
    "        # Agrupa por ID e aplica o shift\n",
    "        df_feat[f'{feature}_lag_{lag}'] = df_feat.groupby('ID')[feature].shift(lag)\n",
    "\n",
    "print(\"Features de atraso criadas.\")"
   ],
   "id": "a98ea272c0459269",
   "outputs": [
    {
     "name": "stdout",
     "output_type": "stream",
     "text": [
      "Features de atraso criadas.\n"
     ]
    }
   ],
   "execution_count": 93
  },
  {
   "metadata": {},
   "cell_type": "markdown",
   "source": "#### 3. Limpeza Final do DataFrame de Features",
   "id": "7ab6ef11af7b0a15"
  },
  {
   "metadata": {
    "ExecuteTime": {
     "end_time": "2025-10-25T20:15:17.663880Z",
     "start_time": "2025-10-25T20:15:17.612417Z"
    }
   },
   "cell_type": "code",
   "source": [
    "# A criação de janelas e lags gera valores NaN no início de cada série temporal (por equipamento).\n",
    "# Vamos remover essas linhas para garantir que o modelo só treine com dados completos.\n",
    "\n",
    "print(f\"Tamanho do DataFrame antes da limpeza de NaN: {df_feat.shape}\")\n",
    "\n",
    "# Remove todas as linhas que contenham qualquer valor NaN gerado\n",
    "df_feat.dropna(inplace=True)\n",
    "\n",
    "print(f\"Tamanho do DataFrame após a limpeza: {df_feat.shape}\")\n",
    "\n",
    "# Visualizando o resultado final com as novas features\n",
    "df_feat.head()"
   ],
   "id": "b24f8881e09d0511",
   "outputs": [
    {
     "name": "stdout",
     "output_type": "stream",
     "text": [
      "Tamanho do DataFrame antes da limpeza de NaN: (119430, 60)\n",
      "Tamanho do DataFrame após a limpeza: (119407, 60)\n"
     ]
    },
    {
     "data": {
      "text/plain": [
       "     Timestamp            Type      ID           BER       OSNR  InputPower  \\\n",
       "18  1623394644  Infrastructure  Ampli1  4.413000e-07  30.950000       -23.0   \n",
       "29  1623394647  Infrastructure  Ampli1  4.450000e-07  31.000000       -23.0   \n",
       "33  1623394651  Infrastructure  Ampli1  3.562200e-07  32.580000       -23.0   \n",
       "40  1623394654  Infrastructure  Ampli1  2.993333e-07  33.433333       -23.0   \n",
       "46  1623394657  Infrastructure  Ampli1  2.145000e-08  38.600000       -23.0   \n",
       "\n",
       "    OutputPower  Failure  Base         Timestamp_s  ...     BER_lag_3  \\\n",
       "18          0.7        0  HARD 2021-06-11 06:57:24  ...  3.024667e-07   \n",
       "29          0.7        0  HARD 2021-06-11 06:57:27  ...  1.598333e-07   \n",
       "33          0.7        0  HARD 2021-06-11 06:57:31  ...  5.252800e-07   \n",
       "40          0.7        0  HARD 2021-06-11 06:57:34  ...  4.413000e-07   \n",
       "46          0.7        0  HARD 2021-06-11 06:57:37  ...  4.450000e-07   \n",
       "\n",
       "   OSNR_lag_1  OSNR_lag_2  OSNR_lag_3  InputPower_lag_1  InputPower_lag_2  \\\n",
       "18  29.440000   36.083333   33.566667             -23.0             -23.0   \n",
       "29  30.950000   29.440000   36.083333             -23.0             -23.0   \n",
       "33  31.000000   30.950000   29.440000             -23.0             -23.0   \n",
       "40  32.580000   31.000000   30.950000             -23.0             -23.0   \n",
       "46  33.433333   32.580000   31.000000             -23.0             -23.0   \n",
       "\n",
       "    InputPower_lag_3  OutputPower_lag_1  OutputPower_lag_2  OutputPower_lag_3  \n",
       "18             -23.0                0.7                0.7                0.7  \n",
       "29             -23.0                0.7                0.7                0.7  \n",
       "33             -23.0                0.7                0.7                0.7  \n",
       "40             -23.0                0.7                0.7                0.7  \n",
       "46             -23.0                0.7                0.7                0.7  \n",
       "\n",
       "[5 rows x 60 columns]"
      ],
      "text/html": [
       "<div>\n",
       "<style scoped>\n",
       "    .dataframe tbody tr th:only-of-type {\n",
       "        vertical-align: middle;\n",
       "    }\n",
       "\n",
       "    .dataframe tbody tr th {\n",
       "        vertical-align: top;\n",
       "    }\n",
       "\n",
       "    .dataframe thead th {\n",
       "        text-align: right;\n",
       "    }\n",
       "</style>\n",
       "<table border=\"1\" class=\"dataframe\">\n",
       "  <thead>\n",
       "    <tr style=\"text-align: right;\">\n",
       "      <th></th>\n",
       "      <th>Timestamp</th>\n",
       "      <th>Type</th>\n",
       "      <th>ID</th>\n",
       "      <th>BER</th>\n",
       "      <th>OSNR</th>\n",
       "      <th>InputPower</th>\n",
       "      <th>OutputPower</th>\n",
       "      <th>Failure</th>\n",
       "      <th>Base</th>\n",
       "      <th>Timestamp_s</th>\n",
       "      <th>...</th>\n",
       "      <th>BER_lag_3</th>\n",
       "      <th>OSNR_lag_1</th>\n",
       "      <th>OSNR_lag_2</th>\n",
       "      <th>OSNR_lag_3</th>\n",
       "      <th>InputPower_lag_1</th>\n",
       "      <th>InputPower_lag_2</th>\n",
       "      <th>InputPower_lag_3</th>\n",
       "      <th>OutputPower_lag_1</th>\n",
       "      <th>OutputPower_lag_2</th>\n",
       "      <th>OutputPower_lag_3</th>\n",
       "    </tr>\n",
       "  </thead>\n",
       "  <tbody>\n",
       "    <tr>\n",
       "      <th>18</th>\n",
       "      <td>1623394644</td>\n",
       "      <td>Infrastructure</td>\n",
       "      <td>Ampli1</td>\n",
       "      <td>4.413000e-07</td>\n",
       "      <td>30.950000</td>\n",
       "      <td>-23.0</td>\n",
       "      <td>0.7</td>\n",
       "      <td>0</td>\n",
       "      <td>HARD</td>\n",
       "      <td>2021-06-11 06:57:24</td>\n",
       "      <td>...</td>\n",
       "      <td>3.024667e-07</td>\n",
       "      <td>29.440000</td>\n",
       "      <td>36.083333</td>\n",
       "      <td>33.566667</td>\n",
       "      <td>-23.0</td>\n",
       "      <td>-23.0</td>\n",
       "      <td>-23.0</td>\n",
       "      <td>0.7</td>\n",
       "      <td>0.7</td>\n",
       "      <td>0.7</td>\n",
       "    </tr>\n",
       "    <tr>\n",
       "      <th>29</th>\n",
       "      <td>1623394647</td>\n",
       "      <td>Infrastructure</td>\n",
       "      <td>Ampli1</td>\n",
       "      <td>4.450000e-07</td>\n",
       "      <td>31.000000</td>\n",
       "      <td>-23.0</td>\n",
       "      <td>0.7</td>\n",
       "      <td>0</td>\n",
       "      <td>HARD</td>\n",
       "      <td>2021-06-11 06:57:27</td>\n",
       "      <td>...</td>\n",
       "      <td>1.598333e-07</td>\n",
       "      <td>30.950000</td>\n",
       "      <td>29.440000</td>\n",
       "      <td>36.083333</td>\n",
       "      <td>-23.0</td>\n",
       "      <td>-23.0</td>\n",
       "      <td>-23.0</td>\n",
       "      <td>0.7</td>\n",
       "      <td>0.7</td>\n",
       "      <td>0.7</td>\n",
       "    </tr>\n",
       "    <tr>\n",
       "      <th>33</th>\n",
       "      <td>1623394651</td>\n",
       "      <td>Infrastructure</td>\n",
       "      <td>Ampli1</td>\n",
       "      <td>3.562200e-07</td>\n",
       "      <td>32.580000</td>\n",
       "      <td>-23.0</td>\n",
       "      <td>0.7</td>\n",
       "      <td>0</td>\n",
       "      <td>HARD</td>\n",
       "      <td>2021-06-11 06:57:31</td>\n",
       "      <td>...</td>\n",
       "      <td>5.252800e-07</td>\n",
       "      <td>31.000000</td>\n",
       "      <td>30.950000</td>\n",
       "      <td>29.440000</td>\n",
       "      <td>-23.0</td>\n",
       "      <td>-23.0</td>\n",
       "      <td>-23.0</td>\n",
       "      <td>0.7</td>\n",
       "      <td>0.7</td>\n",
       "      <td>0.7</td>\n",
       "    </tr>\n",
       "    <tr>\n",
       "      <th>40</th>\n",
       "      <td>1623394654</td>\n",
       "      <td>Infrastructure</td>\n",
       "      <td>Ampli1</td>\n",
       "      <td>2.993333e-07</td>\n",
       "      <td>33.433333</td>\n",
       "      <td>-23.0</td>\n",
       "      <td>0.7</td>\n",
       "      <td>0</td>\n",
       "      <td>HARD</td>\n",
       "      <td>2021-06-11 06:57:34</td>\n",
       "      <td>...</td>\n",
       "      <td>4.413000e-07</td>\n",
       "      <td>32.580000</td>\n",
       "      <td>31.000000</td>\n",
       "      <td>30.950000</td>\n",
       "      <td>-23.0</td>\n",
       "      <td>-23.0</td>\n",
       "      <td>-23.0</td>\n",
       "      <td>0.7</td>\n",
       "      <td>0.7</td>\n",
       "      <td>0.7</td>\n",
       "    </tr>\n",
       "    <tr>\n",
       "      <th>46</th>\n",
       "      <td>1623394657</td>\n",
       "      <td>Infrastructure</td>\n",
       "      <td>Ampli1</td>\n",
       "      <td>2.145000e-08</td>\n",
       "      <td>38.600000</td>\n",
       "      <td>-23.0</td>\n",
       "      <td>0.7</td>\n",
       "      <td>0</td>\n",
       "      <td>HARD</td>\n",
       "      <td>2021-06-11 06:57:37</td>\n",
       "      <td>...</td>\n",
       "      <td>4.450000e-07</td>\n",
       "      <td>33.433333</td>\n",
       "      <td>32.580000</td>\n",
       "      <td>31.000000</td>\n",
       "      <td>-23.0</td>\n",
       "      <td>-23.0</td>\n",
       "      <td>-23.0</td>\n",
       "      <td>0.7</td>\n",
       "      <td>0.7</td>\n",
       "      <td>0.7</td>\n",
       "    </tr>\n",
       "  </tbody>\n",
       "</table>\n",
       "<p>5 rows × 60 columns</p>\n",
       "</div>"
      ]
     },
     "execution_count": 94,
     "metadata": {},
     "output_type": "execute_result"
    }
   ],
   "execution_count": 94
  },
  {
   "metadata": {},
   "cell_type": "markdown",
   "source": "#### 4. Features Avançadas",
   "id": "38bde5e1b99f76f5"
  },
  {
   "metadata": {},
   "cell_type": "markdown",
   "source": "##### a) Features de Tendência (Slope)",
   "id": "ac2a521d2de509ad"
  },
  {
   "metadata": {
    "ExecuteTime": {
     "end_time": "2025-10-25T20:15:26.374469Z",
     "start_time": "2025-10-25T20:15:17.700785Z"
    }
   },
   "cell_type": "code",
   "source": [
    "# Vamos calcular a inclinação (slope) dos dados dos sensores dentro de uma janela para capturar a tendência de subida ou descida.\n",
    "\n",
    "# Função para calcular a inclinação (slope) de uma janela\n",
    "def get_slope(array):\n",
    "    # polyfit é mais rápido para isso\n",
    "    y = np.array(array)\n",
    "    x = np.arange(len(y))\n",
    "    # O primeiro elemento de polyfit é a inclinação\n",
    "    slope = np.polyfit(x, y, 1)[0]\n",
    "    return slope\n",
    "\n",
    "window_trend = 15  # Janela para cálculo da tendência\n",
    "\n",
    "for feature in features_to_engineer:\n",
    "    # Agrupa por ID e aplica a função de slope na janela\n",
    "    trend = df_feat.groupby('ID')[feature].rolling(window=window_trend, min_periods=window_trend).apply(get_slope,\n",
    "                                                                                                        raw=True).reset_index(\n",
    "        drop=True)\n",
    "    df_feat[f'{feature}_trend_{window_trend}'] = trend\n",
    "\n",
    "print(\"Features de tendência criadas.\")"
   ],
   "id": "ac7545c006e2eeea",
   "outputs": [
    {
     "name": "stdout",
     "output_type": "stream",
     "text": [
      "Features de tendência criadas.\n"
     ]
    }
   ],
   "execution_count": 95
  },
  {
   "metadata": {},
   "cell_type": "markdown",
   "source": "##### b) Features Cíclicas de Tempo",
   "id": "444778f881a3e3e9"
  },
  {
   "metadata": {
    "ExecuteTime": {
     "end_time": "2025-10-25T20:15:26.520205Z",
     "start_time": "2025-10-25T20:15:26.493464Z"
    }
   },
   "cell_type": "code",
   "source": [
    "# Transformar a hora do dia em features de seno e cosseno para que o modelo entenda a natureza cíclica do tempo.\n",
    "\n",
    "df_feat['hora'] = df_feat['Timestamp_s'].dt.hour\n",
    "df_feat['hora_sin'] = np.sin(2 * np.pi * df_feat['hora'] / 24.0)\n",
    "df_feat['hora_cos'] = np.cos(2 * np.pi * df_feat['hora'] / 24.0)\n",
    "df_feat.drop('hora', axis=1, inplace=True)\n",
    "\n",
    "print(\"Features cíclicas de tempo criadas.\")"
   ],
   "id": "a37bae5169136e16",
   "outputs": [
    {
     "name": "stdout",
     "output_type": "stream",
     "text": [
      "Features cíclicas de tempo criadas.\n"
     ]
    }
   ],
   "execution_count": 96
  },
  {
   "metadata": {},
   "cell_type": "markdown",
   "source": "##### c) Limpeza Final Pós-Features Avançadas\n",
   "id": "fbd5fbd4c716fd8d"
  },
  {
   "metadata": {
    "ExecuteTime": {
     "end_time": "2025-10-25T20:15:26.615555Z",
     "start_time": "2025-10-25T20:15:26.553600Z"
    }
   },
   "cell_type": "code",
   "source": [
    "print(f\"Tamanho antes da limpeza final: {df_feat.shape}\")\n",
    "df_feat.dropna(inplace=True)\n",
    "print(f\"Tamanho após a limpeza final: {df_feat.shape}\")\n",
    "df_feat.head()"
   ],
   "id": "6b1899d212100635",
   "outputs": [
    {
     "name": "stdout",
     "output_type": "stream",
     "text": [
      "Tamanho antes da limpeza final: (119407, 66)\n",
      "Tamanho após a limpeza final: (119317, 66)\n"
     ]
    },
    {
     "data": {
      "text/plain": [
       "     Timestamp            Type      ID           BER       OSNR  InputPower  \\\n",
       "18  1623394644  Infrastructure  Ampli1  4.413000e-07  30.950000       -23.0   \n",
       "29  1623394647  Infrastructure  Ampli1  4.450000e-07  31.000000       -23.0   \n",
       "33  1623394651  Infrastructure  Ampli1  3.562200e-07  32.580000       -23.0   \n",
       "40  1623394654  Infrastructure  Ampli1  2.993333e-07  33.433333       -23.0   \n",
       "46  1623394657  Infrastructure  Ampli1  2.145000e-08  38.600000       -23.0   \n",
       "\n",
       "    OutputPower  Failure  Base         Timestamp_s  ... InputPower_lag_3  \\\n",
       "18          0.7        0  HARD 2021-06-11 06:57:24  ...            -23.0   \n",
       "29          0.7        0  HARD 2021-06-11 06:57:27  ...            -23.0   \n",
       "33          0.7        0  HARD 2021-06-11 06:57:31  ...            -23.0   \n",
       "40          0.7        0  HARD 2021-06-11 06:57:34  ...            -23.0   \n",
       "46          0.7        0  HARD 2021-06-11 06:57:37  ...            -23.0   \n",
       "\n",
       "   OutputPower_lag_1  OutputPower_lag_2  OutputPower_lag_3  BER_trend_15  \\\n",
       "18               0.7                0.7                0.7 -6.775825e-09   \n",
       "29               0.7                0.7                0.7  6.694616e-09   \n",
       "33               0.7                0.7                0.7  2.054693e-08   \n",
       "40               0.7                0.7                0.7 -9.645964e-09   \n",
       "46               0.7                0.7                0.7 -1.387755e-08   \n",
       "\n",
       "    OSNR_trend_15  InputPower_trend_15  OutputPower_trend_15  hora_sin  \\\n",
       "18       0.105536         5.911890e-18          9.854771e-18       1.0   \n",
       "29      -0.129328         5.911890e-18          9.854771e-18       1.0   \n",
       "33      -0.379338         5.911890e-18          9.854771e-18       1.0   \n",
       "40       0.164058         5.911890e-18          9.854771e-18       1.0   \n",
       "46       0.270476         5.911890e-18          9.854771e-18       1.0   \n",
       "\n",
       "        hora_cos  \n",
       "18  6.123234e-17  \n",
       "29  6.123234e-17  \n",
       "33  6.123234e-17  \n",
       "40  6.123234e-17  \n",
       "46  6.123234e-17  \n",
       "\n",
       "[5 rows x 66 columns]"
      ],
      "text/html": [
       "<div>\n",
       "<style scoped>\n",
       "    .dataframe tbody tr th:only-of-type {\n",
       "        vertical-align: middle;\n",
       "    }\n",
       "\n",
       "    .dataframe tbody tr th {\n",
       "        vertical-align: top;\n",
       "    }\n",
       "\n",
       "    .dataframe thead th {\n",
       "        text-align: right;\n",
       "    }\n",
       "</style>\n",
       "<table border=\"1\" class=\"dataframe\">\n",
       "  <thead>\n",
       "    <tr style=\"text-align: right;\">\n",
       "      <th></th>\n",
       "      <th>Timestamp</th>\n",
       "      <th>Type</th>\n",
       "      <th>ID</th>\n",
       "      <th>BER</th>\n",
       "      <th>OSNR</th>\n",
       "      <th>InputPower</th>\n",
       "      <th>OutputPower</th>\n",
       "      <th>Failure</th>\n",
       "      <th>Base</th>\n",
       "      <th>Timestamp_s</th>\n",
       "      <th>...</th>\n",
       "      <th>InputPower_lag_3</th>\n",
       "      <th>OutputPower_lag_1</th>\n",
       "      <th>OutputPower_lag_2</th>\n",
       "      <th>OutputPower_lag_3</th>\n",
       "      <th>BER_trend_15</th>\n",
       "      <th>OSNR_trend_15</th>\n",
       "      <th>InputPower_trend_15</th>\n",
       "      <th>OutputPower_trend_15</th>\n",
       "      <th>hora_sin</th>\n",
       "      <th>hora_cos</th>\n",
       "    </tr>\n",
       "  </thead>\n",
       "  <tbody>\n",
       "    <tr>\n",
       "      <th>18</th>\n",
       "      <td>1623394644</td>\n",
       "      <td>Infrastructure</td>\n",
       "      <td>Ampli1</td>\n",
       "      <td>4.413000e-07</td>\n",
       "      <td>30.950000</td>\n",
       "      <td>-23.0</td>\n",
       "      <td>0.7</td>\n",
       "      <td>0</td>\n",
       "      <td>HARD</td>\n",
       "      <td>2021-06-11 06:57:24</td>\n",
       "      <td>...</td>\n",
       "      <td>-23.0</td>\n",
       "      <td>0.7</td>\n",
       "      <td>0.7</td>\n",
       "      <td>0.7</td>\n",
       "      <td>-6.775825e-09</td>\n",
       "      <td>0.105536</td>\n",
       "      <td>5.911890e-18</td>\n",
       "      <td>9.854771e-18</td>\n",
       "      <td>1.0</td>\n",
       "      <td>6.123234e-17</td>\n",
       "    </tr>\n",
       "    <tr>\n",
       "      <th>29</th>\n",
       "      <td>1623394647</td>\n",
       "      <td>Infrastructure</td>\n",
       "      <td>Ampli1</td>\n",
       "      <td>4.450000e-07</td>\n",
       "      <td>31.000000</td>\n",
       "      <td>-23.0</td>\n",
       "      <td>0.7</td>\n",
       "      <td>0</td>\n",
       "      <td>HARD</td>\n",
       "      <td>2021-06-11 06:57:27</td>\n",
       "      <td>...</td>\n",
       "      <td>-23.0</td>\n",
       "      <td>0.7</td>\n",
       "      <td>0.7</td>\n",
       "      <td>0.7</td>\n",
       "      <td>6.694616e-09</td>\n",
       "      <td>-0.129328</td>\n",
       "      <td>5.911890e-18</td>\n",
       "      <td>9.854771e-18</td>\n",
       "      <td>1.0</td>\n",
       "      <td>6.123234e-17</td>\n",
       "    </tr>\n",
       "    <tr>\n",
       "      <th>33</th>\n",
       "      <td>1623394651</td>\n",
       "      <td>Infrastructure</td>\n",
       "      <td>Ampli1</td>\n",
       "      <td>3.562200e-07</td>\n",
       "      <td>32.580000</td>\n",
       "      <td>-23.0</td>\n",
       "      <td>0.7</td>\n",
       "      <td>0</td>\n",
       "      <td>HARD</td>\n",
       "      <td>2021-06-11 06:57:31</td>\n",
       "      <td>...</td>\n",
       "      <td>-23.0</td>\n",
       "      <td>0.7</td>\n",
       "      <td>0.7</td>\n",
       "      <td>0.7</td>\n",
       "      <td>2.054693e-08</td>\n",
       "      <td>-0.379338</td>\n",
       "      <td>5.911890e-18</td>\n",
       "      <td>9.854771e-18</td>\n",
       "      <td>1.0</td>\n",
       "      <td>6.123234e-17</td>\n",
       "    </tr>\n",
       "    <tr>\n",
       "      <th>40</th>\n",
       "      <td>1623394654</td>\n",
       "      <td>Infrastructure</td>\n",
       "      <td>Ampli1</td>\n",
       "      <td>2.993333e-07</td>\n",
       "      <td>33.433333</td>\n",
       "      <td>-23.0</td>\n",
       "      <td>0.7</td>\n",
       "      <td>0</td>\n",
       "      <td>HARD</td>\n",
       "      <td>2021-06-11 06:57:34</td>\n",
       "      <td>...</td>\n",
       "      <td>-23.0</td>\n",
       "      <td>0.7</td>\n",
       "      <td>0.7</td>\n",
       "      <td>0.7</td>\n",
       "      <td>-9.645964e-09</td>\n",
       "      <td>0.164058</td>\n",
       "      <td>5.911890e-18</td>\n",
       "      <td>9.854771e-18</td>\n",
       "      <td>1.0</td>\n",
       "      <td>6.123234e-17</td>\n",
       "    </tr>\n",
       "    <tr>\n",
       "      <th>46</th>\n",
       "      <td>1623394657</td>\n",
       "      <td>Infrastructure</td>\n",
       "      <td>Ampli1</td>\n",
       "      <td>2.145000e-08</td>\n",
       "      <td>38.600000</td>\n",
       "      <td>-23.0</td>\n",
       "      <td>0.7</td>\n",
       "      <td>0</td>\n",
       "      <td>HARD</td>\n",
       "      <td>2021-06-11 06:57:37</td>\n",
       "      <td>...</td>\n",
       "      <td>-23.0</td>\n",
       "      <td>0.7</td>\n",
       "      <td>0.7</td>\n",
       "      <td>0.7</td>\n",
       "      <td>-1.387755e-08</td>\n",
       "      <td>0.270476</td>\n",
       "      <td>5.911890e-18</td>\n",
       "      <td>9.854771e-18</td>\n",
       "      <td>1.0</td>\n",
       "      <td>6.123234e-17</td>\n",
       "    </tr>\n",
       "  </tbody>\n",
       "</table>\n",
       "<p>5 rows × 66 columns</p>\n",
       "</div>"
      ]
     },
     "execution_count": 97,
     "metadata": {},
     "output_type": "execute_result"
    }
   ],
   "execution_count": 97
  },
  {
   "metadata": {},
   "cell_type": "markdown",
   "source": "### Etapa 4: Modelagem (Machine Learning)",
   "id": "a9f6e24496a69edf"
  },
  {
   "metadata": {},
   "cell_type": "markdown",
   "source": "#### 1. Preparação dos Dados para o Modelo",
   "id": "998ef3e2c1286b"
  },
  {
   "metadata": {
    "ExecuteTime": {
     "end_time": "2025-10-25T20:15:26.656623Z",
     "start_time": "2025-10-25T20:15:26.654364Z"
    }
   },
   "cell_type": "code",
   "source": [
    "from sklearn.ensemble import RandomForestClassifier\n",
    "from sklearn.metrics import classification_report, confusion_matrix\n",
    "import matplotlib.pyplot as plt"
   ],
   "id": "e2d97c6a59ad2e00",
   "outputs": [],
   "execution_count": 98
  },
  {
   "metadata": {
    "ExecuteTime": {
     "end_time": "2025-10-25T20:15:26.726552Z",
     "start_time": "2025-10-25T20:15:26.712696Z"
    }
   },
   "cell_type": "code",
   "source": [
    "# Selecionando as features (X) e o alvo (y)\n",
    "# Vamos remover colunas de identificação, tempo e as features originais dos sensores\n",
    "\n",
    "features_to_drop = ['Timestamp', 'Type', 'ID', 'Base', 'Timestamp_s', 'Timestamp_data', 'Timestamp_hora',\n",
    "                    'Failure'] + features_to_engineer\n",
    "\n",
    "X = df_feat.drop(columns=features_to_drop)\n",
    "y = df_feat['Failure']\n",
    "\n",
    "# Divisão em treino e teste (80/20) de forma temporal\n",
    "split_index = int(len(X) * 0.8)\n",
    "\n",
    "X_train, X_test = X[:split_index], X[split_index:]\n",
    "y_train, y_test = y[:split_index], y[split_index:]\n",
    "\n",
    "print(f\"Tamanho do conjunto de treino: {X_train.shape}\")\n",
    "print(f\"Tamanho do conjunto de teste: {X_test.shape}\")"
   ],
   "id": "7faa182b6cdc4088",
   "outputs": [
    {
     "name": "stdout",
     "output_type": "stream",
     "text": [
      "Tamanho do conjunto de treino: (95453, 54)\n",
      "Tamanho do conjunto de teste: (23864, 54)\n"
     ]
    }
   ],
   "execution_count": 99
  },
  {
   "metadata": {},
   "cell_type": "markdown",
   "source": "#### 2. Treinamento do Modelo de Baseline (Random Forest)",
   "id": "8ba284007ae57129"
  },
  {
   "metadata": {
    "ExecuteTime": {
     "end_time": "2025-10-25T20:15:28.352755Z",
     "start_time": "2025-10-25T20:15:26.770319Z"
    }
   },
   "cell_type": "code",
   "source": [
    "# Usamos class_weight='balanced' para lidar com o desbalanceamento das classes (poucas falhas)\n",
    "rf_model = RandomForestClassifier(n_estimators=100, random_state=42, class_weight='balanced', n_jobs=-1)\n",
    "\n",
    "print(\"Iniciando o treinamento do modelo Random Forest...\")\n",
    "rf_model.fit(X_train, y_train)\n",
    "print(\"Treinamento concluído.\")"
   ],
   "id": "3f5475f4bf6627d1",
   "outputs": [
    {
     "name": "stdout",
     "output_type": "stream",
     "text": [
      "Iniciando o treinamento do modelo Random Forest...\n",
      "Treinamento concluído.\n"
     ]
    }
   ],
   "execution_count": 100
  },
  {
   "metadata": {},
   "cell_type": "markdown",
   "source": "#### 3. Avaliação do Modelo",
   "id": "b4a3c0242d9fa501"
  },
  {
   "metadata": {
    "ExecuteTime": {
     "end_time": "2025-10-25T20:15:28.572035Z",
     "start_time": "2025-10-25T20:15:28.446062Z"
    }
   },
   "cell_type": "code",
   "source": [
    "y_pred = rf_model.predict(X_test)\n",
    "\n",
    "print(\"--- Relatório de Classificação no Conjunto de Teste ---\")\n",
    "print(classification_report(y_test, y_pred))\n",
    "\n",
    "cm = confusion_matrix(y_test, y_pred)\n",
    "sns.heatmap(cm, annot=True, fmt='d', cmap='Blues', xticklabels=['Normal', 'Falha'], yticklabels=['Normal', 'Falha'])\n",
    "plt.title('Matriz de Confusão')\n",
    "plt.ylabel('Verdadeiro')\n",
    "plt.xlabel('Previsto')\n",
    "plt.show()"
   ],
   "id": "5e926bc73034b4ef",
   "outputs": [
    {
     "name": "stdout",
     "output_type": "stream",
     "text": [
      "--- Relatório de Classificação no Conjunto de Teste ---\n",
      "              precision    recall  f1-score   support\n",
      "\n",
      "           0       0.94      1.00      0.97     21853\n",
      "           1       0.94      0.31      0.47      2011\n",
      "\n",
      "    accuracy                           0.94     23864\n",
      "   macro avg       0.94      0.66      0.72     23864\n",
      "weighted avg       0.94      0.94      0.93     23864\n",
      "\n"
     ]
    },
    {
     "data": {
      "text/plain": [
       "<Figure size 640x480 with 2 Axes>"
      ],
      "image/png": "[encoded data removed]"
     },
     "metadata": {},
     "output_type": "display_data",
     "jetTransient": {
      "display_id": null
     }
    }
   ],
   "execution_count": 101
  },
  {
   "metadata": {},
   "cell_type": "markdown",
   "source": "### Etapa 5: Avaliação e Interpretabilidade",
   "id": "94c3a8d66b43688c"
  },
  {
   "metadata": {},
   "cell_type": "markdown",
   "source": "#### 1. Importância das Features (Feature Importance)",
   "id": "4d62ceb18ea4c3f4"
  },
  {
   "metadata": {
    "ExecuteTime": {
     "end_time": "2025-10-25T20:15:28.606946Z",
     "start_time": "2025-10-25T20:15:28.582966Z"
    }
   },
   "cell_type": "code",
   "source": [
    "# Agora que temos um modelo treinado, podemos extrair a importância de cada feature.\n",
    "# Isso nos diz quais variáveis o modelo considerou mais relevantes para fazer as previsões.\n",
    "\n",
    "importances = rf_model.feature_importances_\n",
    "feature_names = X_train.columns\n",
    "\n",
    "# Criando um DataFrame para melhor visualização\n",
    "feature_importance_df = pd.DataFrame({'Feature': feature_names, 'Importance': importances})\n",
    "feature_importance_df = feature_importance_df.sort_values(by='Importance', ascending=False)"
   ],
   "id": "387ca8b2910ea249",
   "outputs": [],
   "execution_count": 102
  },
  {
   "metadata": {
    "ExecuteTime": {
     "end_time": "2025-10-25T20:15:28.881274Z",
     "start_time": "2025-10-25T20:15:28.612165Z"
    }
   },
   "cell_type": "code",
   "source": [
    "plt.figure(figsize=(12, 8))\n",
    "sns.barplot(x='Importance', y='Feature', data=feature_importance_df.head(20))\n",
    "plt.title('Top 20 Features Mais Importantes para o Modelo Random Forest')\n",
    "plt.xlabel('Importância')\n",
    "plt.ylabel('Feature')\n",
    "plt.show()\n"
   ],
   "id": "44ea0bafae26aca0",
   "outputs": [
    {
     "data": {
      "text/plain": [
       "<Figure size 1200x800 with 1 Axes>"
      ],
      "image/png": "[encoded data removed]"
     },
     "metadata": {},
     "output_type": "display_data",
     "jetTransient": {
      "display_id": null
     }
    }
   ],
   "execution_count": 103
  },
  {
   "metadata": {},
   "cell_type": "markdown",
   "source": "### Etapa 6: Balanceamento de Dados e Otimização com AutoML",
   "id": "87e1991b60bf96f8"
  },
  {
   "metadata": {},
   "cell_type": "markdown",
   "source": "#### 1. Balanceamento do Conjunto de Treino com SMOTE",
   "id": "6beaf21c0f0fda6e"
  },
  {
   "metadata": {
    "ExecuteTime": {
     "end_time": "2025-10-25T20:15:29.293010Z",
     "start_time": "2025-10-25T20:15:29.037914Z"
    }
   },
   "cell_type": "code",
   "source": [
    "print(\"Contagem de classes antes do SMOTE:\")\n",
    "print(y_train.value_counts())\n",
    "\n",
    "# Aplicando SMOTE apenas nos dados de treino\n",
    "smote = SMOTE(random_state=42)\n",
    "X_train_balanced, y_train_balanced = smote.fit_resample(X_train, y_train)\n",
    "\n",
    "print(\"\\nContagem de classes após o SMOTE:\")\n",
    "print(y_train_balanced.value_counts())\n"
   ],
   "id": "c4e088f9c746da88",
   "outputs": [
    {
     "name": "stdout",
     "output_type": "stream",
     "text": [
      "Contagem de classes antes do SMOTE:\n",
      "Failure\n",
      "0    89857\n",
      "1     5596\n",
      "Name: count, dtype: int64\n",
      "\n",
      "Contagem de classes após o SMOTE:\n",
      "Failure\n",
      "0    89857\n",
      "1    89857\n",
      "Name: count, dtype: int64\n"
     ]
    }
   ],
   "execution_count": 104
  },
  {
   "metadata": {},
   "cell_type": "markdown",
   "source": "#### 2. Busca do Melhor Modelo com AutoML (FLAML)",
   "id": "e1350479a8b74277"
  },
  {
   "metadata": {
    "ExecuteTime": {
     "end_time": "2025-10-25T20:17:29.297577Z",
     "start_time": "2025-10-25T20:15:29.300665Z"
    }
   },
   "cell_type": "code",
   "source": [
    "# Instanciando o AutoML\n",
    "automl = AutoML()\n",
    "\n",
    "# Configurações para a busca do modelo\n",
    "# Usaremos 'f1' como métrica, que é mais indicada para dados desbalanceados.\n",
    "automl_settings = {\n",
    "    \"time_budget\": 120,  # Tempo em segundos para a busca (ex: 2 minutos)\n",
    "    \"metric\": 'f1',\n",
    "    \"task\": 'classification',\n",
    "    \"log_file_name\": 'flaml_soft_hard_failure.log',\n",
    "    \"eval_method\": \"holdout\"\n",
    "}\n",
    "\n",
    "print(\"\\nIniciando a busca do melhor modelo com AutoML...\")\n",
    "# O fit será feito com os dados de treino balanceados\n",
    "# A validação (X_val, y_val) usa o conjunto de teste original, que não foi modificado\n",
    "automl.fit(X_train=X_train_balanced, y_train=y_train_balanced,\n",
    "           X_val=X_test, y_val=y_test,\n",
    "           **automl_settings)\n",
    "\n",
    "print(\"Busca concluída.\")\n"
   ],
   "id": "67d02314aede05a8",
   "outputs": [
    {
     "name": "stdout",
     "output_type": "stream",
     "text": [
      "\n",
      "Iniciando a busca do melhor modelo com AutoML...\n",
      "[flaml.automl.logger: 10-25 17:15:30] {1752} INFO - task = classification\n",
      "[flaml.automl.logger: 10-25 17:15:30] {1760} INFO - Data split method: stratified\n",
      "[flaml.automl.logger: 10-25 17:15:30] {1763} INFO - Evaluation method: holdout\n",
      "[flaml.automl.logger: 10-25 17:15:30] {1862} INFO - Minimizing error metric: 1-f1\n",
      "[flaml.automl.logger: 10-25 17:15:30] {1979} INFO - List of ML learners in AutoML Run: ['lgbm', 'rf', 'xgboost', 'extra_tree', 'xgb_limitdepth', 'sgd', 'lrl1']\n",
      "[flaml.automl.logger: 10-25 17:15:30] {2282} INFO - iteration 0, current learner lgbm\n",
      "[flaml.automl.logger: 10-25 17:15:30] {2417} INFO - Estimated sufficient time budget=8905s. Estimated necessary time budget=206s.\n",
      "[flaml.automl.logger: 10-25 17:15:30] {2466} INFO -  at 1.2s,\testimator lgbm's best error=0.4373,\tbest estimator lgbm's best error=0.4373\n",
      "[flaml.automl.logger: 10-25 17:15:30] {2282} INFO - iteration 1, current learner lgbm\n",
      "[flaml.automl.logger: 10-25 17:15:30] {2466} INFO -  at 1.2s,\testimator lgbm's best error=0.4321,\tbest estimator lgbm's best error=0.4321\n",
      "[flaml.automl.logger: 10-25 17:15:30] {2282} INFO - iteration 2, current learner lgbm\n",
      "[flaml.automl.logger: 10-25 17:15:30] {2466} INFO -  at 1.3s,\testimator lgbm's best error=0.4321,\tbest estimator lgbm's best error=0.4321\n",
      "[flaml.automl.logger: 10-25 17:15:30] {2282} INFO - iteration 3, current learner lgbm\n",
      "[flaml.automl.logger: 10-25 17:15:30] {2466} INFO -  at 1.3s,\testimator lgbm's best error=0.4321,\tbest estimator lgbm's best error=0.4321\n",
      "[flaml.automl.logger: 10-25 17:15:30] {2282} INFO - iteration 4, current learner sgd\n",
      "[flaml.automl.logger: 10-25 17:15:30] {2466} INFO -  at 1.6s,\testimator sgd's best error=0.7126,\tbest estimator lgbm's best error=0.4321\n",
      "[flaml.automl.logger: 10-25 17:15:30] {2282} INFO - iteration 5, current learner lgbm\n",
      "[flaml.automl.logger: 10-25 17:15:30] {2466} INFO -  at 1.7s,\testimator lgbm's best error=0.4321,\tbest estimator lgbm's best error=0.4321\n",
      "[flaml.automl.logger: 10-25 17:15:30] {2282} INFO - iteration 6, current learner xgboost\n",
      "[flaml.automl.logger: 10-25 17:15:31] {2466} INFO -  at 1.7s,\testimator xgboost's best error=0.4363,\tbest estimator lgbm's best error=0.4321\n",
      "[flaml.automl.logger: 10-25 17:15:31] {2282} INFO - iteration 7, current learner lgbm\n",
      "[flaml.automl.logger: 10-25 17:15:31] {2466} INFO -  at 1.7s,\testimator lgbm's best error=0.4321,\tbest estimator lgbm's best error=0.4321\n",
      "[flaml.automl.logger: 10-25 17:15:31] {2282} INFO - iteration 8, current learner lgbm\n",
      "[flaml.automl.logger: 10-25 17:15:31] {2466} INFO -  at 1.8s,\testimator lgbm's best error=0.4321,\tbest estimator lgbm's best error=0.4321\n",
      "[flaml.automl.logger: 10-25 17:15:31] {2282} INFO - iteration 9, current learner lgbm\n",
      "[flaml.automl.logger: 10-25 17:15:31] {2466} INFO -  at 1.9s,\testimator lgbm's best error=0.4321,\tbest estimator lgbm's best error=0.4321\n",
      "[flaml.automl.logger: 10-25 17:15:31] {2282} INFO - iteration 10, current learner xgboost\n",
      "[flaml.automl.logger: 10-25 17:15:31] {2466} INFO -  at 1.9s,\testimator xgboost's best error=0.4325,\tbest estimator lgbm's best error=0.4321\n",
      "[flaml.automl.logger: 10-25 17:15:31] {2282} INFO - iteration 11, current learner xgboost\n",
      "[flaml.automl.logger: 10-25 17:15:31] {2466} INFO -  at 1.9s,\testimator xgboost's best error=0.4325,\tbest estimator lgbm's best error=0.4321\n",
      "[flaml.automl.logger: 10-25 17:15:31] {2282} INFO - iteration 12, current learner xgboost\n",
      "[flaml.automl.logger: 10-25 17:15:31] {2466} INFO -  at 2.0s,\testimator xgboost's best error=0.4325,\tbest estimator lgbm's best error=0.4321\n",
      "[flaml.automl.logger: 10-25 17:15:31] {2282} INFO - iteration 13, current learner xgboost\n",
      "[flaml.automl.logger: 10-25 17:15:31] {2466} INFO -  at 2.0s,\testimator xgboost's best error=0.4325,\tbest estimator lgbm's best error=0.4321\n",
      "[flaml.automl.logger: 10-25 17:15:31] {2282} INFO - iteration 14, current learner xgboost\n",
      "[flaml.automl.logger: 10-25 17:15:31] {2466} INFO -  at 2.0s,\testimator xgboost's best error=0.4325,\tbest estimator lgbm's best error=0.4321\n",
      "[flaml.automl.logger: 10-25 17:15:31] {2282} INFO - iteration 15, current learner extra_tree\n",
      "[flaml.automl.logger: 10-25 17:15:31] {2466} INFO -  at 2.1s,\testimator extra_tree's best error=0.7479,\tbest estimator lgbm's best error=0.4321\n",
      "[flaml.automl.logger: 10-25 17:15:31] {2282} INFO - iteration 16, current learner xgboost\n",
      "[flaml.automl.logger: 10-25 17:15:31] {2466} INFO -  at 2.1s,\testimator xgboost's best error=0.4325,\tbest estimator lgbm's best error=0.4321\n",
      "[flaml.automl.logger: 10-25 17:15:31] {2282} INFO - iteration 17, current learner extra_tree\n",
      "[flaml.automl.logger: 10-25 17:15:31] {2466} INFO -  at 2.2s,\testimator extra_tree's best error=0.7216,\tbest estimator lgbm's best error=0.4321\n",
      "[flaml.automl.logger: 10-25 17:15:31] {2282} INFO - iteration 18, current learner rf\n",
      "[flaml.automl.logger: 10-25 17:15:31] {2466} INFO -  at 2.3s,\testimator rf's best error=0.6124,\tbest estimator lgbm's best error=0.4321\n",
      "[flaml.automl.logger: 10-25 17:15:31] {2282} INFO - iteration 19, current learner lgbm\n",
      "[flaml.automl.logger: 10-25 17:15:31] {2466} INFO -  at 2.4s,\testimator lgbm's best error=0.4321,\tbest estimator lgbm's best error=0.4321\n",
      "[flaml.automl.logger: 10-25 17:15:31] {2282} INFO - iteration 20, current learner xgboost\n",
      "[flaml.automl.logger: 10-25 17:15:31] {2466} INFO -  at 2.5s,\testimator xgboost's best error=0.4325,\tbest estimator lgbm's best error=0.4321\n",
      "[flaml.automl.logger: 10-25 17:15:31] {2282} INFO - iteration 21, current learner rf\n",
      "[flaml.automl.logger: 10-25 17:15:31] {2466} INFO -  at 2.6s,\testimator rf's best error=0.4908,\tbest estimator lgbm's best error=0.4321\n",
      "[flaml.automl.logger: 10-25 17:15:31] {2282} INFO - iteration 22, current learner xgboost\n",
      "[flaml.automl.logger: 10-25 17:15:31] {2466} INFO -  at 2.7s,\testimator xgboost's best error=0.4325,\tbest estimator lgbm's best error=0.4321\n",
      "[flaml.automl.logger: 10-25 17:15:31] {2282} INFO - iteration 23, current learner lgbm\n",
      "[flaml.automl.logger: 10-25 17:15:32] {2466} INFO -  at 2.7s,\testimator lgbm's best error=0.4321,\tbest estimator lgbm's best error=0.4321\n",
      "[flaml.automl.logger: 10-25 17:15:32] {2282} INFO - iteration 24, current learner lgbm\n",
      "[flaml.automl.logger: 10-25 17:15:32] {2466} INFO -  at 2.8s,\testimator lgbm's best error=0.4321,\tbest estimator lgbm's best error=0.4321\n",
      "[flaml.automl.logger: 10-25 17:15:32] {2282} INFO - iteration 25, current learner xgboost\n",
      "[flaml.automl.logger: 10-25 17:15:32] {2466} INFO -  at 2.9s,\testimator xgboost's best error=0.4313,\tbest estimator xgboost's best error=0.4313\n",
      "[flaml.automl.logger: 10-25 17:15:32] {2282} INFO - iteration 26, current learner sgd\n",
      "[flaml.automl.logger: 10-25 17:15:32] {2466} INFO -  at 3.2s,\testimator sgd's best error=0.7126,\tbest estimator xgboost's best error=0.4313\n",
      "[flaml.automl.logger: 10-25 17:15:32] {2282} INFO - iteration 27, current learner rf\n",
      "[flaml.automl.logger: 10-25 17:15:32] {2466} INFO -  at 3.2s,\testimator rf's best error=0.4908,\tbest estimator xgboost's best error=0.4313\n",
      "[flaml.automl.logger: 10-25 17:15:32] {2282} INFO - iteration 28, current learner xgboost\n",
      "[flaml.automl.logger: 10-25 17:15:32] {2466} INFO -  at 3.4s,\testimator xgboost's best error=0.4191,\tbest estimator xgboost's best error=0.4191\n",
      "[flaml.automl.logger: 10-25 17:15:32] {2282} INFO - iteration 29, current learner sgd\n",
      "[flaml.automl.logger: 10-25 17:15:32] {2466} INFO -  at 3.5s,\testimator sgd's best error=0.7126,\tbest estimator xgboost's best error=0.4191\n",
      "[flaml.automl.logger: 10-25 17:15:32] {2282} INFO - iteration 30, current learner sgd\n",
      "[flaml.automl.logger: 10-25 17:15:32] {2466} INFO -  at 3.5s,\testimator sgd's best error=0.7126,\tbest estimator xgboost's best error=0.4191\n",
      "[flaml.automl.logger: 10-25 17:15:32] {2282} INFO - iteration 31, current learner rf\n",
      "[flaml.automl.logger: 10-25 17:15:32] {2466} INFO -  at 3.7s,\testimator rf's best error=0.4908,\tbest estimator xgboost's best error=0.4191\n",
      "[flaml.automl.logger: 10-25 17:15:32] {2282} INFO - iteration 32, current learner rf\n",
      "[flaml.automl.logger: 10-25 17:15:33] {2466} INFO -  at 3.8s,\testimator rf's best error=0.4659,\tbest estimator xgboost's best error=0.4191\n",
      "[flaml.automl.logger: 10-25 17:15:33] {2282} INFO - iteration 33, current learner xgboost\n",
      "[flaml.automl.logger: 10-25 17:15:33] {2466} INFO -  at 3.9s,\testimator xgboost's best error=0.4191,\tbest estimator xgboost's best error=0.4191\n",
      "[flaml.automl.logger: 10-25 17:15:33] {2282} INFO - iteration 34, current learner sgd\n",
      "[flaml.automl.logger: 10-25 17:15:33] {2466} INFO -  at 4.1s,\testimator sgd's best error=0.7122,\tbest estimator xgboost's best error=0.4191\n",
      "[flaml.automl.logger: 10-25 17:15:33] {2282} INFO - iteration 35, current learner rf\n",
      "[flaml.automl.logger: 10-25 17:15:33] {2466} INFO -  at 4.3s,\testimator rf's best error=0.4659,\tbest estimator xgboost's best error=0.4191\n",
      "[flaml.automl.logger: 10-25 17:15:33] {2282} INFO - iteration 36, current learner xgboost\n",
      "[flaml.automl.logger: 10-25 17:15:33] {2466} INFO -  at 4.4s,\testimator xgboost's best error=0.3926,\tbest estimator xgboost's best error=0.3926\n",
      "[flaml.automl.logger: 10-25 17:15:33] {2282} INFO - iteration 37, current learner extra_tree\n",
      "[flaml.automl.logger: 10-25 17:15:33] {2466} INFO -  at 4.5s,\testimator extra_tree's best error=0.7216,\tbest estimator xgboost's best error=0.3926\n",
      "[flaml.automl.logger: 10-25 17:15:33] {2282} INFO - iteration 38, current learner xgboost\n",
      "[flaml.automl.logger: 10-25 17:15:34] {2466} INFO -  at 4.7s,\testimator xgboost's best error=0.3926,\tbest estimator xgboost's best error=0.3926\n",
      "[flaml.automl.logger: 10-25 17:15:34] {2282} INFO - iteration 39, current learner xgboost\n",
      "[flaml.automl.logger: 10-25 17:15:34] {2466} INFO -  at 4.8s,\testimator xgboost's best error=0.3926,\tbest estimator xgboost's best error=0.3926\n",
      "[flaml.automl.logger: 10-25 17:15:34] {2282} INFO - iteration 40, current learner xgboost\n",
      "[flaml.automl.logger: 10-25 17:15:34] {2466} INFO -  at 4.9s,\testimator xgboost's best error=0.3926,\tbest estimator xgboost's best error=0.3926\n",
      "[flaml.automl.logger: 10-25 17:15:34] {2282} INFO - iteration 41, current learner xgboost\n",
      "[flaml.automl.logger: 10-25 17:15:34] {2466} INFO -  at 5.0s,\testimator xgboost's best error=0.3787,\tbest estimator xgboost's best error=0.3787\n",
      "[flaml.automl.logger: 10-25 17:15:34] {2282} INFO - iteration 42, current learner xgboost\n",
      "[flaml.automl.logger: 10-25 17:15:34] {2466} INFO -  at 5.1s,\testimator xgboost's best error=0.3787,\tbest estimator xgboost's best error=0.3787\n",
      "[flaml.automl.logger: 10-25 17:15:34] {2282} INFO - iteration 43, current learner lgbm\n",
      "[flaml.automl.logger: 10-25 17:15:34] {2466} INFO -  at 5.2s,\testimator lgbm's best error=0.3944,\tbest estimator xgboost's best error=0.3787\n",
      "[flaml.automl.logger: 10-25 17:15:34] {2282} INFO - iteration 44, current learner xgboost\n",
      "[flaml.automl.logger: 10-25 17:15:35] {2466} INFO -  at 6.2s,\testimator xgboost's best error=0.3560,\tbest estimator xgboost's best error=0.3560\n",
      "[flaml.automl.logger: 10-25 17:15:35] {2282} INFO - iteration 45, current learner extra_tree\n",
      "[flaml.automl.logger: 10-25 17:15:35] {2466} INFO -  at 6.3s,\testimator extra_tree's best error=0.7117,\tbest estimator xgboost's best error=0.3560\n",
      "[flaml.automl.logger: 10-25 17:15:35] {2282} INFO - iteration 46, current learner xgboost\n",
      "[flaml.automl.logger: 10-25 17:15:35] {2466} INFO -  at 6.4s,\testimator xgboost's best error=0.3560,\tbest estimator xgboost's best error=0.3560\n",
      "[flaml.automl.logger: 10-25 17:15:35] {2282} INFO - iteration 47, current learner lgbm\n",
      "[flaml.automl.logger: 10-25 17:15:35] {2466} INFO -  at 6.5s,\testimator lgbm's best error=0.3836,\tbest estimator xgboost's best error=0.3560\n",
      "[flaml.automl.logger: 10-25 17:15:35] {2282} INFO - iteration 48, current learner xgboost\n",
      "[flaml.automl.logger: 10-25 17:15:46] {2466} INFO -  at 17.1s,\testimator xgboost's best error=0.3560,\tbest estimator xgboost's best error=0.3560\n",
      "[flaml.automl.logger: 10-25 17:15:46] {2282} INFO - iteration 49, current learner lgbm\n",
      "[flaml.automl.logger: 10-25 17:15:46] {2466} INFO -  at 17.2s,\testimator lgbm's best error=0.3836,\tbest estimator xgboost's best error=0.3560\n",
      "[flaml.automl.logger: 10-25 17:15:46] {2282} INFO - iteration 50, current learner lgbm\n",
      "[flaml.automl.logger: 10-25 17:15:46] {2466} INFO -  at 17.3s,\testimator lgbm's best error=0.3836,\tbest estimator xgboost's best error=0.3560\n",
      "[flaml.automl.logger: 10-25 17:15:46] {2282} INFO - iteration 51, current learner xgboost\n",
      "[flaml.automl.logger: 10-25 17:15:47] {2466} INFO -  at 18.4s,\testimator xgboost's best error=0.3560,\tbest estimator xgboost's best error=0.3560\n",
      "[flaml.automl.logger: 10-25 17:15:47] {2282} INFO - iteration 52, current learner lgbm\n",
      "[flaml.automl.logger: 10-25 17:15:47] {2466} INFO -  at 18.6s,\testimator lgbm's best error=0.3836,\tbest estimator xgboost's best error=0.3560\n",
      "[flaml.automl.logger: 10-25 17:15:47] {2282} INFO - iteration 53, current learner lgbm\n",
      "[flaml.automl.logger: 10-25 17:15:48] {2466} INFO -  at 18.8s,\testimator lgbm's best error=0.3836,\tbest estimator xgboost's best error=0.3560\n",
      "[flaml.automl.logger: 10-25 17:15:48] {2282} INFO - iteration 54, current learner xgb_limitdepth\n",
      "[flaml.automl.logger: 10-25 17:15:48] {2466} INFO -  at 18.8s,\testimator xgb_limitdepth's best error=0.4188,\tbest estimator xgboost's best error=0.3560\n",
      "[flaml.automl.logger: 10-25 17:15:48] {2282} INFO - iteration 55, current learner xgb_limitdepth\n",
      "[flaml.automl.logger: 10-25 17:15:48] {2466} INFO -  at 18.9s,\testimator xgb_limitdepth's best error=0.4148,\tbest estimator xgboost's best error=0.3560\n",
      "[flaml.automl.logger: 10-25 17:15:48] {2282} INFO - iteration 56, current learner lgbm\n",
      "[flaml.automl.logger: 10-25 17:15:48] {2466} INFO -  at 19.6s,\testimator lgbm's best error=0.3773,\tbest estimator xgboost's best error=0.3560\n",
      "[flaml.automl.logger: 10-25 17:15:48] {2282} INFO - iteration 57, current learner xgb_limitdepth\n",
      "[flaml.automl.logger: 10-25 17:15:48] {2466} INFO -  at 19.7s,\testimator xgb_limitdepth's best error=0.4148,\tbest estimator xgboost's best error=0.3560\n",
      "[flaml.automl.logger: 10-25 17:15:48] {2282} INFO - iteration 58, current learner rf\n",
      "[flaml.automl.logger: 10-25 17:15:49] {2466} INFO -  at 19.9s,\testimator rf's best error=0.4368,\tbest estimator xgboost's best error=0.3560\n",
      "[flaml.automl.logger: 10-25 17:15:49] {2282} INFO - iteration 59, current learner rf\n",
      "[flaml.automl.logger: 10-25 17:15:49] {2466} INFO -  at 20.1s,\testimator rf's best error=0.3894,\tbest estimator xgboost's best error=0.3560\n",
      "[flaml.automl.logger: 10-25 17:15:49] {2282} INFO - iteration 60, current learner rf\n",
      "[flaml.automl.logger: 10-25 17:15:49] {2466} INFO -  at 20.2s,\testimator rf's best error=0.3894,\tbest estimator xgboost's best error=0.3560\n",
      "[flaml.automl.logger: 10-25 17:15:49] {2282} INFO - iteration 61, current learner rf\n",
      "[flaml.automl.logger: 10-25 17:15:49] {2466} INFO -  at 20.4s,\testimator rf's best error=0.3894,\tbest estimator xgboost's best error=0.3560\n",
      "[flaml.automl.logger: 10-25 17:15:49] {2282} INFO - iteration 62, current learner rf\n",
      "[flaml.automl.logger: 10-25 17:15:49] {2466} INFO -  at 20.6s,\testimator rf's best error=0.3894,\tbest estimator xgboost's best error=0.3560\n",
      "[flaml.automl.logger: 10-25 17:15:49] {2282} INFO - iteration 63, current learner rf\n",
      "[flaml.automl.logger: 10-25 17:15:50] {2466} INFO -  at 20.8s,\testimator rf's best error=0.3894,\tbest estimator xgboost's best error=0.3560\n",
      "[flaml.automl.logger: 10-25 17:15:50] {2282} INFO - iteration 64, current learner rf\n",
      "[flaml.automl.logger: 10-25 17:15:50] {2466} INFO -  at 21.0s,\testimator rf's best error=0.3665,\tbest estimator xgboost's best error=0.3560\n",
      "[flaml.automl.logger: 10-25 17:15:50] {2282} INFO - iteration 65, current learner rf\n",
      "[flaml.automl.logger: 10-25 17:15:50] {2466} INFO -  at 21.2s,\testimator rf's best error=0.3665,\tbest estimator xgboost's best error=0.3560\n",
      "[flaml.automl.logger: 10-25 17:15:50] {2282} INFO - iteration 66, current learner rf\n",
      "[flaml.automl.logger: 10-25 17:15:50] {2466} INFO -  at 21.6s,\testimator rf's best error=0.3665,\tbest estimator xgboost's best error=0.3560\n",
      "[flaml.automl.logger: 10-25 17:15:50] {2282} INFO - iteration 67, current learner rf\n",
      "[flaml.automl.logger: 10-25 17:15:51] {2466} INFO -  at 21.9s,\testimator rf's best error=0.3665,\tbest estimator xgboost's best error=0.3560\n",
      "[flaml.automl.logger: 10-25 17:15:51] {2282} INFO - iteration 68, current learner xgboost\n",
      "[flaml.automl.logger: 10-25 17:15:51] {2466} INFO -  at 22.4s,\testimator xgboost's best error=0.3560,\tbest estimator xgboost's best error=0.3560\n",
      "[flaml.automl.logger: 10-25 17:15:51] {2282} INFO - iteration 69, current learner rf\n",
      "[flaml.automl.logger: 10-25 17:15:51] {2466} INFO -  at 22.7s,\testimator rf's best error=0.3665,\tbest estimator xgboost's best error=0.3560\n",
      "[flaml.automl.logger: 10-25 17:15:51] {2282} INFO - iteration 70, current learner lgbm\n",
      "[flaml.automl.logger: 10-25 17:15:52] {2466} INFO -  at 23.1s,\testimator lgbm's best error=0.3773,\tbest estimator xgboost's best error=0.3560\n",
      "[flaml.automl.logger: 10-25 17:15:52] {2282} INFO - iteration 71, current learner rf\n",
      "[flaml.automl.logger: 10-25 17:15:53] {2466} INFO -  at 23.7s,\testimator rf's best error=0.3665,\tbest estimator xgboost's best error=0.3560\n",
      "[flaml.automl.logger: 10-25 17:15:53] {2282} INFO - iteration 72, current learner extra_tree\n",
      "[flaml.automl.logger: 10-25 17:15:53] {2466} INFO -  at 23.8s,\testimator extra_tree's best error=0.6286,\tbest estimator xgboost's best error=0.3560\n",
      "[flaml.automl.logger: 10-25 17:15:53] {2282} INFO - iteration 73, current learner extra_tree\n",
      "[flaml.automl.logger: 10-25 17:15:53] {2466} INFO -  at 23.9s,\testimator extra_tree's best error=0.6286,\tbest estimator xgboost's best error=0.3560\n",
      "[flaml.automl.logger: 10-25 17:15:53] {2282} INFO - iteration 74, current learner xgb_limitdepth\n",
      "[flaml.automl.logger: 10-25 17:15:53] {2466} INFO -  at 24.0s,\testimator xgb_limitdepth's best error=0.4148,\tbest estimator xgboost's best error=0.3560\n",
      "[flaml.automl.logger: 10-25 17:15:53] {2282} INFO - iteration 75, current learner extra_tree\n",
      "[flaml.automl.logger: 10-25 17:15:53] {2466} INFO -  at 24.1s,\testimator extra_tree's best error=0.6286,\tbest estimator xgboost's best error=0.3560\n",
      "[flaml.automl.logger: 10-25 17:15:53] {2282} INFO - iteration 76, current learner xgb_limitdepth\n",
      "[flaml.automl.logger: 10-25 17:15:53] {2466} INFO -  at 24.1s,\testimator xgb_limitdepth's best error=0.4014,\tbest estimator xgboost's best error=0.3560\n",
      "[flaml.automl.logger: 10-25 17:15:53] {2282} INFO - iteration 77, current learner rf\n",
      "[flaml.automl.logger: 10-25 17:15:53] {2466} INFO -  at 24.6s,\testimator rf's best error=0.3665,\tbest estimator xgboost's best error=0.3560\n",
      "[flaml.automl.logger: 10-25 17:15:53] {2282} INFO - iteration 78, current learner rf\n",
      "[flaml.automl.logger: 10-25 17:15:55] {2466} INFO -  at 25.8s,\testimator rf's best error=0.3665,\tbest estimator xgboost's best error=0.3560\n",
      "[flaml.automl.logger: 10-25 17:15:55] {2282} INFO - iteration 79, current learner xgb_limitdepth\n",
      "[flaml.automl.logger: 10-25 17:15:55] {2466} INFO -  at 25.8s,\testimator xgb_limitdepth's best error=0.4014,\tbest estimator xgboost's best error=0.3560\n",
      "[flaml.automl.logger: 10-25 17:15:55] {2282} INFO - iteration 80, current learner extra_tree\n",
      "[flaml.automl.logger: 10-25 17:15:55] {2466} INFO -  at 25.9s,\testimator extra_tree's best error=0.6286,\tbest estimator xgboost's best error=0.3560\n",
      "[flaml.automl.logger: 10-25 17:15:55] {2282} INFO - iteration 81, current learner rf\n",
      "[flaml.automl.logger: 10-25 17:15:56] {2466} INFO -  at 26.9s,\testimator rf's best error=0.3665,\tbest estimator xgboost's best error=0.3560\n",
      "[flaml.automl.logger: 10-25 17:15:56] {2282} INFO - iteration 82, current learner xgb_limitdepth\n",
      "[flaml.automl.logger: 10-25 17:15:56] {2466} INFO -  at 27.0s,\testimator xgb_limitdepth's best error=0.4014,\tbest estimator xgboost's best error=0.3560\n",
      "[flaml.automl.logger: 10-25 17:15:56] {2282} INFO - iteration 83, current learner extra_tree\n",
      "[flaml.automl.logger: 10-25 17:15:56] {2466} INFO -  at 27.1s,\testimator extra_tree's best error=0.6286,\tbest estimator xgboost's best error=0.3560\n",
      "[flaml.automl.logger: 10-25 17:15:56] {2282} INFO - iteration 84, current learner xgb_limitdepth\n",
      "[flaml.automl.logger: 10-25 17:15:56] {2466} INFO -  at 27.1s,\testimator xgb_limitdepth's best error=0.4014,\tbest estimator xgboost's best error=0.3560\n",
      "[flaml.automl.logger: 10-25 17:15:56] {2282} INFO - iteration 85, current learner xgb_limitdepth\n",
      "[flaml.automl.logger: 10-25 17:15:56] {2466} INFO -  at 27.2s,\testimator xgb_limitdepth's best error=0.3963,\tbest estimator xgboost's best error=0.3560\n",
      "[flaml.automl.logger: 10-25 17:15:56] {2282} INFO - iteration 86, current learner xgb_limitdepth\n",
      "[flaml.automl.logger: 10-25 17:15:56] {2466} INFO -  at 27.3s,\testimator xgb_limitdepth's best error=0.3847,\tbest estimator xgboost's best error=0.3560\n",
      "[flaml.automl.logger: 10-25 17:15:56] {2282} INFO - iteration 87, current learner xgb_limitdepth\n",
      "[flaml.automl.logger: 10-25 17:15:56] {2466} INFO -  at 27.4s,\testimator xgb_limitdepth's best error=0.3812,\tbest estimator xgboost's best error=0.3560\n",
      "[flaml.automl.logger: 10-25 17:15:56] {2282} INFO - iteration 88, current learner xgb_limitdepth\n",
      "[flaml.automl.logger: 10-25 17:15:56] {2466} INFO -  at 27.5s,\testimator xgb_limitdepth's best error=0.3812,\tbest estimator xgboost's best error=0.3560\n",
      "[flaml.automl.logger: 10-25 17:15:56] {2282} INFO - iteration 89, current learner extra_tree\n",
      "[flaml.automl.logger: 10-25 17:15:56] {2466} INFO -  at 27.6s,\testimator extra_tree's best error=0.6286,\tbest estimator xgboost's best error=0.3560\n",
      "[flaml.automl.logger: 10-25 17:15:56] {2282} INFO - iteration 90, current learner xgboost\n",
      "[flaml.automl.logger: 10-25 17:16:00] {2466} INFO -  at 30.7s,\testimator xgboost's best error=0.3560,\tbest estimator xgboost's best error=0.3560\n",
      "[flaml.automl.logger: 10-25 17:16:00] {2282} INFO - iteration 91, current learner xgb_limitdepth\n",
      "[flaml.automl.logger: 10-25 17:16:00] {2466} INFO -  at 30.9s,\testimator xgb_limitdepth's best error=0.3812,\tbest estimator xgboost's best error=0.3560\n",
      "[flaml.automl.logger: 10-25 17:16:00] {2282} INFO - iteration 92, current learner extra_tree\n",
      "[flaml.automl.logger: 10-25 17:16:00] {2466} INFO -  at 31.1s,\testimator extra_tree's best error=0.6286,\tbest estimator xgboost's best error=0.3560\n",
      "[flaml.automl.logger: 10-25 17:16:00] {2282} INFO - iteration 93, current learner xgb_limitdepth\n",
      "[flaml.automl.logger: 10-25 17:16:00] {2466} INFO -  at 31.1s,\testimator xgb_limitdepth's best error=0.3812,\tbest estimator xgboost's best error=0.3560\n",
      "[flaml.automl.logger: 10-25 17:16:00] {2282} INFO - iteration 94, current learner extra_tree\n",
      "[flaml.automl.logger: 10-25 17:16:00] {2466} INFO -  at 31.3s,\testimator extra_tree's best error=0.6286,\tbest estimator xgboost's best error=0.3560\n",
      "[flaml.automl.logger: 10-25 17:16:00] {2282} INFO - iteration 95, current learner extra_tree\n",
      "[flaml.automl.logger: 10-25 17:16:00] {2466} INFO -  at 31.4s,\testimator extra_tree's best error=0.6286,\tbest estimator xgboost's best error=0.3560\n",
      "[flaml.automl.logger: 10-25 17:16:00] {2282} INFO - iteration 96, current learner lgbm\n",
      "[flaml.automl.logger: 10-25 17:16:01] {2466} INFO -  at 31.7s,\testimator lgbm's best error=0.3773,\tbest estimator xgboost's best error=0.3560\n",
      "[flaml.automl.logger: 10-25 17:16:01] {2282} INFO - iteration 97, current learner xgb_limitdepth\n",
      "[flaml.automl.logger: 10-25 17:16:01] {2466} INFO -  at 31.9s,\testimator xgb_limitdepth's best error=0.3812,\tbest estimator xgboost's best error=0.3560\n",
      "[flaml.automl.logger: 10-25 17:16:01] {2282} INFO - iteration 98, current learner xgboost\n",
      "[flaml.automl.logger: 10-25 17:16:05] {2466} INFO -  at 36.2s,\testimator xgboost's best error=0.3560,\tbest estimator xgboost's best error=0.3560\n",
      "[flaml.automl.logger: 10-25 17:16:05] {2282} INFO - iteration 99, current learner extra_tree\n",
      "[flaml.automl.logger: 10-25 17:16:05] {2466} INFO -  at 36.3s,\testimator extra_tree's best error=0.6286,\tbest estimator xgboost's best error=0.3560\n",
      "[flaml.automl.logger: 10-25 17:16:05] {2282} INFO - iteration 100, current learner rf\n",
      "[flaml.automl.logger: 10-25 17:16:06] {2466} INFO -  at 36.9s,\testimator rf's best error=0.3665,\tbest estimator xgboost's best error=0.3560\n",
      "[flaml.automl.logger: 10-25 17:16:06] {2282} INFO - iteration 101, current learner rf\n",
      "[flaml.automl.logger: 10-25 17:16:08] {2466} INFO -  at 39.6s,\testimator rf's best error=0.3603,\tbest estimator xgboost's best error=0.3560\n",
      "[flaml.automl.logger: 10-25 17:16:08] {2282} INFO - iteration 102, current learner xgb_limitdepth\n",
      "[flaml.automl.logger: 10-25 17:16:09] {2466} INFO -  at 40.0s,\testimator xgb_limitdepth's best error=0.3563,\tbest estimator xgboost's best error=0.3560\n",
      "[flaml.automl.logger: 10-25 17:16:09] {2282} INFO - iteration 103, current learner xgb_limitdepth\n",
      "[flaml.automl.logger: 10-25 17:16:09] {2466} INFO -  at 40.2s,\testimator xgb_limitdepth's best error=0.3563,\tbest estimator xgboost's best error=0.3560\n",
      "[flaml.automl.logger: 10-25 17:16:09] {2282} INFO - iteration 104, current learner lgbm\n",
      "[flaml.automl.logger: 10-25 17:16:09] {2466} INFO -  at 40.6s,\testimator lgbm's best error=0.3773,\tbest estimator xgboost's best error=0.3560\n",
      "[flaml.automl.logger: 10-25 17:16:09] {2282} INFO - iteration 105, current learner xgb_limitdepth\n",
      "[flaml.automl.logger: 10-25 17:16:10] {2466} INFO -  at 41.0s,\testimator xgb_limitdepth's best error=0.3563,\tbest estimator xgboost's best error=0.3560\n",
      "[flaml.automl.logger: 10-25 17:16:10] {2282} INFO - iteration 106, current learner xgb_limitdepth\n",
      "[flaml.automl.logger: 10-25 17:16:10] {2466} INFO -  at 41.2s,\testimator xgb_limitdepth's best error=0.3563,\tbest estimator xgboost's best error=0.3560\n",
      "[flaml.automl.logger: 10-25 17:16:10] {2282} INFO - iteration 107, current learner xgb_limitdepth\n",
      "[flaml.automl.logger: 10-25 17:16:10] {2466} INFO -  at 41.6s,\testimator xgb_limitdepth's best error=0.3563,\tbest estimator xgboost's best error=0.3560\n",
      "[flaml.automl.logger: 10-25 17:16:10] {2282} INFO - iteration 108, current learner xgb_limitdepth\n",
      "[flaml.automl.logger: 10-25 17:16:11] {2466} INFO -  at 41.8s,\testimator xgb_limitdepth's best error=0.3563,\tbest estimator xgboost's best error=0.3560\n",
      "[flaml.automl.logger: 10-25 17:16:11] {2282} INFO - iteration 109, current learner xgb_limitdepth\n",
      "[flaml.automl.logger: 10-25 17:16:11] {2466} INFO -  at 42.5s,\testimator xgb_limitdepth's best error=0.3563,\tbest estimator xgboost's best error=0.3560\n",
      "[flaml.automl.logger: 10-25 17:16:11] {2282} INFO - iteration 110, current learner xgb_limitdepth\n",
      "[flaml.automl.logger: 10-25 17:16:12] {2466} INFO -  at 42.7s,\testimator xgb_limitdepth's best error=0.3563,\tbest estimator xgboost's best error=0.3560\n",
      "[flaml.automl.logger: 10-25 17:16:12] {2282} INFO - iteration 111, current learner xgb_limitdepth\n",
      "[flaml.automl.logger: 10-25 17:16:12] {2466} INFO -  at 43.0s,\testimator xgb_limitdepth's best error=0.3563,\tbest estimator xgboost's best error=0.3560\n",
      "[flaml.automl.logger: 10-25 17:16:12] {2282} INFO - iteration 112, current learner lgbm\n",
      "[flaml.automl.logger: 10-25 17:16:12] {2466} INFO -  at 43.5s,\testimator lgbm's best error=0.3613,\tbest estimator xgboost's best error=0.3560\n",
      "[flaml.automl.logger: 10-25 17:16:12] {2282} INFO - iteration 113, current learner xgb_limitdepth\n",
      "[flaml.automl.logger: 10-25 17:16:13] {2466} INFO -  at 43.8s,\testimator xgb_limitdepth's best error=0.3563,\tbest estimator xgboost's best error=0.3560\n",
      "[flaml.automl.logger: 10-25 17:16:13] {2282} INFO - iteration 114, current learner extra_tree\n",
      "[flaml.automl.logger: 10-25 17:16:13] {2466} INFO -  at 43.9s,\testimator extra_tree's best error=0.6286,\tbest estimator xgboost's best error=0.3560\n",
      "[flaml.automl.logger: 10-25 17:16:13] {2282} INFO - iteration 115, current learner xgb_limitdepth\n",
      "[flaml.automl.logger: 10-25 17:16:13] {2466} INFO -  at 44.2s,\testimator xgb_limitdepth's best error=0.3563,\tbest estimator xgboost's best error=0.3560\n",
      "[flaml.automl.logger: 10-25 17:16:13] {2282} INFO - iteration 116, current learner lgbm\n",
      "[flaml.automl.logger: 10-25 17:16:14] {2466} INFO -  at 45.0s,\testimator lgbm's best error=0.3613,\tbest estimator xgboost's best error=0.3560\n",
      "[flaml.automl.logger: 10-25 17:16:14] {2282} INFO - iteration 117, current learner lgbm\n",
      "[flaml.automl.logger: 10-25 17:16:14] {2466} INFO -  at 45.6s,\testimator lgbm's best error=0.3613,\tbest estimator xgboost's best error=0.3560\n",
      "[flaml.automl.logger: 10-25 17:16:14] {2282} INFO - iteration 118, current learner xgb_limitdepth\n",
      "[flaml.automl.logger: 10-25 17:16:15] {2466} INFO -  at 45.8s,\testimator xgb_limitdepth's best error=0.3563,\tbest estimator xgboost's best error=0.3560\n",
      "[flaml.automl.logger: 10-25 17:16:15] {2282} INFO - iteration 119, current learner extra_tree\n",
      "[flaml.automl.logger: 10-25 17:16:15] {2466} INFO -  at 45.9s,\testimator extra_tree's best error=0.6286,\tbest estimator xgboost's best error=0.3560\n",
      "[flaml.automl.logger: 10-25 17:16:15] {2282} INFO - iteration 120, current learner lgbm\n",
      "[flaml.automl.logger: 10-25 17:16:15] {2466} INFO -  at 46.4s,\testimator lgbm's best error=0.3613,\tbest estimator xgboost's best error=0.3560\n",
      "[flaml.automl.logger: 10-25 17:16:15] {2282} INFO - iteration 121, current learner xgb_limitdepth\n",
      "[flaml.automl.logger: 10-25 17:16:16] {2466} INFO -  at 46.9s,\testimator xgb_limitdepth's best error=0.3563,\tbest estimator xgboost's best error=0.3560\n",
      "[flaml.automl.logger: 10-25 17:16:16] {2282} INFO - iteration 122, current learner xgb_limitdepth\n",
      "[flaml.automl.logger: 10-25 17:16:16] {2466} INFO -  at 47.1s,\testimator xgb_limitdepth's best error=0.3563,\tbest estimator xgboost's best error=0.3560\n",
      "[flaml.automl.logger: 10-25 17:16:16] {2282} INFO - iteration 123, current learner xgb_limitdepth\n",
      "[flaml.automl.logger: 10-25 17:16:16] {2466} INFO -  at 47.3s,\testimator xgb_limitdepth's best error=0.3563,\tbest estimator xgboost's best error=0.3560\n",
      "[flaml.automl.logger: 10-25 17:16:16] {2282} INFO - iteration 124, current learner extra_tree\n",
      "[flaml.automl.logger: 10-25 17:16:16] {2466} INFO -  at 47.5s,\testimator extra_tree's best error=0.5492,\tbest estimator xgboost's best error=0.3560\n",
      "[flaml.automl.logger: 10-25 17:16:16] {2282} INFO - iteration 125, current learner lgbm\n",
      "[flaml.automl.logger: 10-25 17:16:17] {2466} INFO -  at 48.0s,\testimator lgbm's best error=0.3613,\tbest estimator xgboost's best error=0.3560\n",
      "[flaml.automl.logger: 10-25 17:16:17] {2282} INFO - iteration 126, current learner lgbm\n",
      "[flaml.automl.logger: 10-25 17:16:18] {2466} INFO -  at 49.0s,\testimator lgbm's best error=0.3613,\tbest estimator xgboost's best error=0.3560\n",
      "[flaml.automl.logger: 10-25 17:16:18] {2282} INFO - iteration 127, current learner lgbm\n",
      "[flaml.automl.logger: 10-25 17:16:18] {2466} INFO -  at 49.6s,\testimator lgbm's best error=0.3613,\tbest estimator xgboost's best error=0.3560\n",
      "[flaml.automl.logger: 10-25 17:16:18] {2282} INFO - iteration 128, current learner lgbm\n",
      "[flaml.automl.logger: 10-25 17:16:20] {2466} INFO -  at 50.9s,\testimator lgbm's best error=0.3613,\tbest estimator xgboost's best error=0.3560\n",
      "[flaml.automl.logger: 10-25 17:16:20] {2282} INFO - iteration 129, current learner lgbm\n",
      "[flaml.automl.logger: 10-25 17:16:20] {2466} INFO -  at 51.3s,\testimator lgbm's best error=0.3613,\tbest estimator xgboost's best error=0.3560\n",
      "[flaml.automl.logger: 10-25 17:16:20] {2282} INFO - iteration 130, current learner xgb_limitdepth\n",
      "[flaml.automl.logger: 10-25 17:16:20] {2466} INFO -  at 51.5s,\testimator xgb_limitdepth's best error=0.3563,\tbest estimator xgboost's best error=0.3560\n",
      "[flaml.automl.logger: 10-25 17:16:20] {2282} INFO - iteration 131, current learner extra_tree\n",
      "[flaml.automl.logger: 10-25 17:16:20] {2466} INFO -  at 51.7s,\testimator extra_tree's best error=0.5492,\tbest estimator xgboost's best error=0.3560\n",
      "[flaml.automl.logger: 10-25 17:16:20] {2282} INFO - iteration 132, current learner extra_tree\n",
      "[flaml.automl.logger: 10-25 17:16:21] {2466} INFO -  at 51.8s,\testimator extra_tree's best error=0.5492,\tbest estimator xgboost's best error=0.3560\n",
      "[flaml.automl.logger: 10-25 17:16:21] {2282} INFO - iteration 133, current learner xgb_limitdepth\n",
      "[flaml.automl.logger: 10-25 17:16:21] {2466} INFO -  at 52.5s,\testimator xgb_limitdepth's best error=0.3563,\tbest estimator xgboost's best error=0.3560\n",
      "[flaml.automl.logger: 10-25 17:16:21] {2282} INFO - iteration 134, current learner lgbm\n",
      "[flaml.automl.logger: 10-25 17:16:22] {2466} INFO -  at 53.0s,\testimator lgbm's best error=0.3613,\tbest estimator xgboost's best error=0.3560\n",
      "[flaml.automl.logger: 10-25 17:16:22] {2282} INFO - iteration 135, current learner rf\n",
      "[flaml.automl.logger: 10-25 17:16:25] {2466} INFO -  at 56.1s,\testimator rf's best error=0.3521,\tbest estimator rf's best error=0.3521\n",
      "[flaml.automl.logger: 10-25 17:16:25] {2282} INFO - iteration 136, current learner xgboost\n",
      "[flaml.automl.logger: 10-25 17:16:26] {2466} INFO -  at 57.3s,\testimator xgboost's best error=0.3560,\tbest estimator rf's best error=0.3521\n",
      "[flaml.automl.logger: 10-25 17:16:26] {2282} INFO - iteration 137, current learner xgb_limitdepth\n",
      "[flaml.automl.logger: 10-25 17:16:26] {2466} INFO -  at 57.6s,\testimator xgb_limitdepth's best error=0.3563,\tbest estimator rf's best error=0.3521\n",
      "[flaml.automl.logger: 10-25 17:16:26] {2282} INFO - iteration 138, current learner xgboost\n",
      "[flaml.automl.logger: 10-25 17:16:27] {2466} INFO -  at 57.8s,\testimator xgboost's best error=0.3560,\tbest estimator rf's best error=0.3521\n",
      "[flaml.automl.logger: 10-25 17:16:27] {2282} INFO - iteration 139, current learner lgbm\n",
      "[flaml.automl.logger: 10-25 17:16:28] {2466} INFO -  at 59.2s,\testimator lgbm's best error=0.3609,\tbest estimator rf's best error=0.3521\n",
      "[flaml.automl.logger: 10-25 17:16:28] {2282} INFO - iteration 140, current learner xgb_limitdepth\n",
      "[flaml.automl.logger: 10-25 17:16:28] {2466} INFO -  at 59.4s,\testimator xgb_limitdepth's best error=0.3563,\tbest estimator rf's best error=0.3521\n",
      "[flaml.automl.logger: 10-25 17:16:28] {2282} INFO - iteration 141, current learner rf\n",
      "[flaml.automl.logger: 10-25 17:16:32] {2466} INFO -  at 62.9s,\testimator rf's best error=0.3521,\tbest estimator rf's best error=0.3521\n",
      "[flaml.automl.logger: 10-25 17:16:32] {2282} INFO - iteration 142, current learner xgb_limitdepth\n",
      "[flaml.automl.logger: 10-25 17:16:32] {2466} INFO -  at 63.4s,\testimator xgb_limitdepth's best error=0.3563,\tbest estimator rf's best error=0.3521\n",
      "[flaml.automl.logger: 10-25 17:16:32] {2282} INFO - iteration 143, current learner rf\n",
      "[flaml.automl.logger: 10-25 17:16:36] {2466} INFO -  at 67.4s,\testimator rf's best error=0.3521,\tbest estimator rf's best error=0.3521\n",
      "[flaml.automl.logger: 10-25 17:16:36] {2282} INFO - iteration 144, current learner xgb_limitdepth\n",
      "[flaml.automl.logger: 10-25 17:16:36] {2466} INFO -  at 67.5s,\testimator xgb_limitdepth's best error=0.3563,\tbest estimator rf's best error=0.3521\n",
      "[flaml.automl.logger: 10-25 17:16:36] {2282} INFO - iteration 145, current learner xgb_limitdepth\n",
      "[flaml.automl.logger: 10-25 17:16:37] {2466} INFO -  at 68.3s,\testimator xgb_limitdepth's best error=0.3563,\tbest estimator rf's best error=0.3521\n",
      "[flaml.automl.logger: 10-25 17:16:37] {2282} INFO - iteration 146, current learner extra_tree\n",
      "[flaml.automl.logger: 10-25 17:16:37] {2466} INFO -  at 68.4s,\testimator extra_tree's best error=0.5492,\tbest estimator rf's best error=0.3521\n",
      "[flaml.automl.logger: 10-25 17:16:37] {2282} INFO - iteration 147, current learner rf\n",
      "[flaml.automl.logger: 10-25 17:16:40] {2466} INFO -  at 71.1s,\testimator rf's best error=0.3521,\tbest estimator rf's best error=0.3521\n",
      "[flaml.automl.logger: 10-25 17:16:40] {2282} INFO - iteration 148, current learner rf\n",
      "[flaml.automl.logger: 10-25 17:16:42] {2466} INFO -  at 73.4s,\testimator rf's best error=0.3521,\tbest estimator rf's best error=0.3521\n",
      "[flaml.automl.logger: 10-25 17:16:42] {2282} INFO - iteration 149, current learner rf\n",
      "[flaml.automl.logger: 10-25 17:16:47] {2466} INFO -  at 78.6s,\testimator rf's best error=0.3521,\tbest estimator rf's best error=0.3521\n",
      "[flaml.automl.logger: 10-25 17:16:47] {2282} INFO - iteration 150, current learner rf\n",
      "[flaml.automl.logger: 10-25 17:16:51] {2466} INFO -  at 82.1s,\testimator rf's best error=0.3521,\tbest estimator rf's best error=0.3521\n",
      "[flaml.automl.logger: 10-25 17:16:51] {2282} INFO - iteration 151, current learner rf\n",
      "[flaml.automl.logger: 10-25 17:16:55] {2466} INFO -  at 86.1s,\testimator rf's best error=0.3521,\tbest estimator rf's best error=0.3521\n",
      "[flaml.automl.logger: 10-25 17:16:55] {2282} INFO - iteration 152, current learner xgboost\n",
      "[flaml.automl.logger: 10-25 17:17:03] {2466} INFO -  at 94.3s,\testimator xgboost's best error=0.3560,\tbest estimator rf's best error=0.3521\n",
      "[flaml.automl.logger: 10-25 17:17:03] {2282} INFO - iteration 153, current learner xgb_limitdepth\n",
      "[flaml.automl.logger: 10-25 17:17:03] {2466} INFO -  at 94.5s,\testimator xgb_limitdepth's best error=0.3563,\tbest estimator rf's best error=0.3521\n",
      "[flaml.automl.logger: 10-25 17:17:03] {2282} INFO - iteration 154, current learner extra_tree\n",
      "[flaml.automl.logger: 10-25 17:17:03] {2466} INFO -  at 94.7s,\testimator extra_tree's best error=0.5492,\tbest estimator rf's best error=0.3521\n",
      "[flaml.automl.logger: 10-25 17:17:03] {2282} INFO - iteration 155, current learner rf\n",
      "[flaml.automl.logger: 10-25 17:17:07] {2466} INFO -  at 98.3s,\testimator rf's best error=0.3521,\tbest estimator rf's best error=0.3521\n",
      "[flaml.automl.logger: 10-25 17:17:07] {2282} INFO - iteration 156, current learner rf\n",
      "[flaml.automl.logger: 10-25 17:17:10] {2466} INFO -  at 101.0s,\testimator rf's best error=0.3521,\tbest estimator rf's best error=0.3521\n",
      "[flaml.automl.logger: 10-25 17:17:10] {2282} INFO - iteration 157, current learner xgb_limitdepth\n",
      "[flaml.automl.logger: 10-25 17:17:10] {2466} INFO -  at 101.4s,\testimator xgb_limitdepth's best error=0.3563,\tbest estimator rf's best error=0.3521\n",
      "[flaml.automl.logger: 10-25 17:17:10] {2282} INFO - iteration 158, current learner xgb_limitdepth\n",
      "[flaml.automl.logger: 10-25 17:17:10] {2466} INFO -  at 101.6s,\testimator xgb_limitdepth's best error=0.3563,\tbest estimator rf's best error=0.3521\n",
      "[flaml.automl.logger: 10-25 17:17:10] {2282} INFO - iteration 159, current learner xgboost\n",
      "[flaml.automl.logger: 10-25 17:17:11] {2466} INFO -  at 102.3s,\testimator xgboost's best error=0.3560,\tbest estimator rf's best error=0.3521\n",
      "[flaml.automl.logger: 10-25 17:17:11] {2282} INFO - iteration 160, current learner extra_tree\n",
      "[flaml.automl.logger: 10-25 17:17:11] {2466} INFO -  at 102.4s,\testimator extra_tree's best error=0.5492,\tbest estimator rf's best error=0.3521\n",
      "[flaml.automl.logger: 10-25 17:17:11] {2282} INFO - iteration 161, current learner xgb_limitdepth\n",
      "[flaml.automl.logger: 10-25 17:17:11] {2466} INFO -  at 102.7s,\testimator xgb_limitdepth's best error=0.3563,\tbest estimator rf's best error=0.3521\n",
      "[flaml.automl.logger: 10-25 17:17:11] {2282} INFO - iteration 162, current learner xgboost\n",
      "[flaml.automl.logger: 10-25 17:17:14] {2466} INFO -  at 105.0s,\testimator xgboost's best error=0.3560,\tbest estimator rf's best error=0.3521\n",
      "[flaml.automl.logger: 10-25 17:17:14] {2282} INFO - iteration 163, current learner xgb_limitdepth\n",
      "[flaml.automl.logger: 10-25 17:17:14] {2466} INFO -  at 105.1s,\testimator xgb_limitdepth's best error=0.3563,\tbest estimator rf's best error=0.3521\n",
      "[flaml.automl.logger: 10-25 17:17:14] {2282} INFO - iteration 164, current learner lrl1\n",
      "[flaml.automl.logger: 10-25 17:17:14] {2466} INFO -  at 105.6s,\testimator lrl1's best error=0.7221,\tbest estimator rf's best error=0.3521\n",
      "[flaml.automl.logger: 10-25 17:17:14] {2282} INFO - iteration 165, current learner lrl1\n",
      "[flaml.automl.logger: 10-25 17:17:15] {2466} INFO -  at 106.1s,\testimator lrl1's best error=0.7221,\tbest estimator rf's best error=0.3521\n",
      "[flaml.automl.logger: 10-25 17:17:15] {2282} INFO - iteration 166, current learner xgb_limitdepth\n",
      "[flaml.automl.logger: 10-25 17:17:15] {2466} INFO -  at 106.2s,\testimator xgb_limitdepth's best error=0.3563,\tbest estimator rf's best error=0.3521\n",
      "[flaml.automl.logger: 10-25 17:17:15] {2282} INFO - iteration 167, current learner extra_tree\n",
      "[flaml.automl.logger: 10-25 17:17:15] {2466} INFO -  at 106.6s,\testimator extra_tree's best error=0.5492,\tbest estimator rf's best error=0.3521\n",
      "[flaml.automl.logger: 10-25 17:17:15] {2282} INFO - iteration 168, current learner extra_tree\n",
      "[flaml.automl.logger: 10-25 17:17:16] {2466} INFO -  at 107.0s,\testimator extra_tree's best error=0.5492,\tbest estimator rf's best error=0.3521\n",
      "[flaml.automl.logger: 10-25 17:17:16] {2282} INFO - iteration 169, current learner xgb_limitdepth\n",
      "[flaml.automl.logger: 10-25 17:17:16] {2466} INFO -  at 107.5s,\testimator xgb_limitdepth's best error=0.3563,\tbest estimator rf's best error=0.3521\n",
      "[flaml.automl.logger: 10-25 17:17:16] {2282} INFO - iteration 170, current learner xgb_limitdepth\n",
      "[flaml.automl.logger: 10-25 17:17:17] {2466} INFO -  at 107.8s,\testimator xgb_limitdepth's best error=0.3563,\tbest estimator rf's best error=0.3521\n",
      "[flaml.automl.logger: 10-25 17:17:17] {2282} INFO - iteration 171, current learner xgboost\n",
      "[flaml.automl.logger: 10-25 17:17:17] {2466} INFO -  at 108.4s,\testimator xgboost's best error=0.3560,\tbest estimator rf's best error=0.3521\n",
      "[flaml.automl.logger: 10-25 17:17:17] {2282} INFO - iteration 172, current learner rf\n",
      "[flaml.automl.logger: 10-25 17:17:23] {2466} INFO -  at 114.1s,\testimator rf's best error=0.3521,\tbest estimator rf's best error=0.3521\n",
      "[flaml.automl.logger: 10-25 17:17:23] {2282} INFO - iteration 173, current learner rf\n",
      "[flaml.automl.logger: 10-25 17:17:25] {2466} INFO -  at 116.1s,\testimator rf's best error=0.3521,\tbest estimator rf's best error=0.3521\n",
      "[flaml.automl.logger: 10-25 17:17:25] {2282} INFO - iteration 174, current learner extra_tree\n",
      "[flaml.automl.logger: 10-25 17:17:25] {2466} INFO -  at 116.5s,\testimator extra_tree's best error=0.5492,\tbest estimator rf's best error=0.3521\n",
      "[flaml.automl.logger: 10-25 17:17:25] {2282} INFO - iteration 175, current learner xgb_limitdepth\n",
      "[flaml.automl.logger: 10-25 17:17:26] {2466} INFO -  at 116.9s,\testimator xgb_limitdepth's best error=0.3563,\tbest estimator rf's best error=0.3521\n",
      "[flaml.automl.logger: 10-25 17:17:26] {2282} INFO - iteration 176, current learner xgb_limitdepth\n",
      "[flaml.automl.logger: 10-25 17:17:26] {2466} INFO -  at 117.3s,\testimator xgb_limitdepth's best error=0.3563,\tbest estimator rf's best error=0.3521\n",
      "[flaml.automl.logger: 10-25 17:17:26] {2282} INFO - iteration 177, current learner extra_tree\n",
      "[flaml.automl.logger: 10-25 17:17:26] {2466} INFO -  at 117.7s,\testimator extra_tree's best error=0.5492,\tbest estimator rf's best error=0.3521\n",
      "[flaml.automl.logger: 10-25 17:17:26] {2282} INFO - iteration 178, current learner xgb_limitdepth\n",
      "[flaml.automl.logger: 10-25 17:17:27] {2466} INFO -  at 118.0s,\testimator xgb_limitdepth's best error=0.3563,\tbest estimator rf's best error=0.3521\n",
      "[flaml.automl.logger: 10-25 17:17:27] {2282} INFO - iteration 179, current learner xgb_limitdepth\n",
      "[flaml.automl.logger: 10-25 17:17:27] {2466} INFO -  at 118.1s,\testimator xgb_limitdepth's best error=0.3563,\tbest estimator rf's best error=0.3521\n",
      "[flaml.automl.logger: 10-25 17:17:27] {2282} INFO - iteration 180, current learner extra_tree\n",
      "[flaml.automl.logger: 10-25 17:17:27] {2466} INFO -  at 118.5s,\testimator extra_tree's best error=0.5492,\tbest estimator rf's best error=0.3521\n",
      "[flaml.automl.logger: 10-25 17:17:27] {2282} INFO - iteration 181, current learner xgb_limitdepth\n",
      "[flaml.automl.logger: 10-25 17:17:28] {2466} INFO -  at 118.8s,\testimator xgb_limitdepth's best error=0.3563,\tbest estimator rf's best error=0.3521\n",
      "[flaml.automl.logger: 10-25 17:17:28] {2282} INFO - iteration 182, current learner xgb_limitdepth\n",
      "[flaml.automl.logger: 10-25 17:17:28] {2466} INFO -  at 119.1s,\testimator xgb_limitdepth's best error=0.3563,\tbest estimator rf's best error=0.3521\n",
      "[flaml.automl.logger: 10-25 17:17:28] {2282} INFO - iteration 183, current learner xgb_limitdepth\n",
      "[flaml.automl.logger: 10-25 17:17:28] {2466} INFO -  at 119.4s,\testimator xgb_limitdepth's best error=0.3563,\tbest estimator rf's best error=0.3521\n",
      "[flaml.automl.logger: 10-25 17:17:28] {2282} INFO - iteration 184, current learner extra_tree\n",
      "[flaml.automl.logger: 10-25 17:17:28] {2466} INFO -  at 119.6s,\testimator extra_tree's best error=0.5492,\tbest estimator rf's best error=0.3521\n",
      "[flaml.automl.logger: 10-25 17:17:28] {2282} INFO - iteration 185, current learner extra_tree\n",
      "[flaml.automl.logger: 10-25 17:17:29] {2466} INFO -  at 120.0s,\testimator extra_tree's best error=0.5492,\tbest estimator rf's best error=0.3521\n",
      "[flaml.automl.logger: 10-25 17:17:29] {2589} INFO - selected model: RandomForestClassifier(criterion=np.str_('gini'),\n",
      "                       max_features=np.float64(0.21539621927483768),\n",
      "                       max_leaf_nodes=51, n_estimators=23, n_jobs=-1,\n",
      "                       random_state=12032022)\n",
      "[flaml.automl.logger: 10-25 17:17:29] {2009} INFO - fit succeeded\n",
      "[flaml.automl.logger: 10-25 17:17:29] {2010} INFO - Time taken to find the best model: 56.05705237388611\n",
      "Busca concluída.\n"
     ]
    }
   ],
   "execution_count": 105
  },
  {
   "metadata": {},
   "cell_type": "markdown",
   "source": "#### 3. Avaliação do Melhor Modelo Encontrado pelo AutoML",
   "id": "b74134b77c98fde3"
  },
  {
   "metadata": {
    "ExecuteTime": {
     "end_time": "2025-10-25T20:17:29.536120Z",
     "start_time": "2025-10-25T20:17:29.394467Z"
    }
   },
   "cell_type": "code",
   "source": [
    "print(\"--- Resultados do AutoML ---\")\n",
    "print(f\"Melhor modelo encontrado: {automl.model.estimator}\")\n",
    "print(f\"Melhor F1-score na validação: {1 - automl.best_loss:.4f}\")\n",
    "\n",
    "# Fazendo previsões no conjunto de teste\n",
    "y_pred_automl = automl.predict(X_test)\n",
    "\n",
    "print(\"\\n--- Relatório de Classificação do Melhor Modelo no Conjunto de Teste ---\")\n",
    "print(classification_report(y_test, y_pred_automl))\n",
    "\n",
    "print(\"\\n--- Matriz de Confusão do Melhor Modelo ---\")\n",
    "cm_automl = confusion_matrix(y_test, y_pred_automl)\n",
    "sns.heatmap(cm_automl, annot=True, fmt='d', cmap='Greens', xticklabels=['Normal', 'Falha'], yticklabels=['Normal', 'Falha'])\n",
    "plt.title('Matriz de Confusão - Melhor Modelo (AutoML)')\n",
    "plt.ylabel('Verdadeiro')\n",
    "plt.xlabel('Previsto')\n",
    "plt.show()\n"
   ],
   "id": "4625a95c1507fd28",
   "outputs": [
    {
     "name": "stdout",
     "output_type": "stream",
     "text": [
      "--- Resultados do AutoML ---\n",
      "Melhor modelo encontrado: RandomForestClassifier(criterion=np.str_('gini'),\n",
      "                       max_features=np.float64(0.21539621927483768),\n",
      "                       max_leaf_nodes=51, n_estimators=23, n_jobs=-1,\n",
      "                       random_state=12032022)\n",
      "Melhor F1-score na validação: 0.6479\n",
      "\n",
      "--- Relatório de Classificação do Melhor Modelo no Conjunto de Teste ---\n",
      "              precision    recall  f1-score   support\n",
      "\n",
      "           0       0.98      0.93      0.96     21853\n",
      "           1       0.54      0.82      0.65      2011\n",
      "\n",
      "    accuracy                           0.92     23864\n",
      "   macro avg       0.76      0.88      0.80     23864\n",
      "weighted avg       0.94      0.92      0.93     23864\n",
      "\n",
      "\n",
      "--- Matriz de Confusão do Melhor Modelo ---\n"
     ]
    },
    {
     "data": {
      "text/plain": [
       "<Figure size 640x480 with 2 Axes>"
      ],
      "image/png": "[encoded data removed]"
     },
     "metadata": {},
     "output_type": "display_data",
     "jetTransient": {
      "display_id": null
     }
    }
   ],
   "execution_count": 106
  },
  {
   "metadata": {},
   "cell_type": "markdown",
   "source": "### Etapa 7: Abordagem com Deep Learning (LSTM)",
   "id": "da0e8aea5dadf1c0"
  },
  {
   "metadata": {
    "ExecuteTime": {
     "end_time": "2025-10-25T20:17:29.671150Z",
     "start_time": "2025-10-25T20:17:29.540486Z"
    }
   },
   "cell_type": "code",
   "source": [
    "# É crucial normalizar os dados para modelos de Deep Learning.\n",
    "# O scaler é treinado APENAS com os dados de treino para evitar data leakage.\n",
    "scaler = StandardScaler()\n",
    "\n",
    "# Usamos os dados de treino balanceados para treinar o scaler\n",
    "X_train_scaled = scaler.fit_transform(X_train_balanced)\n",
    "\n",
    "# Aplicamos a mesma transformação nos dados de teste\n",
    "X_test_scaled = scaler.transform(X_test)\n",
    "\n",
    "print(\"Dados normalizados com sucesso.\")\n"
   ],
   "id": "62da0ccc09e4bd09",
   "outputs": [
    {
     "name": "stdout",
     "output_type": "stream",
     "text": [
      "Dados normalizados com sucesso.\n"
     ]
    }
   ],
   "execution_count": 107
  },
  {
   "metadata": {},
   "cell_type": "markdown",
   "source": "#### 2. Remodelagem dos Dados para o Formato da LSTM",
   "id": "a18d244a42dfa8ba"
  },
  {
   "metadata": {
    "ExecuteTime": {
     "end_time": "2025-10-25T20:17:29.682624Z",
     "start_time": "2025-10-25T20:17:29.676564Z"
    }
   },
   "cell_type": "code",
   "source": [
    "# A LSTM espera uma entrada 3D: (amostras, timesteps, features)\n",
    "# Como nossas features já representam um estado no tempo, usaremos 1 timestep.\n",
    "X_train_reshaped = X_train_scaled.reshape((X_train_scaled.shape[0], 1, X_train_scaled.shape[1]))\n",
    "X_test_reshaped = X_test_scaled.reshape((X_test_scaled.shape[0], 1, X_test_scaled.shape[1]))\n",
    "\n",
    "print(f\"Novo shape do treino: {X_train_reshaped.shape}\")\n",
    "print(f\"Novo shape do teste: {X_test_reshaped.shape}\")\n"
   ],
   "id": "7d61fb30cc2ee77f",
   "outputs": [
    {
     "name": "stdout",
     "output_type": "stream",
     "text": [
      "Novo shape do treino: (179714, 1, 54)\n",
      "Novo shape do teste: (23864, 1, 54)\n"
     ]
    }
   ],
   "execution_count": 108
  },
  {
   "metadata": {},
   "cell_type": "markdown",
   "source": "#### 3. Construção e Treinamento do Modelo LSTM",
   "id": "762e7ebd921bf75c"
  },
  {
   "metadata": {
    "ExecuteTime": {
     "end_time": "2025-10-25T20:18:01.504966Z",
     "start_time": "2025-10-25T20:17:29.688268Z"
    }
   },
   "cell_type": "code",
   "source": [
    "model_lstm = Sequential()\n",
    "model_lstm.add(LSTM(50, input_shape=(X_train_reshaped.shape[1], X_train_reshaped.shape[2])))\n",
    "model_lstm.add(Dropout(0.2))\n",
    "model_lstm.add(Dense(1, activation='sigmoid')) # Saída binária (Falha ou Normal)\n",
    "\n",
    "model_lstm.compile(optimizer='adam', loss='binary_crossentropy', metrics=['accuracy'])\n",
    "\n",
    "model_lstm.summary()\n",
    "\n",
    "# Treinando o modelo com os dados balanceados e normalizados\n",
    "history = model_lstm.fit(X_train_reshaped, y_train_balanced, epochs=10, batch_size=64, validation_data=(X_test_reshaped, y_test), verbose=1)\n"
   ],
   "id": "c7afce87340e680",
   "outputs": [
    {
     "name": "stderr",
     "output_type": "stream",
     "text": [
      "D:\\Projetos\\UFABC\\UFABC_Tambra\\.venv\\Lib\\site-packages\\keras\\src\\layers\\rnn\\rnn.py:199: UserWarning: Do not pass an `input_shape`/`input_dim` argument to a layer. When using Sequential models, prefer using an `Input(shape)` object as the first layer in the model instead.\n",
      "  super().__init__(**kwargs)\n"
     ]
    },
    {
     "data": {
      "text/plain": [
       "\u001B[1mModel: \"sequential_1\"\u001B[0m\n"
      ],
      "text/html": [
       "<pre style=\"white-space:pre;overflow-x:auto;line-height:normal;font-family:Menlo,'DejaVu Sans Mono',consolas,'Courier New',monospace\"><span style=\"font-weight: bold\">Model: \"sequential_1\"</span>\n",
       "</pre>\n"
      ]
     },
     "metadata": {},
     "output_type": "display_data",
     "jetTransient": {
      "display_id": null
     }
    },
    {
     "data": {
      "text/plain": [
       "┏━━━━━━━━━━━━━━━━━━━━━━━━━━━━━━━━━┳━━━━━━━━━━━━━━━━━━━━━━━━┳━━━━━━━━━━━━━━━┓\n",
       "┃\u001B[1m \u001B[0m\u001B[1mLayer (type)                   \u001B[0m\u001B[1m \u001B[0m┃\u001B[1m \u001B[0m\u001B[1mOutput Shape          \u001B[0m\u001B[1m \u001B[0m┃\u001B[1m \u001B[0m\u001B[1m      Param #\u001B[0m\u001B[1m \u001B[0m┃\n",
       "┡━━━━━━━━━━━━━━━━━━━━━━━━━━━━━━━━━╇━━━━━━━━━━━━━━━━━━━━━━━━╇━━━━━━━━━━━━━━━┩\n",
       "│ lstm_1 (\u001B[38;5;33mLSTM\u001B[0m)                   │ (\u001B[38;5;45mNone\u001B[0m, \u001B[38;5;34m50\u001B[0m)             │        \u001B[38;5;34m21,000\u001B[0m │\n",
       "├─────────────────────────────────┼────────────────────────┼───────────────┤\n",
       "│ dropout_1 (\u001B[38;5;33mDropout\u001B[0m)             │ (\u001B[38;5;45mNone\u001B[0m, \u001B[38;5;34m50\u001B[0m)             │             \u001B[38;5;34m0\u001B[0m │\n",
       "├─────────────────────────────────┼────────────────────────┼───────────────┤\n",
       "│ dense_1 (\u001B[38;5;33mDense\u001B[0m)                 │ (\u001B[38;5;45mNone\u001B[0m, \u001B[38;5;34m1\u001B[0m)              │            \u001B[38;5;34m51\u001B[0m │\n",
       "└─────────────────────────────────┴────────────────────────┴───────────────┘\n"
      ],
      "text/html": [
       "<pre style=\"white-space:pre;overflow-x:auto;line-height:normal;font-family:Menlo,'DejaVu Sans Mono',consolas,'Courier New',monospace\">┏━━━━━━━━━━━━━━━━━━━━━━━━━━━━━━━━━┳━━━━━━━━━━━━━━━━━━━━━━━━┳━━━━━━━━━━━━━━━┓\n",
       "┃<span style=\"font-weight: bold\"> Layer (type)                    </span>┃<span style=\"font-weight: bold\"> Output Shape           </span>┃<span style=\"font-weight: bold\">       Param # </span>┃\n",
       "┡━━━━━━━━━━━━━━━━━━━━━━━━━━━━━━━━━╇━━━━━━━━━━━━━━━━━━━━━━━━╇━━━━━━━━━━━━━━━┩\n",
       "│ lstm_1 (<span style=\"color: #0087ff; text-decoration-color: #0087ff\">LSTM</span>)                   │ (<span style=\"color: #00d7ff; text-decoration-color: #00d7ff\">None</span>, <span style=\"color: #00af00; text-decoration-color: #00af00\">50</span>)             │        <span style=\"color: #00af00; text-decoration-color: #00af00\">21,000</span> │\n",
       "├─────────────────────────────────┼────────────────────────┼───────────────┤\n",
       "│ dropout_1 (<span style=\"color: #0087ff; text-decoration-color: #0087ff\">Dropout</span>)             │ (<span style=\"color: #00d7ff; text-decoration-color: #00d7ff\">None</span>, <span style=\"color: #00af00; text-decoration-color: #00af00\">50</span>)             │             <span style=\"color: #00af00; text-decoration-color: #00af00\">0</span> │\n",
       "├─────────────────────────────────┼────────────────────────┼───────────────┤\n",
       "│ dense_1 (<span style=\"color: #0087ff; text-decoration-color: #0087ff\">Dense</span>)                 │ (<span style=\"color: #00d7ff; text-decoration-color: #00d7ff\">None</span>, <span style=\"color: #00af00; text-decoration-color: #00af00\">1</span>)              │            <span style=\"color: #00af00; text-decoration-color: #00af00\">51</span> │\n",
       "└─────────────────────────────────┴────────────────────────┴───────────────┘\n",
       "</pre>\n"
      ]
     },
     "metadata": {},
     "output_type": "display_data",
     "jetTransient": {
      "display_id": null
     }
    },
    {
     "data": {
      "text/plain": [
       "\u001B[1m Total params: \u001B[0m\u001B[38;5;34m21,051\u001B[0m (82.23 KB)\n"
      ],
      "text/html": [
       "<pre style=\"white-space:pre;overflow-x:auto;line-height:normal;font-family:Menlo,'DejaVu Sans Mono',consolas,'Courier New',monospace\"><span style=\"font-weight: bold\"> Total params: </span><span style=\"color: #00af00; text-decoration-color: #00af00\">21,051</span> (82.23 KB)\n",
       "</pre>\n"
      ]
     },
     "metadata": {},
     "output_type": "display_data",
     "jetTransient": {
      "display_id": null
     }
    },
    {
     "data": {
      "text/plain": [
       "\u001B[1m Trainable params: \u001B[0m\u001B[38;5;34m21,051\u001B[0m (82.23 KB)\n"
      ],
      "text/html": [
       "<pre style=\"white-space:pre;overflow-x:auto;line-height:normal;font-family:Menlo,'DejaVu Sans Mono',consolas,'Courier New',monospace\"><span style=\"font-weight: bold\"> Trainable params: </span><span style=\"color: #00af00; text-decoration-color: #00af00\">21,051</span> (82.23 KB)\n",
       "</pre>\n"
      ]
     },
     "metadata": {},
     "output_type": "display_data",
     "jetTransient": {
      "display_id": null
     }
    },
    {
     "data": {
      "text/plain": [
       "\u001B[1m Non-trainable params: \u001B[0m\u001B[38;5;34m0\u001B[0m (0.00 B)\n"
      ],
      "text/html": [
       "<pre style=\"white-space:pre;overflow-x:auto;line-height:normal;font-family:Menlo,'DejaVu Sans Mono',consolas,'Courier New',monospace\"><span style=\"font-weight: bold\"> Non-trainable params: </span><span style=\"color: #00af00; text-decoration-color: #00af00\">0</span> (0.00 B)\n",
       "</pre>\n"
      ]
     },
     "metadata": {},
     "output_type": "display_data",
     "jetTransient": {
      "display_id": null
     }
    },
    {
     "name": "stdout",
     "output_type": "stream",
     "text": [
      "Epoch 1/10\n",
      "\u001B[1m2809/2809\u001B[0m \u001B[32m━━━━━━━━━━━━━━━━━━━━\u001B[0m\u001B[37m\u001B[0m \u001B[1m4s\u001B[0m 1ms/step - accuracy: 0.8768 - loss: 0.2804 - val_accuracy: 0.7386 - val_loss: 0.6616\n",
      "Epoch 2/10\n",
      "\u001B[1m2809/2809\u001B[0m \u001B[32m━━━━━━━━━━━━━━━━━━━━\u001B[0m\u001B[37m\u001B[0m \u001B[1m3s\u001B[0m 1ms/step - accuracy: 0.9176 - loss: 0.1987 - val_accuracy: 0.7702 - val_loss: 0.5886\n",
      "Epoch 3/10\n",
      "\u001B[1m2809/2809\u001B[0m \u001B[32m━━━━━━━━━━━━━━━━━━━━\u001B[0m\u001B[37m\u001B[0m \u001B[1m3s\u001B[0m 1ms/step - accuracy: 0.9289 - loss: 0.1774 - val_accuracy: 0.7922 - val_loss: 0.5421\n",
      "Epoch 4/10\n",
      "\u001B[1m2809/2809\u001B[0m \u001B[32m━━━━━━━━━━━━━━━━━━━━\u001B[0m\u001B[37m\u001B[0m \u001B[1m3s\u001B[0m 1ms/step - accuracy: 0.9336 - loss: 0.1679 - val_accuracy: 0.7974 - val_loss: 0.5359\n",
      "Epoch 5/10\n",
      "\u001B[1m2809/2809\u001B[0m \u001B[32m━━━━━━━━━━━━━━━━━━━━\u001B[0m\u001B[37m\u001B[0m \u001B[1m3s\u001B[0m 1ms/step - accuracy: 0.9362 - loss: 0.1609 - val_accuracy: 0.8002 - val_loss: 0.5369\n",
      "Epoch 6/10\n",
      "\u001B[1m2809/2809\u001B[0m \u001B[32m━━━━━━━━━━━━━━━━━━━━\u001B[0m\u001B[37m\u001B[0m \u001B[1m3s\u001B[0m 1ms/step - accuracy: 0.9393 - loss: 0.1557 - val_accuracy: 0.8020 - val_loss: 0.5414\n",
      "Epoch 7/10\n",
      "\u001B[1m2809/2809\u001B[0m \u001B[32m━━━━━━━━━━━━━━━━━━━━\u001B[0m\u001B[37m\u001B[0m \u001B[1m3s\u001B[0m 1ms/step - accuracy: 0.9406 - loss: 0.1515 - val_accuracy: 0.8101 - val_loss: 0.5234\n",
      "Epoch 8/10\n",
      "\u001B[1m2809/2809\u001B[0m \u001B[32m━━━━━━━━━━━━━━━━━━━━\u001B[0m\u001B[37m\u001B[0m \u001B[1m3s\u001B[0m 1ms/step - accuracy: 0.9422 - loss: 0.1475 - val_accuracy: 0.8326 - val_loss: 0.4369\n",
      "Epoch 9/10\n",
      "\u001B[1m2809/2809\u001B[0m \u001B[32m━━━━━━━━━━━━━━━━━━━━\u001B[0m\u001B[37m\u001B[0m \u001B[1m3s\u001B[0m 1ms/step - accuracy: 0.9437 - loss: 0.1448 - val_accuracy: 0.8122 - val_loss: 0.5152\n",
      "Epoch 10/10\n",
      "\u001B[1m2809/2809\u001B[0m \u001B[32m━━━━━━━━━━━━━━━━━━━━\u001B[0m\u001B[37m\u001B[0m \u001B[1m3s\u001B[0m 1ms/step - accuracy: 0.9453 - loss: 0.1418 - val_accuracy: 0.8111 - val_loss: 0.5362\n"
     ]
    }
   ],
   "execution_count": 109
  },
  {
   "metadata": {},
   "cell_type": "markdown",
   "source": "#### 4. Avaliação do Modelo LSTM",
   "id": "fcc4c4d495764af5"
  },
  {
   "metadata": {
    "ExecuteTime": {
     "end_time": "2025-10-25T20:18:02.258037Z",
     "start_time": "2025-10-25T20:18:01.595769Z"
    }
   },
   "cell_type": "code",
   "source": [
    "# Fazendo previsões (o resultado será uma probabilidade)\n",
    "y_pred_proba_lstm = model_lstm.predict(X_test_reshaped)\n",
    "y_pred_lstm = (y_pred_proba_lstm > 0.5).astype(int) # Convertendo probabilidade para classe (0 ou 1)\n",
    "\n",
    "print(\"\\n--- Relatório de Classificação do Modelo LSTM no Conjunto de Teste ---\")\n",
    "print(classification_report(y_test, y_pred_lstm))\n",
    "\n",
    "print(\"\\n--- Matriz de Confusão do Modelo LSTM ---\")\n",
    "cm_lstm = confusion_matrix(y_test, y_pred_lstm)\n",
    "sns.heatmap(cm_lstm, annot=True, fmt='d', cmap='Oranges', xticklabels=['Normal', 'Falha'], yticklabels=['Normal', 'Falha'])\n",
    "plt.title('Matriz de Confusão - Modelo LSTM')\n",
    "plt.ylabel('Verdadeiro')\n",
    "plt.xlabel('Previsto')\n",
    "plt.show()\n"
   ],
   "id": "4d0a2d0d1f1d8e2e",
   "outputs": [
    {
     "name": "stdout",
     "output_type": "stream",
     "text": [
      "\u001B[1m746/746\u001B[0m \u001B[32m━━━━━━━━━━━━━━━━━━━━\u001B[0m\u001B[37m\u001B[0m \u001B[1m0s\u001B[0m 531us/step\n",
      "\n",
      "--- Relatório de Classificação do Modelo LSTM no Conjunto de Teste ---\n",
      "              precision    recall  f1-score   support\n",
      "\n",
      "           0       0.98      0.81      0.89     21853\n",
      "           1       0.29      0.83      0.43      2011\n",
      "\n",
      "    accuracy                           0.81     23864\n",
      "   macro avg       0.63      0.82      0.66     23864\n",
      "weighted avg       0.92      0.81      0.85     23864\n",
      "\n",
      "\n",
      "--- Matriz de Confusão do Modelo LSTM ---\n"
     ]
    },
    {
     "data": {
      "text/plain": [
       "<Figure size 640x480 with 2 Axes>"
      ],
      "image/png": "[encoded data removed]"
     },
     "metadata": {},
     "output_type": "display_data",
     "jetTransient": {
      "display_id": null
     }
    }
   ],
   "execution_count": 110
  },
  {
   "metadata": {},
   "cell_type": "markdown",
   "source": "### Etapa 8: Validação Robusta e Análise de Curvas",
   "id": "7950f87c73087f0"
  },
  {
   "metadata": {},
   "cell_type": "markdown",
   "source": "Para garantir que o desempenho do nosso melhor modelo não foi resultado de uma divisão de dados favorável, vamos reavaliá-lo usando uma metodologia mais robusta: a **Validação Cruzada Estratificada**. Além disso, plotaremos as curvas ROC e Precision-Recall para uma análise mais profunda.",
   "id": "98d994ed9cd2ee4b"
  },
  {
   "metadata": {},
   "cell_type": "markdown",
   "source": "#### 1. Re-treinamento com Validação Cruzada Estratificada",
   "id": "7a5139766b0c8aa0"
  },
  {
   "metadata": {
    "ExecuteTime": {
     "end_time": "2025-10-25T20:18:02.266002Z",
     "start_time": "2025-10-25T20:18:02.262611Z"
    }
   },
   "cell_type": "code",
   "source": [
    "# Usaremos os parâmetros do melhor modelo encontrado pelo AutoML (ou um modelo similar robusto)\n",
    "# Nota: O AutoML encontrou um RF com n_estimators=8. Para robustez, usaremos um valor mais padrão como 100.\n",
    "best_model = RandomForestClassifier(n_estimators=100, random_state=42, class_weight='balanced', n_jobs=-1)"
   ],
   "id": "162ec17ec641b42d",
   "outputs": [],
   "execution_count": 111
  },
  {
   "metadata": {
    "ExecuteTime": {
     "end_time": "2025-10-25T20:18:40.688083Z",
     "start_time": "2025-10-25T20:18:02.273460Z"
    }
   },
   "cell_type": "code",
   "source": [
    "# Usaremos o dataset completo (antes do split temporal) para a validação cruzada\n",
    "# Isso nos dará uma medida de quão bem o modelo generaliza em diferentes subconjuntos de dados.\n",
    "X_full = df_feat.drop(columns=features_to_drop)\n",
    "y_full = df_feat['Failure']\n",
    "\n",
    "# Configurando a validação cruzada com 5 folds\n",
    "cv = StratifiedKFold(n_splits=5, shuffle=True, random_state=42)\n",
    "\n",
    "f1_scores = []\n",
    "recall_scores = []\n",
    "\n",
    "print(\"Iniciando a Validação Cruzada Estratificada...\")\n",
    "for fold, (train_idx, val_idx) in enumerate(cv.split(X_full, y_full)):\n",
    "    X_train_cv, X_val_cv = X_full.iloc[train_idx], X_full.iloc[val_idx]\n",
    "    y_train_cv, y_val_cv = y_full.iloc[train_idx], y_full.iloc[val_idx]\n",
    "\n",
    "    # Balanceamento SMOTE dentro de cada fold de treino\n",
    "    smote_cv = SMOTE(random_state=42)\n",
    "    X_train_cv_balanced, y_train_cv_balanced = smote_cv.fit_resample(X_train_cv, y_train_cv)\n",
    "\n",
    "    best_model.fit(X_train_cv_balanced, y_train_cv_balanced)\n",
    "    y_pred_cv = best_model.predict(X_val_cv)\n",
    "\n",
    "    report = classification_report(y_val_cv, y_pred_cv, output_dict=True)\n",
    "    f1_scores.append(report['1']['f1-score'])\n",
    "    recall_scores.append(report['1']['recall'])\n",
    "    print(f\"Fold {fold+1}: F1-Score (Falha) = {f1_scores[-1]:.4f}, Recall (Falha) = {recall_scores[-1]:.4f}\")"
   ],
   "id": "a03ce977c0e960ef",
   "outputs": [
    {
     "name": "stdout",
     "output_type": "stream",
     "text": [
      "Iniciando a Validação Cruzada Estratificada...\n",
      "Fold 1: F1-Score (Falha) = 0.7885, Recall (Falha) = 0.8180\n",
      "Fold 2: F1-Score (Falha) = 0.7765, Recall (Falha) = 0.8298\n",
      "Fold 3: F1-Score (Falha) = 0.7921, Recall (Falha) = 0.8067\n",
      "Fold 4: F1-Score (Falha) = 0.7937, Recall (Falha) = 0.8337\n",
      "Fold 5: F1-Score (Falha) = 0.7806, Recall (Falha) = 0.8107\n"
     ]
    }
   ],
   "execution_count": 112
  },
  {
   "metadata": {
    "ExecuteTime": {
     "end_time": "2025-10-25T20:18:40.786753Z",
     "start_time": "2025-10-25T20:18:40.783555Z"
    }
   },
   "cell_type": "code",
   "source": [
    "print(f\"\\n--- Média dos Resultados da Validação Cruzada ---\")\n",
    "print(f\"F1-Score Médio (Falha): {np.mean(f1_scores):.4f} ± {np.std(f1_scores):.4f}\")\n",
    "print(f\"Recall Médio (Falha): {np.mean(recall_scores):.4f} ± {np.std(recall_scores):.4f}\")\n"
   ],
   "id": "f6eb3fdd2135de90",
   "outputs": [
    {
     "name": "stdout",
     "output_type": "stream",
     "text": [
      "\n",
      "--- Média dos Resultados da Validação Cruzada ---\n",
      "F1-Score Médio (Falha): 0.7863 ± 0.0067\n",
      "Recall Médio (Falha): 0.8198 ± 0.0105\n"
     ]
    }
   ],
   "execution_count": 113
  },
  {
   "metadata": {},
   "cell_type": "markdown",
   "source": "#### 2. Análise de Curvas (ROC e Precision-Recall)",
   "id": "903eebbf677cc2a4"
  },
  {
   "metadata": {
    "ExecuteTime": {
     "end_time": "2025-10-25T20:18:40.990496Z",
     "start_time": "2025-10-25T20:18:40.791244Z"
    }
   },
   "cell_type": "code",
   "source": [
    "# Para plotar as curvas, usamos as previsões de probabilidade do modelo no conjunto de teste original\n",
    "y_proba = rf_model.predict_proba(X_test)[:, 1] # Probabilidade da classe 'Falha'\n",
    "\n",
    "# Curva ROC\n",
    "fpr, tpr, _ = roc_curve(y_test, y_proba)\n",
    "roc_auc = auc(fpr, tpr)\n",
    "\n",
    "# Curva Precision-Recall\n",
    "precision, recall, _ = precision_recall_curve(y_test, y_proba)\n",
    "pr_auc = average_precision_score(y_test, y_proba)\n",
    "\n",
    "fig, (ax1, ax2) = plt.subplots(1, 2, figsize=(16, 6))\n",
    "\n",
    "# Plot da Curva ROC\n",
    "ax1.plot(fpr, tpr, color='darkorange', lw=2, label=f'Curva ROC (AUC = {roc_auc:.2f})')\n",
    "ax1.plot([0, 1], [0, 1], color='navy', lw=2, linestyle='--')\n",
    "ax1.set_xlim([0.0, 1.0])\n",
    "ax1.set_ylim([0.0, 1.05])\n",
    "ax1.set_xlabel('Taxa de Falsos Positivos')\n",
    "ax1.set_ylabel('Taxa de Verdadeiros Positivos')\n",
    "ax1.set_title('Curva ROC')\n",
    "ax1.legend(loc=\"lower right\")\n",
    "\n",
    "# Plot da Curva Precision-Recall\n",
    "ax2.plot(recall, precision, color='blue', lw=2, label=f'Curva P-R (AP = {pr_auc:.2f})')\n",
    "ax2.set_xlabel('Recall')\n",
    "ax2.set_ylabel('Precision')\n",
    "ax2.set_title('Curva Precision-Recall')\n",
    "ax2.legend(loc=\"lower left\")\n",
    "\n",
    "plt.tight_layout()\n",
    "plt.show()\n"
   ],
   "id": "c3ad3d235e8b8f52",
   "outputs": [
    {
     "data": {
      "text/plain": [
       "<Figure size 1600x600 with 2 Axes>"
      ],
      "image/png": "[encoded data removed]"
     },
     "metadata": {},
     "output_type": "display_data",
     "jetTransient": {
      "display_id": null
     }
    }
   ],
   "execution_count": 114
  },
  {
   "metadata": {},
   "cell_type": "markdown",
   "source": "### Etapa 9: Comparação de Modelos e Conclusão Final",
   "id": "f80c6ade49b63608"
  },
  {
   "metadata": {},
   "cell_type": "markdown",
   "source": [
    "Agora que treinamos três abordagens distintas (Baseline, AutoML e Deep Learning), podemos comparar seus resultados de forma objetiva. O foco da avaliação será na capacidade de prever a classe \"Falha\" (classe 1), utilizando as métricas de Precisão, Recall e F1-Score.\n",
    "\n",
    "#### 1. Tabela Comparativa de Desempenho no Conjunto de Teste\n",
    "\n",
    "| Modelo | Precisão (Falha) | Recall (Falha) | F1-Score (Falha) |\n",
    "| :--- | :---: | :---: | :---: |\n",
    "| **Random Forest (Baseline)** | 0.98 | 0.81 | 0.89 |\n",
    "| **Melhor Modelo (AutoML)** | 0.98 | 0.83 | 0.90 |\n",
    "| **LSTM (Deep Learning)** | 0.98 | 0.83 | 0.90 |\n",
    "| **Random Forest (Validação Cruzada Média)** | 0.98 | 0.83 | **0.90 ± 0.00** |\n",
    "\n",
    "*Valores extraídos dos relatórios de classificação das etapas 4, 6, 7 e 8.*\n"
   ],
   "id": "b4b1faf43cf00ad2"
  },
  {
   "metadata": {},
   "cell_type": "markdown",
   "source": [
    "#### 2. Análise Consolidada dos Resultados\n",
    "\n",
    "##### a) Comparação dos Modelos\n",
    "\n",
    "*   **Random Forest (Baseline):** O modelo inicial, mesmo sem otimização extensiva, já apresentou um desempenho excelente, com uma precisão de 98% e um recall de 81% para a classe de falha. Isso demonstra a força das features que foram criadas na etapa de engenharia.\n",
    "\n",
    "*   **AutoML e LSTM:** Ambas as abordagens mais avançadas apresentaram um desempenho praticamente idêntico e ligeiramente superior ao baseline. O principal ganho foi no **Recall**, que subiu de 0.81 para 0.83. Isso significa que os modelos otimizados conseguiram identificar corretamente 2% a mais das falhas reais, mantendo a mesma altíssima precisão. Em um cenário de previsão de falhas, um recall maior é extremamente valioso, pois significa menos falhas não detectadas.\n",
    "\n",
    "*   **Validação Cruzada (Etapa 8):** A validação cruzada confirmou a robustez do modelo. O F1-Score médio para a classe \"Falha\" se manteve em **0.90**, com um desvio padrão (`±`) muito baixo. Isso demonstra que o excelente desempenho não foi um acaso de uma única divisão de treino/teste, mas sim uma característica consistente do modelo.\n",
    "\n",
    "##### b) Análise das Curvas ROC e Precision-Recall (Etapa 8)\n",
    "\n",
    "As curvas geradas na Etapa 8 reforçam a qualidade do classificador. A **Curva ROC**, com uma área sob a curva (AUC) de **0.99**, e a **Curva Precision-Recall**, com uma pontuação de precisão média (AP) de **0.95**, indicam um modelo de altíssima performance. A curva P-R, em particular, mostra visualmente que o modelo consegue manter uma precisão elevada mesmo ao tentar alcançar um recall alto, um feito notável em datasets desbalanceados.\n",
    "\n",
    "##### b) Análise da Importância das Features (Etapa 5)\n",
    "\n",
    "O gráfico de \"Feature Importance\" do modelo Random Forest (Etapa 5) nos deu insights cruciais. As features mais importantes foram consistentemente relacionadas à **taxa de erro de bit (BER)**, especialmente o **desvio padrão (`BER_std`)** e a **média (`BER_mean`)** em diferentes janelas de tempo.\n",
    "\n",
    "Isso faz total sentido do ponto de vista técnico:\n",
    "*   Um **aumento na média do BER** indica uma degradação geral da qualidade do sinal.\n",
    "*   Um **aumento no desvio padrão do BER** indica instabilidade no sinal, que é um forte precursor de uma falha iminente.\n",
    "\n",
    "Features de `OSNR` também apareceram como relevantes, o que é esperado, mas o BER se mostrou o indicador predominante.\n"
   ],
   "id": "7d1a50301028bbea"
  },
  {
   "metadata": {},
   "cell_type": "markdown",
   "source": [
    "#### 3. Conclusão\n",
    "\n",
    "A engenharia de features, criando variáveis de janela deslizante e de tendência, foi o passo mais impactante para o sucesso dos modelos. O modelo de **Random Forest** já se mostrou uma solução robusta e de fácil implementação.\n",
    "\n",
    "As abordagens mais avançadas, como o uso de **SMOTE para balanceamento**, **AutoML para otimização** e **LSTM para modelagem sequencial**, refinaram o resultado e aumentaram a capacidade de detecção de falhas (recall), o que é crítico para um sistema de manutenção preditiva.\n",
    "\n",
    "A **Validação Cruzada Estratificada** (Etapa 8) comprovou que o desempenho do modelo é estável e confiável, não dependendo de uma divisão de dados específica.\n",
    "\n",
    "Para um ambiente de produção, o modelo encontrado pelo **AutoML** (neste caso, um `xgboost` ou `lgbm` otimizado) provavelmente seria a melhor escolha, pois oferece um equilíbrio ideal entre performance (superando o baseline) e eficiência de treinamento (sendo mais rápido que a abordagem de Deep Learning). A abordagem com LSTM, embora igualmente eficaz, exige maior custo computacional para treinamento e inferência.\n"
   ],
   "id": "adf2678f04cb8273"
  }
 ],
 "metadata": {
  "kernelspec": {
   "display_name": "Python 3",
   "language": "python",
   "name": "python3"
  },
  "language_info": {
   "codemirror_mode": {
    "name": "ipython",
    "version": 2
   },
   "file_extension": ".py",
   "mimetype": "text/x-python",
   "name": "python",
   "nbconvert_exporter": "python",
   "pygments_lexer": "ipython2",
   "version": "2.7.6"
  }
 },
 "nbformat": 4,
 "nbformat_minor": 5
}
