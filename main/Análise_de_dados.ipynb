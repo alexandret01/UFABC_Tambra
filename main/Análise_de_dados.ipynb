{
 "cells": [
  {
   "cell_type": "markdown",
   "id": "7457c320-5408-45fc-8f26-debd28dfc59d",
   "metadata": {},
   "source": [
    "### Bibliotecas"
   ]
  },
  {
   "cell_type": "code",
   "id": "9bcef52c-f112-4b2a-b0ba-228703fb71e2",
   "metadata": {
    "ExecuteTime": {
     "end_time": "2024-04-26T12:39:48.597610Z",
     "start_time": "2024-04-26T12:39:48.593988Z"
    }
   },
   "source": [
    "import pandas as pd\n",
    "import numpy as np\n",
    "import seaborn as sns\n",
    "import matplotlib.pyplot as plt\n",
    "from sklearn.metrics import (\n",
    "    mean_absolute_error,\n",
    "    mean_squared_error,\n",
    "    r2_score\n",
    ")\n",
    "from datetime import datetime\n",
    "import tensorflow as tf"
   ],
   "outputs": [],
   "execution_count": 13
  },
  {
   "cell_type": "markdown",
   "id": "2c115983-afb9-48a0-b084-cdd76357d118",
   "metadata": {},
   "source": [
    "### Carregando Dados"
   ]
  },
  {
   "cell_type": "code",
   "id": "a161d1aa-69c4-4a5d-9261-392912d2edd7",
   "metadata": {
    "ExecuteTime": {
     "end_time": "2024-04-26T12:39:48.848050Z",
     "start_time": "2024-04-26T12:39:48.804789Z"
    }
   },
   "source": [
    "df_sf = pd.read_csv(r'/home/alexandre/Downloads/UFABC_Tambra/Dados/SoftFailure_dataset.csv')"
   ],
   "outputs": [],
   "execution_count": 14
  },
  {
   "cell_type": "markdown",
   "id": "ae5581cf-8177-434e-814a-d3e2415a8492",
   "metadata": {},
   "source": [
    "### Preparação dos dados"
   ]
  },
  {
   "cell_type": "markdown",
   "id": "6517a69e-0d9f-4b60-b010-3e3e73771030",
   "metadata": {},
   "source": [
    "#### Conversão para datetime"
   ]
  },
  {
   "cell_type": "code",
   "id": "eb6c54e7-110e-4509-973f-df71d070f176",
   "metadata": {
    "ExecuteTime": {
     "end_time": "2024-04-26T12:39:49.517126Z",
     "start_time": "2024-04-26T12:39:48.849411Z"
    }
   },
   "source": [
    "df_sf['Timestamp_s'] = pd.to_datetime(df_sf.Timestamp,unit='s')#[[0]]\n",
    "df_sf['Timestamp_data'] = df_sf['Timestamp_s'].astype(str).str.split(expand=True)[0]\n",
    "df_sf['Timestamp_hora'] = df_sf['Timestamp_s'].astype(str).str.split(expand=True)[1]"
   ],
   "outputs": [],
   "execution_count": 15
  },
  {
   "cell_type": "markdown",
   "id": "c51dd9ed-5ee9-4259-b848-bba5d0b51222",
   "metadata": {},
   "source": [
    "#### Replice Failure - NaN = 0 "
   ]
  },
  {
   "cell_type": "code",
   "id": "8dbb2858-4fa0-4cc1-97b7-f63e4d537b76",
   "metadata": {
    "ExecuteTime": {
     "end_time": "2024-04-26T12:39:49.526040Z",
     "start_time": "2024-04-26T12:39:49.520029Z"
    }
   },
   "source": [
    "df_sf.Failure = df_sf.Failure.replace(np.NaN,0).astype(int)"
   ],
   "outputs": [],
   "execution_count": 16
  },
  {
   "cell_type": "markdown",
   "id": "7751e9e7-128c-468c-ba07-8312590d834f",
   "metadata": {},
   "source": [
    "### Exploração dos dados"
   ]
  },
  {
   "cell_type": "code",
   "id": "5f147481-7cff-47d0-bc61-d9646c046298",
   "metadata": {
    "ExecuteTime": {
     "end_time": "2024-04-26T12:39:49.542596Z",
     "start_time": "2024-04-26T12:39:49.527761Z"
    }
   },
   "source": [
    "df_sf.head()"
   ],
   "outputs": [
    {
     "data": {
      "text/plain": [
       "    Timestamp            Type          ID           BER  OSNR  InputPower  \\\n",
       "0  1624457562         Devices  SPO1/18/11  2.310000e-08  38.6         NaN   \n",
       "1  1624457562  Infrastructure      Ampli1           NaN   NaN       -19.2   \n",
       "2  1624457562         Devices  SPO2/18/11  1.720000e-07  25.8         NaN   \n",
       "3  1624457562  Infrastructure      Ampli3           NaN   NaN       -16.7   \n",
       "4  1624457562  Infrastructure      Ampli2           NaN   NaN       -15.5   \n",
       "\n",
       "   OutputPower  Failure         Timestamp_s Timestamp_data Timestamp_hora  \n",
       "0          NaN        0 2021-06-23 14:12:42     2021-06-23       14:12:42  \n",
       "1          0.7        0 2021-06-23 14:12:42     2021-06-23       14:12:42  \n",
       "2          NaN        0 2021-06-23 14:12:42     2021-06-23       14:12:42  \n",
       "3          0.8        0 2021-06-23 14:12:42     2021-06-23       14:12:42  \n",
       "4          0.4        0 2021-06-23 14:12:42     2021-06-23       14:12:42  "
      ],
      "text/html": [
       "<div>\n",
       "<style scoped>\n",
       "    .dataframe tbody tr th:only-of-type {\n",
       "        vertical-align: middle;\n",
       "    }\n",
       "\n",
       "    .dataframe tbody tr th {\n",
       "        vertical-align: top;\n",
       "    }\n",
       "\n",
       "    .dataframe thead th {\n",
       "        text-align: right;\n",
       "    }\n",
       "</style>\n",
       "<table border=\"1\" class=\"dataframe\">\n",
       "  <thead>\n",
       "    <tr style=\"text-align: right;\">\n",
       "      <th></th>\n",
       "      <th>Timestamp</th>\n",
       "      <th>Type</th>\n",
       "      <th>ID</th>\n",
       "      <th>BER</th>\n",
       "      <th>OSNR</th>\n",
       "      <th>InputPower</th>\n",
       "      <th>OutputPower</th>\n",
       "      <th>Failure</th>\n",
       "      <th>Timestamp_s</th>\n",
       "      <th>Timestamp_data</th>\n",
       "      <th>Timestamp_hora</th>\n",
       "    </tr>\n",
       "  </thead>\n",
       "  <tbody>\n",
       "    <tr>\n",
       "      <th>0</th>\n",
       "      <td>1624457562</td>\n",
       "      <td>Devices</td>\n",
       "      <td>SPO1/18/11</td>\n",
       "      <td>2.310000e-08</td>\n",
       "      <td>38.6</td>\n",
       "      <td>NaN</td>\n",
       "      <td>NaN</td>\n",
       "      <td>0</td>\n",
       "      <td>2021-06-23 14:12:42</td>\n",
       "      <td>2021-06-23</td>\n",
       "      <td>14:12:42</td>\n",
       "    </tr>\n",
       "    <tr>\n",
       "      <th>1</th>\n",
       "      <td>1624457562</td>\n",
       "      <td>Infrastructure</td>\n",
       "      <td>Ampli1</td>\n",
       "      <td>NaN</td>\n",
       "      <td>NaN</td>\n",
       "      <td>-19.2</td>\n",
       "      <td>0.7</td>\n",
       "      <td>0</td>\n",
       "      <td>2021-06-23 14:12:42</td>\n",
       "      <td>2021-06-23</td>\n",
       "      <td>14:12:42</td>\n",
       "    </tr>\n",
       "    <tr>\n",
       "      <th>2</th>\n",
       "      <td>1624457562</td>\n",
       "      <td>Devices</td>\n",
       "      <td>SPO2/18/11</td>\n",
       "      <td>1.720000e-07</td>\n",
       "      <td>25.8</td>\n",
       "      <td>NaN</td>\n",
       "      <td>NaN</td>\n",
       "      <td>0</td>\n",
       "      <td>2021-06-23 14:12:42</td>\n",
       "      <td>2021-06-23</td>\n",
       "      <td>14:12:42</td>\n",
       "    </tr>\n",
       "    <tr>\n",
       "      <th>3</th>\n",
       "      <td>1624457562</td>\n",
       "      <td>Infrastructure</td>\n",
       "      <td>Ampli3</td>\n",
       "      <td>NaN</td>\n",
       "      <td>NaN</td>\n",
       "      <td>-16.7</td>\n",
       "      <td>0.8</td>\n",
       "      <td>0</td>\n",
       "      <td>2021-06-23 14:12:42</td>\n",
       "      <td>2021-06-23</td>\n",
       "      <td>14:12:42</td>\n",
       "    </tr>\n",
       "    <tr>\n",
       "      <th>4</th>\n",
       "      <td>1624457562</td>\n",
       "      <td>Infrastructure</td>\n",
       "      <td>Ampli2</td>\n",
       "      <td>NaN</td>\n",
       "      <td>NaN</td>\n",
       "      <td>-15.5</td>\n",
       "      <td>0.4</td>\n",
       "      <td>0</td>\n",
       "      <td>2021-06-23 14:12:42</td>\n",
       "      <td>2021-06-23</td>\n",
       "      <td>14:12:42</td>\n",
       "    </tr>\n",
       "  </tbody>\n",
       "</table>\n",
       "</div>"
      ]
     },
     "execution_count": 17,
     "metadata": {},
     "output_type": "execute_result"
    }
   ],
   "execution_count": 17
  },
  {
   "cell_type": "code",
   "id": "a449850e-f93a-48ab-af6f-263e8fa32eda",
   "metadata": {
    "ExecuteTime": {
     "end_time": "2024-04-26T12:39:49.567139Z",
     "start_time": "2024-04-26T12:39:49.545132Z"
    }
   },
   "source": [
    "df_sf.info()"
   ],
   "outputs": [
    {
     "name": "stdout",
     "output_type": "stream",
     "text": [
      "<class 'pandas.core.frame.DataFrame'>\n",
      "RangeIndex: 53697 entries, 0 to 53696\n",
      "Data columns (total 11 columns):\n",
      " #   Column          Non-Null Count  Dtype         \n",
      "---  ------          --------------  -----         \n",
      " 0   Timestamp       53697 non-null  int64         \n",
      " 1   Type            53697 non-null  object        \n",
      " 2   ID              53697 non-null  object        \n",
      " 3   BER             17899 non-null  float64       \n",
      " 4   OSNR            17899 non-null  float64       \n",
      " 5   InputPower      35798 non-null  float64       \n",
      " 6   OutputPower     35798 non-null  float64       \n",
      " 7   Failure         53697 non-null  int64         \n",
      " 8   Timestamp_s     53697 non-null  datetime64[ns]\n",
      " 9   Timestamp_data  53697 non-null  object        \n",
      " 10  Timestamp_hora  53697 non-null  object        \n",
      "dtypes: datetime64[ns](1), float64(4), int64(2), object(4)\n",
      "memory usage: 4.5+ MB\n"
     ]
    }
   ],
   "execution_count": 18
  },
  {
   "cell_type": "code",
   "id": "4e143768-4985-451f-8948-d66e7220c9de",
   "metadata": {
    "ExecuteTime": {
     "end_time": "2024-04-26T12:39:49.620096Z",
     "start_time": "2024-04-26T12:39:49.568811Z"
    }
   },
   "source": [
    "df_sf.describe()"
   ],
   "outputs": [
    {
     "data": {
      "text/plain": [
       "          Timestamp           BER          OSNR    InputPower   OutputPower  \\\n",
       "count  5.369700e+04  1.789900e+04  17899.000000  35798.000000  35798.000000   \n",
       "mean   1.624472e+09  7.251164e-06     31.621493    -19.016101      0.647648   \n",
       "min    1.624458e+09  1.480000e-08     18.100000    -29.100000      0.400000   \n",
       "25%    1.624465e+09  2.240000e-08     25.300000    -22.875000      0.700000   \n",
       "50%    1.624472e+09  1.160000e-07     26.300000    -17.950000      0.700000   \n",
       "75%    1.624479e+09  2.190000e-07     38.600000    -16.700000      0.700000   \n",
       "max    1.624486e+09  1.544550e-04     38.600000    -15.500000      0.800000   \n",
       "std    8.339434e+03  3.160527e-05      7.076795      3.309115      0.148368   \n",
       "\n",
       "            Failure                    Timestamp_s  \n",
       "count  53697.000000                          53697  \n",
       "mean       0.095462  2021-06-23 18:13:34.512542720  \n",
       "min        0.000000            2021-06-23 14:12:42  \n",
       "25%        0.000000            2021-06-23 16:13:01  \n",
       "50%        0.000000            2021-06-23 18:13:41  \n",
       "75%        0.000000            2021-06-23 20:13:59  \n",
       "max        1.000000            2021-06-23 22:14:11  \n",
       "std        0.293854                            NaN  "
      ],
      "text/html": [
       "<div>\n",
       "<style scoped>\n",
       "    .dataframe tbody tr th:only-of-type {\n",
       "        vertical-align: middle;\n",
       "    }\n",
       "\n",
       "    .dataframe tbody tr th {\n",
       "        vertical-align: top;\n",
       "    }\n",
       "\n",
       "    .dataframe thead th {\n",
       "        text-align: right;\n",
       "    }\n",
       "</style>\n",
       "<table border=\"1\" class=\"dataframe\">\n",
       "  <thead>\n",
       "    <tr style=\"text-align: right;\">\n",
       "      <th></th>\n",
       "      <th>Timestamp</th>\n",
       "      <th>BER</th>\n",
       "      <th>OSNR</th>\n",
       "      <th>InputPower</th>\n",
       "      <th>OutputPower</th>\n",
       "      <th>Failure</th>\n",
       "      <th>Timestamp_s</th>\n",
       "    </tr>\n",
       "  </thead>\n",
       "  <tbody>\n",
       "    <tr>\n",
       "      <th>count</th>\n",
       "      <td>5.369700e+04</td>\n",
       "      <td>1.789900e+04</td>\n",
       "      <td>17899.000000</td>\n",
       "      <td>35798.000000</td>\n",
       "      <td>35798.000000</td>\n",
       "      <td>53697.000000</td>\n",
       "      <td>53697</td>\n",
       "    </tr>\n",
       "    <tr>\n",
       "      <th>mean</th>\n",
       "      <td>1.624472e+09</td>\n",
       "      <td>7.251164e-06</td>\n",
       "      <td>31.621493</td>\n",
       "      <td>-19.016101</td>\n",
       "      <td>0.647648</td>\n",
       "      <td>0.095462</td>\n",
       "      <td>2021-06-23 18:13:34.512542720</td>\n",
       "    </tr>\n",
       "    <tr>\n",
       "      <th>min</th>\n",
       "      <td>1.624458e+09</td>\n",
       "      <td>1.480000e-08</td>\n",
       "      <td>18.100000</td>\n",
       "      <td>-29.100000</td>\n",
       "      <td>0.400000</td>\n",
       "      <td>0.000000</td>\n",
       "      <td>2021-06-23 14:12:42</td>\n",
       "    </tr>\n",
       "    <tr>\n",
       "      <th>25%</th>\n",
       "      <td>1.624465e+09</td>\n",
       "      <td>2.240000e-08</td>\n",
       "      <td>25.300000</td>\n",
       "      <td>-22.875000</td>\n",
       "      <td>0.700000</td>\n",
       "      <td>0.000000</td>\n",
       "      <td>2021-06-23 16:13:01</td>\n",
       "    </tr>\n",
       "    <tr>\n",
       "      <th>50%</th>\n",
       "      <td>1.624472e+09</td>\n",
       "      <td>1.160000e-07</td>\n",
       "      <td>26.300000</td>\n",
       "      <td>-17.950000</td>\n",
       "      <td>0.700000</td>\n",
       "      <td>0.000000</td>\n",
       "      <td>2021-06-23 18:13:41</td>\n",
       "    </tr>\n",
       "    <tr>\n",
       "      <th>75%</th>\n",
       "      <td>1.624479e+09</td>\n",
       "      <td>2.190000e-07</td>\n",
       "      <td>38.600000</td>\n",
       "      <td>-16.700000</td>\n",
       "      <td>0.700000</td>\n",
       "      <td>0.000000</td>\n",
       "      <td>2021-06-23 20:13:59</td>\n",
       "    </tr>\n",
       "    <tr>\n",
       "      <th>max</th>\n",
       "      <td>1.624486e+09</td>\n",
       "      <td>1.544550e-04</td>\n",
       "      <td>38.600000</td>\n",
       "      <td>-15.500000</td>\n",
       "      <td>0.800000</td>\n",
       "      <td>1.000000</td>\n",
       "      <td>2021-06-23 22:14:11</td>\n",
       "    </tr>\n",
       "    <tr>\n",
       "      <th>std</th>\n",
       "      <td>8.339434e+03</td>\n",
       "      <td>3.160527e-05</td>\n",
       "      <td>7.076795</td>\n",
       "      <td>3.309115</td>\n",
       "      <td>0.148368</td>\n",
       "      <td>0.293854</td>\n",
       "      <td>NaN</td>\n",
       "    </tr>\n",
       "  </tbody>\n",
       "</table>\n",
       "</div>"
      ]
     },
     "execution_count": 19,
     "metadata": {},
     "output_type": "execute_result"
    }
   ],
   "execution_count": 19
  },
  {
   "cell_type": "code",
   "id": "f02ba5e3-915f-4922-bfd6-6947fcb98044",
   "metadata": {
    "ExecuteTime": {
     "end_time": "2024-04-26T12:39:49.640397Z",
     "start_time": "2024-04-26T12:39:49.621379Z"
    }
   },
   "source": [
    "df_sf.corr(numeric_only=True)"
   ],
   "outputs": [
    {
     "data": {
      "text/plain": [
       "             Timestamp       BER      OSNR  InputPower  OutputPower   Failure\n",
       "Timestamp     1.000000  0.180563 -0.037079   -0.050614    -0.013532  0.257395\n",
       "BER           0.180563  1.000000 -0.424597         NaN          NaN  0.636417\n",
       "OSNR         -0.037079 -0.424597  1.000000         NaN          NaN -0.131970\n",
       "InputPower   -0.050614       NaN       NaN    1.000000    -0.428753 -0.209096\n",
       "OutputPower  -0.013532       NaN       NaN   -0.428753     1.000000 -0.048795\n",
       "Failure       0.257395  0.636417 -0.131970   -0.209096    -0.048795  1.000000"
      ],
      "text/html": [
       "<div>\n",
       "<style scoped>\n",
       "    .dataframe tbody tr th:only-of-type {\n",
       "        vertical-align: middle;\n",
       "    }\n",
       "\n",
       "    .dataframe tbody tr th {\n",
       "        vertical-align: top;\n",
       "    }\n",
       "\n",
       "    .dataframe thead th {\n",
       "        text-align: right;\n",
       "    }\n",
       "</style>\n",
       "<table border=\"1\" class=\"dataframe\">\n",
       "  <thead>\n",
       "    <tr style=\"text-align: right;\">\n",
       "      <th></th>\n",
       "      <th>Timestamp</th>\n",
       "      <th>BER</th>\n",
       "      <th>OSNR</th>\n",
       "      <th>InputPower</th>\n",
       "      <th>OutputPower</th>\n",
       "      <th>Failure</th>\n",
       "    </tr>\n",
       "  </thead>\n",
       "  <tbody>\n",
       "    <tr>\n",
       "      <th>Timestamp</th>\n",
       "      <td>1.000000</td>\n",
       "      <td>0.180563</td>\n",
       "      <td>-0.037079</td>\n",
       "      <td>-0.050614</td>\n",
       "      <td>-0.013532</td>\n",
       "      <td>0.257395</td>\n",
       "    </tr>\n",
       "    <tr>\n",
       "      <th>BER</th>\n",
       "      <td>0.180563</td>\n",
       "      <td>1.000000</td>\n",
       "      <td>-0.424597</td>\n",
       "      <td>NaN</td>\n",
       "      <td>NaN</td>\n",
       "      <td>0.636417</td>\n",
       "    </tr>\n",
       "    <tr>\n",
       "      <th>OSNR</th>\n",
       "      <td>-0.037079</td>\n",
       "      <td>-0.424597</td>\n",
       "      <td>1.000000</td>\n",
       "      <td>NaN</td>\n",
       "      <td>NaN</td>\n",
       "      <td>-0.131970</td>\n",
       "    </tr>\n",
       "    <tr>\n",
       "      <th>InputPower</th>\n",
       "      <td>-0.050614</td>\n",
       "      <td>NaN</td>\n",
       "      <td>NaN</td>\n",
       "      <td>1.000000</td>\n",
       "      <td>-0.428753</td>\n",
       "      <td>-0.209096</td>\n",
       "    </tr>\n",
       "    <tr>\n",
       "      <th>OutputPower</th>\n",
       "      <td>-0.013532</td>\n",
       "      <td>NaN</td>\n",
       "      <td>NaN</td>\n",
       "      <td>-0.428753</td>\n",
       "      <td>1.000000</td>\n",
       "      <td>-0.048795</td>\n",
       "    </tr>\n",
       "    <tr>\n",
       "      <th>Failure</th>\n",
       "      <td>0.257395</td>\n",
       "      <td>0.636417</td>\n",
       "      <td>-0.131970</td>\n",
       "      <td>-0.209096</td>\n",
       "      <td>-0.048795</td>\n",
       "      <td>1.000000</td>\n",
       "    </tr>\n",
       "  </tbody>\n",
       "</table>\n",
       "</div>"
      ]
     },
     "execution_count": 20,
     "metadata": {},
     "output_type": "execute_result"
    }
   ],
   "execution_count": 20
  },
  {
   "cell_type": "code",
   "id": "0771ce5d-d72e-457e-96ec-d84582026a8f",
   "metadata": {
    "ExecuteTime": {
     "end_time": "2024-04-26T12:39:49.650563Z",
     "start_time": "2024-04-26T12:39:49.642112Z"
    }
   },
   "source": [
    "df_sf.Type.unique()"
   ],
   "outputs": [
    {
     "data": {
      "text/plain": [
       "array(['Devices', 'Infrastructure'], dtype=object)"
      ]
     },
     "execution_count": 21,
     "metadata": {},
     "output_type": "execute_result"
    }
   ],
   "execution_count": 21
  },
  {
   "cell_type": "code",
   "id": "deac8896-3588-412a-b65d-644d916fe9ff",
   "metadata": {
    "ExecuteTime": {
     "end_time": "2024-04-26T12:39:49.658552Z",
     "start_time": "2024-04-26T12:39:49.651791Z"
    }
   },
   "source": [
    "df_sf.ID.unique()"
   ],
   "outputs": [
    {
     "data": {
      "text/plain": [
       "array(['SPO1/18/11', 'Ampli1', 'SPO2/18/11', 'Ampli3', 'Ampli2', 'Ampli4'],\n",
       "      dtype=object)"
      ]
     },
     "execution_count": 22,
     "metadata": {},
     "output_type": "execute_result"
    }
   ],
   "execution_count": 22
  },
  {
   "cell_type": "markdown",
   "id": "cc434931-981c-4699-9918-a595891844a6",
   "metadata": {},
   "source": [
    "### Exploração dos dados"
   ]
  },
  {
   "cell_type": "code",
   "id": "d28a6b72-a943-40d0-95ec-36220f1eb338",
   "metadata": {
    "ExecuteTime": {
     "end_time": "2024-04-26T12:39:49.661671Z",
     "start_time": "2024-04-26T12:39:49.659643Z"
    }
   },
   "source": [],
   "outputs": [],
   "execution_count": 22
  },
  {
   "cell_type": "code",
   "id": "f211edda-f2c9-4862-882e-14c174ae4f07",
   "metadata": {
    "ExecuteTime": {
     "end_time": "2024-04-26T12:39:49.667162Z",
     "start_time": "2024-04-26T12:39:49.664142Z"
    }
   },
   "source": [],
   "outputs": [],
   "execution_count": 22
  },
  {
   "metadata": {
    "ExecuteTime": {
     "end_time": "2024-04-26T12:39:49.671982Z",
     "start_time": "2024-04-26T12:39:49.668595Z"
    }
   },
   "cell_type": "code",
   "source": "",
   "id": "fb44b86f16ca6320",
   "outputs": [],
   "execution_count": 22
  },
  {
   "metadata": {
    "ExecuteTime": {
     "end_time": "2024-04-26T12:39:49.676379Z",
     "start_time": "2024-04-26T12:39:49.674073Z"
    }
   },
   "cell_type": "code",
   "source": "",
   "id": "c9748ae29df2e839",
   "outputs": [],
   "execution_count": 22
  },
  {
   "metadata": {
    "ExecuteTime": {
     "end_time": "2024-04-26T12:39:49.680204Z",
     "start_time": "2024-04-26T12:39:49.677973Z"
    }
   },
   "cell_type": "code",
   "source": "",
   "id": "49929210b01052b2",
   "outputs": [],
   "execution_count": 22
  }
 ],
 "metadata": {
  "kernelspec": {
   "display_name": "Python 3 (ipykernel)",
   "language": "python",
   "name": "python3"
  },
  "language_info": {
   "codemirror_mode": {
    "name": "ipython",
    "version": 3
   },
   "file_extension": ".py",
   "mimetype": "text/x-python",
   "name": "python",
   "nbconvert_exporter": "python",
   "pygments_lexer": "ipython3",
   "version": "3.11.8"
  }
 },
 "nbformat": 4,
 "nbformat_minor": 5
}
